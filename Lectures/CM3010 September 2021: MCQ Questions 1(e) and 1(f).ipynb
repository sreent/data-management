{
  "nbformat": 4,
  "nbformat_minor": 0,
  "metadata": {
    "colab": {
      "provenance": [],
      "authorship_tag": "ABX9TyOywevSnj1xl2AK3EgFXpRD",
      "include_colab_link": true
    },
    "kernelspec": {
      "name": "python3",
      "display_name": "Python 3"
    },
    "language_info": {
      "name": "python"
    }
  },
  "cells": [
    {
      "cell_type": "markdown",
      "metadata": {
        "id": "view-in-github",
        "colab_type": "text"
      },
      "source": [
        "<a href=\"https://colab.research.google.com/github/sreent/data-management-intro/blob/main/Lectures/CM3010%20September%202021%3A%20MCQ%20Questions%201(e)%20and%201(f).ipynb\" target=\"_parent\"><img src=\"https://colab.research.google.com/assets/colab-badge.svg\" alt=\"Open In Colab\"/></a>"
      ]
    },
    {
      "cell_type": "code",
      "execution_count": null,
      "metadata": {
        "id": "DDC7Ab2oQjHn"
      },
      "outputs": [],
      "source": []
    },
    {
      "cell_type": "markdown",
      "source": [
        "# Exploring the Movie XML Questions\n",
        "\n",
        "This notebook demonstrates:\n",
        "\n",
        "- **Why** the sample `movies.xml` is *not well-formed*.\n",
        "- **How** to parse the XML and see the error.\n",
        "- **Comparing** well-formedness vs. schema validity (with `movies.xsd`)."
      ],
      "metadata": {
        "id": "Hd6FjpzRQkVa"
      }
    },
    {
      "cell_type": "markdown",
      "source": [
        "\n",
        "## 1) The XML Snippet (movies.xml)\n",
        "\n",
        "```xml\n",
        "<movie>\n",
        "  <title>Citizen Kane</title>\n",
        "  <cast>\n",
        "    <actor>Orson Welles</actor>\n",
        "    <actor role=\"Jebediah Leland\">Joseph Cotton</actor>\n",
        "</movie>\n",
        "```\n",
        "\n",
        "*Observing the code, we see it is missing `</cast>`.*\n",
        "\n",
        "**Question (e):** “Look at the data and associated XML schema fragments below. The XML below is not well‐formed. Why not?”\n",
        "\n",
        "**Short Answer:** The `<cast>` element is not closed. That alone breaks well‐formedness."
      ],
      "metadata": {
        "id": "QiC96SxYQ19D"
      }
    },
    {
      "cell_type": "markdown",
      "source": [
        "## Let’s Try Parsing This XML With `lxml`"
      ],
      "metadata": {
        "id": "sQjt6ik8Q78b"
      }
    },
    {
      "cell_type": "code",
      "source": [
        "!pip install lxml\n",
        "\n",
        "from lxml import etree"
      ],
      "metadata": {
        "colab": {
          "base_uri": "https://localhost:8080/"
        },
        "id": "OpE5OxPoQrvK",
        "outputId": "38770182-62e0-417b-b580-2984fd23a3b4"
      },
      "execution_count": 1,
      "outputs": [
        {
          "output_type": "stream",
          "name": "stdout",
          "text": [
            "Requirement already satisfied: lxml in /usr/local/lib/python3.11/dist-packages (5.3.0)\n"
          ]
        }
      ]
    },
    {
      "cell_type": "code",
      "source": [
        "# We'll store the snippet in a variable\n",
        "xml_snippet = \"\"\"\n",
        "<movie>\n",
        "  <title>Citizen Kane</title>\n",
        "  <cast>\n",
        "    <actor>Orson Welles</actor>\n",
        "    <actor role=\"Jebediah Leland\">Joseph Cotton</actor>\n",
        "</movie>\n",
        "\"\"\"\n",
        "\n",
        "try:\n",
        "    root = etree.fromstring(xml_snippet)\n",
        "    print(\"This should never print, because we expect an error about unclosed <cast>.\")\n",
        "except etree.XMLSyntaxError as e:\n",
        "    print(\"XMLSyntaxError caught!\")\n",
        "    print(\"Reason:\", e)"
      ],
      "metadata": {
        "colab": {
          "base_uri": "https://localhost:8080/"
        },
        "id": "AsC8z88IRCkU",
        "outputId": "6e53843b-2401-4e0c-c3de-15218bd3b9cc"
      },
      "execution_count": 2,
      "outputs": [
        {
          "output_type": "stream",
          "name": "stdout",
          "text": [
            "XMLSyntaxError caught!\n",
            "Reason: Opening and ending tag mismatch: cast line 4 and movie, line 7, column 9 (<string>, line 7)\n"
          ]
        }
      ]
    },
    {
      "cell_type": "markdown",
      "source": [
        "**Explanation**  \n",
        "- The parser immediately complains because `<cast>` never has a matching `</cast>` tag, violating well‐formedness."
      ],
      "metadata": {
        "id": "YaB_--KtRJIs"
      }
    },
    {
      "cell_type": "markdown",
      "source": [
        "### 2) Well-Formedness Explanation\n",
        "\n",
        "An XML document is well-formed if:\n",
        "\n",
        "1. Every start-tag has a matching end-tag.\n",
        "2. Elements properly nest (no overlapping).\n",
        "3. Exactly one root element, etc.\n",
        "\n",
        "**In our snippet**:  \n",
        "- `<cast>` is never properly closed with `</cast>`, hence it is not well-formed."
      ],
      "metadata": {
        "id": "wLmt85DPRV0F"
      }
    },
    {
      "cell_type": "markdown",
      "source": [
        "## 3) The Provided movies.xsd\n",
        "\n",
        "```xml\n",
        "<xs:element name=\"movie\">\n",
        "  <xs:complexType>\n",
        "    <xs:all maxOccurs=\"unbounded\">\n",
        "      <xs:element ref=\"cast\"/>\n",
        "      <xs:element ref=\"releaseYear\"/>\n",
        "      <xs:element ref=\"title\"/>\n",
        "    </xs:all>\n",
        "  </xs:complexType>\n",
        "</xs:element>\n",
        "\n",
        "<xs:element name=\"cast\">\n",
        "  <xs:complexType>\n",
        "    <xs:sequence>\n",
        "      <xs:element maxOccurs=\"unbounded\" ref=\"actor\"/>\n",
        "    </xs:sequence>\n",
        "  </xs:complexType>\n",
        "</xs:element>\n",
        "\n",
        "<xs:element name=\"actor\">\n",
        "  <xs:complexType mixed=\"true\">\n",
        "    <xs:attribute name=\"role\"/>\n",
        "  </xs:complexType>\n",
        "</xs:element>\n",
        "\n",
        "<xs:element name=\"releaseYear\" type=\"xs:integer\"/>\n",
        "<xs:element name=\"title\">\n",
        "  <xs:complexType mixed=\"true\">\n",
        "    <xs:attribute name=\"lang\" use=\"required\"/>\n",
        "  </xs:complexType>\n",
        "</xs:element>\n",
        "```\n",
        "\n",
        "**Observations**:\n",
        "- The `<title>` must have a `lang` attribute (use=\"required\"), so if it’s missing, that breaks *validity* (but not necessarily well-formedness).\n",
        "- The schema also expects a `<releaseYear>` element, so omitting that also breaks *validity*."
      ],
      "metadata": {
        "id": "cDqgWruPRZ8P"
      }
    },
    {
      "cell_type": "markdown",
      "source": [
        "Here we show what *would* happen if the XML was well-formed but still might fail **schema** validation."
      ],
      "metadata": {
        "id": "vVSyJhjrRpQ1"
      }
    },
    {
      "cell_type": "code",
      "source": [
        "# Let's define a corrected but incomplete XML:\n",
        "corrected_xml = \"\"\"\n",
        "<movie>\n",
        "  <title lang=\"en\">Citizen Kane</title>\n",
        "  <cast>\n",
        "    <actor>Orson Welles</actor>\n",
        "    <actor role=\"Jebediah Leland\">Joseph Cotton</actor>\n",
        "  </cast>\n",
        "</movie>\n",
        "\"\"\"\n",
        "\n",
        "xsd_content = \"\"\"\n",
        "<xsd:schema xmlns:xsd=\"http://www.w3.org/2001/XMLSchema\"\n",
        "  elementFormDefault=\"qualified\">\n",
        "\n",
        "  <xsd:element name=\"movie\">\n",
        "    <xsd:complexType>\n",
        "      <xsd:all maxOccurs=\"unbounded\">\n",
        "        <xsd:element ref=\"cast\"/>\n",
        "        <xsd:element ref=\"releaseYear\"/>\n",
        "        <xsd:element ref=\"title\"/>\n",
        "      </xsd:all>\n",
        "    </xsd:complexType>\n",
        "  </xsd:element>\n",
        "\n",
        "  <xsd:element name=\"cast\">\n",
        "    <xsd:complexType>\n",
        "      <xsd:sequence>\n",
        "        <xsd:element ref=\"actor\" maxOccurs=\"unbounded\"/>\n",
        "      </xsd:sequence>\n",
        "    </xsd:complexType>\n",
        "  </xsd:element>\n",
        "\n",
        "  <xsd:element name=\"actor\">\n",
        "    <xsd:complexType mixed=\"true\">\n",
        "      <xsd:attribute name=\"role\"/>\n",
        "    </xsd:complexType>\n",
        "  </xsd:element>\n",
        "\n",
        "  <xsd:element name=\"releaseYear\" type=\"xsd:integer\"/>\n",
        "  <xsd:element name=\"title\">\n",
        "    <xsd:complexType mixed=\"true\">\n",
        "      <xsd:attribute name=\"lang\" use=\"required\"/>\n",
        "    </xsd:complexType>\n",
        "  </xsd:element>\n",
        "\n",
        "</xsd:schema>\n",
        "\"\"\""
      ],
      "metadata": {
        "id": "R4DutyTRRK_C"
      },
      "execution_count": 3,
      "outputs": []
    },
    {
      "cell_type": "code",
      "source": [
        "from lxml import etree\n",
        "\n",
        "# Parse the corrected XML\n",
        "xml_doc = etree.fromstring(corrected_xml)\n",
        "\n",
        "# Parse the XSD\n",
        "xsd_doc = etree.fromstring(xsd_content)\n",
        "schema = etree.XMLSchema(xsd_doc)\n",
        "\n",
        "# Now let's see if it is valid\n",
        "if schema.validate(xml_doc):\n",
        "    print(\"XML is valid according to movies.xsd!\")\n",
        "else:\n",
        "    print(\"XML is NOT valid according to movies.xsd.\")\n",
        "    for error in schema.error_log:\n",
        "        print(error.message)"
      ],
      "metadata": {
        "colab": {
          "base_uri": "https://localhost:8080/",
          "height": 269
        },
        "id": "scdFnSKrRtWM",
        "outputId": "4eb3c159-9d26-4b08-b0f4-4acfd3c4cdd6"
      },
      "execution_count": 4,
      "outputs": [
        {
          "output_type": "error",
          "ename": "XMLSchemaParseError",
          "evalue": "Element '{http://www.w3.org/2001/XMLSchema}all', attribute 'maxOccurs': The value 'unbounded' is not valid. Expected is '1'., line 7",
          "traceback": [
            "\u001b[0;31m---------------------------------------------------------------------------\u001b[0m",
            "\u001b[0;31mXMLSchemaParseError\u001b[0m                       Traceback (most recent call last)",
            "\u001b[0;32m<ipython-input-4-3444dbdd91a5>\u001b[0m in \u001b[0;36m<cell line: 0>\u001b[0;34m()\u001b[0m\n\u001b[1;32m      6\u001b[0m \u001b[0;31m# Parse the XSD\u001b[0m\u001b[0;34m\u001b[0m\u001b[0;34m\u001b[0m\u001b[0m\n\u001b[1;32m      7\u001b[0m \u001b[0mxsd_doc\u001b[0m \u001b[0;34m=\u001b[0m \u001b[0metree\u001b[0m\u001b[0;34m.\u001b[0m\u001b[0mfromstring\u001b[0m\u001b[0;34m(\u001b[0m\u001b[0mxsd_content\u001b[0m\u001b[0;34m)\u001b[0m\u001b[0;34m\u001b[0m\u001b[0;34m\u001b[0m\u001b[0m\n\u001b[0;32m----> 8\u001b[0;31m \u001b[0mschema\u001b[0m \u001b[0;34m=\u001b[0m \u001b[0metree\u001b[0m\u001b[0;34m.\u001b[0m\u001b[0mXMLSchema\u001b[0m\u001b[0;34m(\u001b[0m\u001b[0mxsd_doc\u001b[0m\u001b[0;34m)\u001b[0m\u001b[0;34m\u001b[0m\u001b[0;34m\u001b[0m\u001b[0m\n\u001b[0m\u001b[1;32m      9\u001b[0m \u001b[0;34m\u001b[0m\u001b[0m\n\u001b[1;32m     10\u001b[0m \u001b[0;31m# Now let's see if it is valid\u001b[0m\u001b[0;34m\u001b[0m\u001b[0;34m\u001b[0m\u001b[0m\n",
            "\u001b[0;32msrc/lxml/xmlschema.pxi\u001b[0m in \u001b[0;36mlxml.etree.XMLSchema.__init__\u001b[0;34m()\u001b[0m\n",
            "\u001b[0;31mXMLSchemaParseError\u001b[0m: Element '{http://www.w3.org/2001/XMLSchema}all', attribute 'maxOccurs': The value 'unbounded' is not valid. Expected is '1'., line 7"
          ]
        }
      ]
    },
    {
      "cell_type": "code",
      "source": [
        "xsd_content = \"\"\"\n",
        "<xsd:schema xmlns:xsd=\"http://www.w3.org/2001/XMLSchema\"\n",
        "  elementFormDefault=\"qualified\">\n",
        "\n",
        "  <xsd:element name=\"movie\">\n",
        "    <xsd:complexType>\n",
        "      <xsd:sequence maxOccurs=\"unbounded\">\n",
        "        <xsd:element ref=\"cast\"/>\n",
        "        <xsd:element ref=\"releaseYear\"/>\n",
        "        <xsd:element ref=\"title\"/>\n",
        "      </xsd:sequence>\n",
        "    </xsd:complexType>\n",
        "  </xsd:element>\n",
        "\n",
        "  <xsd:element name=\"cast\">\n",
        "    <xsd:complexType>\n",
        "      <xsd:sequence>\n",
        "        <xsd:element ref=\"actor\" maxOccurs=\"unbounded\"/>\n",
        "      </xsd:sequence>\n",
        "    </xsd:complexType>\n",
        "  </xsd:element>\n",
        "\n",
        "  <xsd:element name=\"actor\">\n",
        "    <xsd:complexType mixed=\"true\">\n",
        "      <xsd:attribute name=\"role\"/>\n",
        "    </xsd:complexType>\n",
        "  </xsd:element>\n",
        "\n",
        "  <xsd:element name=\"releaseYear\" type=\"xsd:integer\"/>\n",
        "  <xsd:element name=\"title\">\n",
        "    <xsd:complexType mixed=\"true\">\n",
        "      <xsd:attribute name=\"lang\" use=\"required\"/>\n",
        "    </xsd:complexType>\n",
        "  </xsd:element>\n",
        "\n",
        "</xsd:schema>\n",
        "\"\"\""
      ],
      "metadata": {
        "id": "euPFq4lxTGlI"
      },
      "execution_count": 5,
      "outputs": []
    },
    {
      "cell_type": "code",
      "source": [
        "# Parse the XSD\n",
        "xsd_doc = etree.fromstring(xsd_content)\n",
        "schema = etree.XMLSchema(xsd_doc)\n",
        "\n",
        "# Now let's see if it is valid\n",
        "if schema.validate(xml_doc):\n",
        "    print(\"XML is valid according to movies.xsd!\")\n",
        "else:\n",
        "    print(\"XML is NOT valid according to movies.xsd.\")\n",
        "    for error in schema.error_log:\n",
        "        print(error.message)"
      ],
      "metadata": {
        "colab": {
          "base_uri": "https://localhost:8080/"
        },
        "id": "b9QfzmfBTSto",
        "outputId": "6a1d76af-2657-49a3-e841-91d9c8127264"
      },
      "execution_count": 6,
      "outputs": [
        {
          "output_type": "stream",
          "name": "stdout",
          "text": [
            "XML is NOT valid according to movies.xsd.\n",
            "Element 'title': This element is not expected. Expected is ( cast ).\n"
          ]
        }
      ]
    },
    {
      "cell_type": "markdown",
      "source": [
        "**Explanation**  \n",
        "- We made the XML well-formed by closing `<cast>` and adding `title lang=\"en\"`.\n",
        "- However, we did *not* include `<releaseYear>`. The schema demands it. So we expect the validation to fail, complaining about a missing `releaseYear`."
      ],
      "metadata": {
        "id": "roKlCrXsRxhH"
      }
    },
    {
      "cell_type": "markdown",
      "source": [
        "### Summaries\n",
        "\n",
        "**(e) Why is the original snippet not well-formed?**\n",
        "- Because `<cast>` is not closed.\n",
        "\n",
        "**(f) Why is the XML not valid (excluding the well-formedness problem)?**\n",
        "- The schema requires a `<title>` element with a `lang` attribute (which was missing originally).\n",
        "- The schema also requires a `<releaseYear>` element.\n",
        "- Additional minor points like the presence or order of elements if `<xs:all>` or `<xs:sequence>` is used.\n",
        "\n",
        "Hence, those are the reasons for:\n",
        "\n",
        "- Not well-formed: unclosed `<cast>` tag.\n",
        "- Not valid: missing required fields (releaseYear, title@lang) or any other rule from `movies.xsd`."
      ],
      "metadata": {
        "id": "zpu7FgODR0os"
      }
    },
    {
      "cell_type": "code",
      "source": [],
      "metadata": {
        "id": "t_3AkEUSRzNZ"
      },
      "execution_count": null,
      "outputs": []
    }
  ]
}