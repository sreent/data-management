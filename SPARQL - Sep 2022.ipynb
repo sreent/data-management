{
  "nbformat": 4,
  "nbformat_minor": 0,
  "metadata": {
    "colab": {
      "provenance": [],
      "include_colab_link": true
    },
    "kernelspec": {
      "display_name": "Python 3",
      "language": "python",
      "name": "python3"
    }
  },
  "cells": [
    {
      "cell_type": "markdown",
      "metadata": {
        "id": "view-in-github",
        "colab_type": "text"
      },
      "source": [
        "<a href=\"https://colab.research.google.com/github/sreent/data-management-intro/blob/main/SPARQL%20-%20Sep%202022.ipynb\" target=\"_parent\"><img src=\"https://colab.research.google.com/assets/colab-badge.svg\" alt=\"Open In Colab\"/></a>"
      ]
    },
    {
      "metadata": {
        "id": "vM6ta952S2z2"
      },
      "cell_type": "markdown",
      "source": [
        "# 1. Introduction to RDF and SPARQL\n",
        "RDF (Resource Description Framework) is a standard model for data interchange on the web. SPARQL is a query language for RDF. This lab will introduce the basics of RDF, how to create RDF data in Turtle format, and how to query it using SPARQL.\n"
      ]
    },
    {
      "cell_type": "markdown",
      "source": [
        "# 2. Setting Up the Environment\n",
        "\n",
        "First, we need to install the `rdflib` library, which provides tools for working with RDF data in Python.\n"
      ],
      "metadata": {
        "id": "0LGk4rAcB7YK"
      }
    },
    {
      "cell_type": "code",
      "source": [
        "# Install rdflib library\n",
        "!pip install rdflib"
      ],
      "metadata": {
        "id": "zgXgWsKqFlWM"
      },
      "execution_count": null,
      "outputs": []
    },
    {
      "cell_type": "markdown",
      "source": [
        "We also need to import necessary modules."
      ],
      "metadata": {
        "id": "nxFFaZ5KKWR1"
      }
    },
    {
      "cell_type": "code",
      "source": [
        "# Import necessary modules\n",
        "from rdflib import Graph, Literal, RDF, URIRef, Namespace\n",
        "from rdflib.namespace import FOAF, XSD, DC"
      ],
      "metadata": {
        "id": "2KLaaodNKXZd"
      },
      "execution_count": null,
      "outputs": []
    },
    {
      "cell_type": "markdown",
      "source": [
        "# Use Case 1: Basic RDF and SPARQL\n",
        "\n",
        "# 3. Creating and Saving RDF Turtle Document\n",
        "\n",
        "We will create a simple RDF Turtle document and save it using the `%%writefile` magic cell.\n"
      ],
      "metadata": {
        "id": "f8wxprLvCP5E"
      }
    },
    {
      "cell_type": "code",
      "source": [
        "%%writefile data.ttl\n",
        "@prefix dcterms: <http://purl.org/dc/terms/> .\n",
        "@prefix foaf: <http://xmlns.com/foaf/0.1/> .\n",
        "@prefix oa: <http://www.w3.org/ns/oa#> .\n",
        "@prefix rdf: <http://www.w3.org/1999/02/22-rdf-syntax-ns#> .\n",
        "@prefix xsd: <http://www.w3.org/2001/XMLSchema#> .\n",
        "@prefix myrdf: <http://example.org/> .\n",
        "@prefix armadale: <https://literary-greats.com/WCollins/Armadale/> .\n",
        "\n",
        "myrdf:anno-001 a oa:Annotation ;\n",
        "    dcterms:created \"2015-10-13T13:00:00+00:00\"^^xsd:dateTime ;\n",
        "    dcterms:creator myrdf:DL192 ;\n",
        "    oa:hasBody [\n",
        "        a oa:TextualBody ;\n",
        "        rdf:value \"Note the use of visual language here.\"\n",
        "    ] ;\n",
        "    oa:hasTarget [\n",
        "        a oa:SpecificResource ;\n",
        "        oa:hasSelector [\n",
        "            a oa:TextPositionSelector ;\n",
        "            oa:start \"235\"^^xsd:nonNegativeInteger ;\n",
        "            oa:end \"300\"^^xsd:nonNegativeInteger\n",
        "        ] ;\n",
        "        oa:hasSource <https://literary-greats.com/WCollins/Armadale/Chapter3> ;\n",
        "        oa:motivatedBy oa:commenting\n",
        "    ] .\n",
        "\n",
        "myrdf:DL192 a foaf:Person ;\n",
        "    foaf:name \"David Lewis\" ."
      ],
      "metadata": {
        "id": "J8U76XcPCQTe"
      },
      "execution_count": null,
      "outputs": []
    },
    {
      "cell_type": "markdown",
      "source": [
        "# 4. Loading RDF Turtle Document\n",
        "\n",
        "We can load RDF data from the Turtle document directly into an RDF graph."
      ],
      "metadata": {
        "id": "ncr8F5pRCbmb"
      }
    },
    {
      "cell_type": "code",
      "source": [
        "# Create a new RDF graph\n",
        "g = Graph()\n",
        "\n",
        "# Load the Turtle data from the file\n",
        "g.parse('data.ttl', format='turtle')\n",
        "\n",
        "# Verify the graph contents\n",
        "for stmt in g:\n",
        "    print(stmt)"
      ],
      "metadata": {
        "id": "f2q4bBmFNQuA"
      },
      "execution_count": null,
      "outputs": []
    },
    {
      "cell_type": "markdown",
      "source": [
        "# 5. Querying RDF Data with SPARQL\n",
        "\n",
        "We will use SPARQL to query the RDF data we loaded.\n"
      ],
      "metadata": {
        "id": "zi7YksTPGlBH"
      }
    },
    {
      "cell_type": "code",
      "source": [
        "# Define a SPARQL query\n",
        "query = \"\"\"\n",
        "SELECT ?creatorName ?bodyText\n",
        "WHERE {\n",
        "  ?annotation a oa:Annotation ;\n",
        "              dcterms:creator ?creator ;\n",
        "              oa:hasBody ?body ;\n",
        "              oa:hasTarget [\n",
        "                oa:hasSource <https://literary-greats.com/WCollins/Armadale/Chapter3>\n",
        "              ] .\n",
        "  ?creator foaf:name ?creatorName .\n",
        "  ?body rdf:value ?bodyText .\n",
        "}\n",
        "\"\"\"\n",
        "\n",
        "# Execute the query on the loaded graph\n",
        "qres = g.query(query)\n",
        "\n",
        "# Print the results\n",
        "for row in qres:\n",
        "    print(f\"{row.creatorName}, {row.bodyText}\")"
      ],
      "metadata": {
        "id": "itVBhf6uGm3f"
      },
      "execution_count": null,
      "outputs": []
    },
    {
      "cell_type": "code",
      "source": [],
      "metadata": {
        "id": "KlRYgImOcG0J"
      },
      "execution_count": null,
      "outputs": []
    }
  ]
}