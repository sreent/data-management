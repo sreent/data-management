{
  "nbformat": 4,
  "nbformat_minor": 0,
  "metadata": {
    "colab": {
      "provenance": [],
      "include_colab_link": true
    },
    "kernelspec": {
      "display_name": "Python 3",
      "language": "python",
      "name": "python3"
    }
  },
  "cells": [
    {
      "cell_type": "markdown",
      "metadata": {
        "id": "view-in-github",
        "colab_type": "text"
      },
      "source": [
        "<a href=\"https://colab.research.google.com/github/sreent/data-management-intro/blob/main/SPARQL%20Hand-On%20Lab%20-%20Solutions.ipynb\" target=\"_parent\"><img src=\"https://colab.research.google.com/assets/colab-badge.svg\" alt=\"Open In Colab\"/></a>"
      ]
    },
    {
      "metadata": {
        "id": "vM6ta952S2z2"
      },
      "cell_type": "markdown",
      "source": [
        "# 1. Introduction to RDF and SPARQL\n",
        "RDF (Resource Description Framework) is a standard model for data interchange on the web. SPARQL is a query language for RDF. This lab will introduce the basics of RDF, how to create RDF data in Turtle format, and how to query it using SPARQL.\n"
      ]
    },
    {
      "cell_type": "markdown",
      "source": [
        "# 2. Setting Up the Environment\n",
        "\n",
        "First, we need to install the `rdflib` library, which provides tools for working with RDF data in Python.\n"
      ],
      "metadata": {
        "id": "0LGk4rAcB7YK"
      }
    },
    {
      "cell_type": "code",
      "source": [
        "# Install rdflib library\n",
        "!pip install rdflib"
      ],
      "metadata": {
        "id": "zgXgWsKqFlWM"
      },
      "execution_count": null,
      "outputs": []
    },
    {
      "cell_type": "markdown",
      "source": [
        "We also need to import necessary modules."
      ],
      "metadata": {
        "id": "nxFFaZ5KKWR1"
      }
    },
    {
      "cell_type": "code",
      "source": [
        "# Import necessary modules\n",
        "from rdflib import Graph, Literal, RDF, URIRef, Namespace\n",
        "from rdflib.namespace import FOAF, XSD, DC"
      ],
      "metadata": {
        "id": "2KLaaodNKXZd"
      },
      "execution_count": null,
      "outputs": []
    },
    {
      "cell_type": "markdown",
      "source": [
        "# Use Case 1: Basic RDF and SPARQL\n",
        "\n",
        "# 3. Creating and Saving RDF Turtle Document\n",
        "\n",
        "We will create a simple RDF Turtle document and save it using the `%%writefile` magic cell.\n"
      ],
      "metadata": {
        "id": "f8wxprLvCP5E"
      }
    },
    {
      "cell_type": "code",
      "source": [
        "%%writefile data.ttl\n",
        "@prefix ex: <http://example.org/> .\n",
        "@prefix foaf: <http://xmlns.com/foaf/0.1/> .\n",
        "@prefix xsd: <http://www.w3.org/2001/XMLSchema#> .\n",
        "@prefix dc: <http://purl.org/dc/elements/1.1/> .\n",
        "\n",
        "ex:john a foaf:Person ;\n",
        "    foaf:name \"John Doe\"^^xsd:string ;\n",
        "    foaf:knows ex:jane, ex:bob ;\n",
        "    foaf:age \"30\"^^xsd:integer ;\n",
        "    foaf:mbox <mailto:john@example.org> .\n",
        "\n",
        "ex:jane a foaf:Person ;\n",
        "    foaf:name \"Jane Smith\"^^xsd:string ;\n",
        "    foaf:knows ex:john ;\n",
        "    foaf:age \"28\"^^xsd:integer ;\n",
        "    foaf:mbox <mailto:jane@example.org> ;\n",
        "    dc:creator ex:book1 .\n",
        "\n",
        "ex:bob a foaf:Person ;\n",
        "    foaf:name \"Bob Johnson\"^^xsd:string ;\n",
        "    foaf:knows ex:john ;\n",
        "    foaf:age \"35\"^^xsd:integer ;\n",
        "    foaf:mbox <mailto:bob@example.org> .\n",
        "\n",
        "ex:book1 a dc:Book ;\n",
        "    dc:title \"Learning RDF\"^^xsd:string ;\n",
        "    dc:creator ex:jane ;\n",
        "    dc:date \"2021-01-01\"^^xsd:date ."
      ],
      "metadata": {
        "id": "J8U76XcPCQTe"
      },
      "execution_count": null,
      "outputs": []
    },
    {
      "cell_type": "markdown",
      "source": [
        "# 4. Loading RDF Turtle Document\n",
        "\n",
        "We can load RDF data from the Turtle document directly into an RDF graph."
      ],
      "metadata": {
        "id": "ncr8F5pRCbmb"
      }
    },
    {
      "cell_type": "code",
      "source": [
        "# Create a new RDF graph\n",
        "g = Graph()\n",
        "\n",
        "# Load the Turtle data from the file\n",
        "g.parse('data.ttl', format='turtle')\n",
        "\n",
        "# Verify the graph contents\n",
        "for stmt in g:\n",
        "    print(stmt)"
      ],
      "metadata": {
        "id": "f2q4bBmFNQuA"
      },
      "execution_count": null,
      "outputs": []
    },
    {
      "cell_type": "markdown",
      "source": [
        "# 5. Querying RDF Data with SPARQL\n",
        "\n",
        "We will use SPARQL to query the RDF data we loaded.\n"
      ],
      "metadata": {
        "id": "zi7YksTPGlBH"
      }
    },
    {
      "cell_type": "markdown",
      "source": [
        "**a. Querying all people and their names:**"
      ],
      "metadata": {
        "id": "IHsecsNoZzgL"
      }
    },
    {
      "cell_type": "code",
      "source": [
        "# Define a SPARQL query\n",
        "query = \"\"\"\n",
        "PREFIX foaf: <http://xmlns.com/foaf/0.1/>\n",
        "PREFIX ex: <http://example.org/>\n",
        "SELECT ?person ?name\n",
        "WHERE {\n",
        "  ?person a foaf:Person .\n",
        "  ?person foaf:name ?name .\n",
        "}\n",
        "\"\"\"\n",
        "\n",
        "# Execute the query on the loaded graph\n",
        "qres = g.query(query)\n",
        "\n",
        "# Print the results\n",
        "for row in qres:\n",
        "    print(f\"{row.person} is named {row.name}\")"
      ],
      "metadata": {
        "id": "itVBhf6uGm3f"
      },
      "execution_count": null,
      "outputs": []
    },
    {
      "cell_type": "markdown",
      "source": [
        "**b. Querying relationships (who knows whom):**"
      ],
      "metadata": {
        "id": "ZK39BLCHmVUa"
      }
    },
    {
      "cell_type": "code",
      "source": [
        "# Define a SPARQL query for relationships\n",
        "query = \"\"\"\n",
        "PREFIX foaf: <http://xmlns.com/foaf/0.1/>\n",
        "PREFIX ex: <http://example.org/>\n",
        "SELECT ?person1 ?person2\n",
        "WHERE {\n",
        "  ?person1 foaf:knows ?person2 .\n",
        "}\n",
        "\"\"\"\n",
        "\n",
        "# Execute the query on the loaded graph\n",
        "qres = g.query(query)\n",
        "\n",
        "# Print the results\n",
        "for row in qres:\n",
        "    print(f\"{row.person1} {row.person2}\")"
      ],
      "metadata": {
        "id": "bC9JhrHXbWZr"
      },
      "execution_count": null,
      "outputs": []
    },
    {
      "cell_type": "markdown",
      "source": [
        "# 6. Advanced SPARQL Queries\n",
        "\n",
        "Let's explore some advanced SPARQL queries."
      ],
      "metadata": {
        "id": "uBOIyVwObcyO"
      }
    },
    {
      "cell_type": "markdown",
      "source": [
        "**a. Querying with optional properties:**"
      ],
      "metadata": {
        "id": "N_XpvSfRbfPP"
      }
    },
    {
      "cell_type": "code",
      "source": [
        "# Define a SPARQL query with an optional property\n",
        "query = \"\"\"\n",
        "PREFIX foaf: <http://xmlns.com/foaf/0.1/>\n",
        "PREFIX ex: <http://example.org/>\n",
        "SELECT ?person ?name ?mbox\n",
        "WHERE {\n",
        "  ?person a foaf:Person .\n",
        "  ?person foaf:name ?name .\n",
        "  OPTIONAL { ?person foaf:mbox ?mbox . }\n",
        "}\n",
        "\"\"\"\n",
        "\n",
        "# Execute the query on the loaded graph\n",
        "qres = g.query(query)\n",
        "\n",
        "# Print the results\n",
        "for row in qres:\n",
        "    print(f\"{row.person} {row.name} {row.mbox}\")"
      ],
      "metadata": {
        "id": "BSsXBUfhaJp9"
      },
      "execution_count": null,
      "outputs": []
    },
    {
      "cell_type": "markdown",
      "source": [
        "**b. Querying with filters:**"
      ],
      "metadata": {
        "id": "MYRMT54Xn1EB"
      }
    },
    {
      "cell_type": "code",
      "source": [
        "# Define a SPARQL query with a filter\n",
        "query = \"\"\"\n",
        "PREFIX foaf: <http://xmlns.com/foaf/0.1/>\n",
        "PREFIX ex: <http://example.org/>\n",
        "SELECT ?person ?name\n",
        "WHERE {\n",
        "  ?person a foaf:Person .\n",
        "  ?person foaf:name ?name .\n",
        "  FILTER regex(?name, \"John\", \"i\")\n",
        "}\n",
        "\"\"\"\n",
        "\n",
        "# Execute the query on the loaded graph\n",
        "qres = g.query(query)\n",
        "\n",
        "# Print the results\n",
        "for row in qres:\n",
        "    print(f\"{row.person} {row.name}\")"
      ],
      "metadata": {
        "id": "W0agPtBpNpc3"
      },
      "execution_count": null,
      "outputs": []
    },
    {
      "cell_type": "markdown",
      "source": [
        "**c. Querying books and their creators:**"
      ],
      "metadata": {
        "id": "G1mRdeRFoXaY"
      }
    },
    {
      "cell_type": "code",
      "source": [
        "# Define a SPARQL query to get books and their creators\n",
        "query = \"\"\"\n",
        "PREFIX dc: <http://purl.org/dc/elements/1.1/>\n",
        "PREFIX ex: <http://example.org/>\n",
        "SELECT ?book ?title ?creator\n",
        "WHERE {\n",
        "  ?book a dc:Book .\n",
        "  ?book dc:title ?title .\n",
        "  ?book dc:creator ?creator .\n",
        "}\n",
        "\"\"\"\n",
        "\n",
        "# Execute the query on the loaded graph\n",
        "qres = g.query(query)\n",
        "\n",
        "# Print the results\n",
        "for row in qres:\n",
        "    print(f\"{row.book} {row.title} {row.creator}\")"
      ],
      "metadata": {
        "id": "M7lCulsSjqun"
      },
      "execution_count": null,
      "outputs": []
    },
    {
      "cell_type": "markdown",
      "source": [
        "# Use Case 2: Advanced RDF and SPARQL\n",
        "\n",
        "# 7. Creating and Saving a More Complex RDF Turtle Document\n",
        "\n",
        "We will create a more complex RDF Turtle document and save it using the `%%writefile` magic cell."
      ],
      "metadata": {
        "id": "O6kaX0jfHxXa"
      }
    },
    {
      "cell_type": "code",
      "source": [
        "%%writefile complex_data.ttl\n",
        "@prefix ex: <http://example.org/> .\n",
        "@prefix foaf: <http://xmlns.com/foaf/0.1/> .\n",
        "@prefix xsd: <http://www.w3.org/2001/XMLSchema#> .\n",
        "@prefix dc: <http://purl.org/dc/elements/1.1/> .\n",
        "\n",
        "ex:john a foaf:Person ;\n",
        "    foaf:name \"John Doe\"^^xsd:string ;\n",
        "    foaf:knows ex:jane, ex:bob ;\n",
        "    foaf:age \"30\"^^xsd:integer ;\n",
        "    foaf:mbox <mailto:john@example.org> ;\n",
        "    ex:hasPet ex:spot .\n",
        "\n",
        "ex:jane a foaf:Person ;\n",
        "    foaf:name \"Jane Smith\"^^xsd:string ;\n",
        "    foaf:knows ex:john, ex:alice ;\n",
        "    foaf:age \"28\"^^xsd:integer ;\n",
        "    foaf:mbox <mailto:jane@example.org> ;\n",
        "    dc:creator ex:book1 .\n",
        "\n",
        "ex:bob a foaf:Person ;\n",
        "    foaf:name \"Bob Johnson\"^^xsd:string ;\n",
        "    foaf:knows ex:john ;\n",
        "    foaf:age \"35\"^^xsd:integer ;\n",
        "    foaf:mbox <mailto:bob@example.org> .\n",
        "\n",
        "ex:alice a foaf:Person ;\n",
        "    foaf:name \"Alice Brown\"^^xsd:string ;\n",
        "    foaf:knows ex:jane ;\n",
        "    foaf:age \"25\"^^xsd:integer ;\n",
        "    foaf:mbox <mailto:alice@example.org> .\n",
        "\n",
        "ex:book1 a dc:Book ;\n",
        "    dc:title \"Learning RDF\"^^xsd:string ;\n",
        "    dc:creator ex:jane ;\n",
        "    dc:date \"2021-01-01\"^^xsd:date .\n",
        "\n",
        "ex:spot a ex:Pet ;\n",
        "    ex:name \"Spot\"^^xsd:string ;\n",
        "    ex:type \"Dog\"^^xsd:string ;\n",
        "    ex:owner ex:john ."
      ],
      "metadata": {
        "id": "5nCpwNFMc5g8"
      },
      "execution_count": null,
      "outputs": []
    },
    {
      "cell_type": "markdown",
      "source": [
        "# 8. Loading the More Complex RDF Turtle Document\n",
        "\n",
        "We can load RDF data from the Turtle document directly into an RDF graph.\n"
      ],
      "metadata": {
        "id": "xUYJCDrXIKBI"
      }
    },
    {
      "cell_type": "code",
      "source": [
        "# Create a new RDF graph\n",
        "g_complex = Graph()\n",
        "\n",
        "# Load the Turtle data from the file\n",
        "g_complex.parse('complex_data.ttl', format='turtle')\n",
        "\n",
        "# Verify the graph contents\n",
        "for stmt in g_complex:\n",
        "    print(stmt)"
      ],
      "metadata": {
        "id": "RbUMVaNzdOvx"
      },
      "execution_count": null,
      "outputs": []
    },
    {
      "cell_type": "markdown",
      "source": [
        "# 9. Querying the More Complex RDF Data with SPARQL\n",
        "\n",
        "We will use SPARQL to query the more complex RDF data we loaded.\n"
      ],
      "metadata": {
        "id": "YCNewqotISMZ"
      }
    },
    {
      "cell_type": "markdown",
      "source": [
        "**a. Querying people and their pets:**"
      ],
      "metadata": {
        "id": "KIqHBVLlcsiz"
      }
    },
    {
      "cell_type": "code",
      "source": [
        "# Define a SPARQL query to get people and their pets\n",
        "query = \"\"\"\n",
        "PREFIX ex: <http://example.org/>\n",
        "SELECT ?person ?pet ?petName ?petType\n",
        "WHERE {\n",
        "  ?person ex:hasPet ?pet .\n",
        "  ?pet ex:name ?petName .\n",
        "\n",
        "\n",
        " ?pet ex:type ?petType .\n",
        "}\n",
        "\"\"\"\n",
        "\n",
        "# Execute the query on the loaded graph\n",
        "qres = g_complex.query(query)\n",
        "\n",
        "# Print the results\n",
        "for row in qres:\n",
        "    print(f\"{row.person} {row.pet} {row.petName} {row.petType}\")"
      ],
      "metadata": {
        "id": "oeYt0rqzpKnr"
      },
      "execution_count": null,
      "outputs": []
    },
    {
      "cell_type": "markdown",
      "source": [
        "**b. Querying people who know others with pets:**\n"
      ],
      "metadata": {
        "id": "OtseGmERr9jQ"
      }
    },
    {
      "cell_type": "markdown",
      "source": [
        "**a. Extract titles of all books (list example):**\n"
      ],
      "metadata": {
        "id": "GPj9LFGrsyyE"
      }
    },
    {
      "cell_type": "code",
      "source": [
        "# Define a SPARQL query to get people who know others with pets\n",
        "query = \"\"\"\n",
        "PREFIX ex: <http://example.org/>\n",
        "PREFIX foaf: <http://xmlns.com/foaf/0.1/>\n",
        "SELECT ?person ?knownPerson ?petName\n",
        "WHERE {\n",
        "  ?person foaf:knows ?knownPerson .\n",
        "  ?knownPerson ex:hasPet ?pet .\n",
        "  ?pet ex:name ?petName .\n",
        "}\n",
        "\"\"\"\n",
        "\n",
        "# Execute the query on the loaded graph\n",
        "qres = g_complex.query(query)\n",
        "\n",
        "# Print the results\n",
        "for row in qres:\n",
        "    print(f\"{row.person} {row.knownPerson} {row.petName}\")"
      ],
      "metadata": {
        "id": "TWRu81nReEw2"
      },
      "execution_count": null,
      "outputs": []
    },
    {
      "cell_type": "markdown",
      "source": [
        "**c. Querying people who are creators and their books:**"
      ],
      "metadata": {
        "id": "wncBlxCctOPr"
      }
    },
    {
      "cell_type": "code",
      "source": [
        "# Define a SPARQL query to get people who are creators and their books\n",
        "query = \"\"\"\n",
        "PREFIX dc: <http://purl.org/dc/elements/1.1/>\n",
        "PREFIX ex: <http://example.org/>\n",
        "SELECT ?person ?book ?title\n",
        "WHERE {\n",
        "  ?book dc:creator ?person .\n",
        "  ?book dc:title ?title .\n",
        "}\n",
        "\"\"\"\n",
        "\n",
        "# Execute the query on the loaded graph\n",
        "qres = g_complex.query(query)\n",
        "\n",
        "# Print the results\n",
        "for row in qres:\n",
        "    print(f\"{row.person} {row.book} {row.title}\")"
      ],
      "metadata": {
        "id": "AZXxnpqEfwc-"
      },
      "execution_count": null,
      "outputs": []
    },
    {
      "cell_type": "markdown",
      "source": [
        "# 10. Conclusion\n",
        "\n",
        "RDF and SPARQL are powerful tools for representing and querying data on the web. In this lab, we've covered two use cases: the basics of creating RDF data, saving it to a Turtle document, loading RDF data from a Turtle document, and querying it using SPARQL; and a more complex example with advanced RDF structures and queries. You can further explore RDF and SPARQL to handle more complex data and queries.\n"
      ],
      "metadata": {
        "id": "b8zsF3bWtb8H"
      }
    }
  ]
}