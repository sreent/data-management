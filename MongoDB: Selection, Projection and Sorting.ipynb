{
  "nbformat": 4,
  "nbformat_minor": 0,
  "metadata": {
    "colab": {
      "provenance": [],
      "include_colab_link": true
    },
    "kernelspec": {
      "display_name": "Python 3",
      "language": "python",
      "name": "python3"
    }
  },
  "cells": [
    {
      "cell_type": "markdown",
      "metadata": {
        "id": "view-in-github",
        "colab_type": "text"
      },
      "source": [
        "<a href=\"https://colab.research.google.com/github/sreent/data-management-intro/blob/main/MongoDB%3A%20Selection%2C%20Projection%20and%20Sorting.ipynb\" target=\"_parent\"><img src=\"https://colab.research.google.com/assets/colab-badge.svg\" alt=\"Open In Colab\"/></a>"
      ]
    },
    {
      "metadata": {
        "id": "vM6ta952S2z2"
      },
      "cell_type": "markdown",
      "source": [
        "# 1 Setting Up MongoDB Environment"
      ]
    },
    {
      "cell_type": "code",
      "source": [
        "# Install MongoDB's dependencies\n",
        "!sudo wget http://archive.ubuntu.com/ubuntu/pool/main/o/openssl/libssl1.1_1.1.1f-1ubuntu2_amd64.deb\n",
        "!sudo dpkg -i libssl1.1_1.1.1f-1ubuntu2_amd64.deb\n",
        "\n",
        "# Import the public key used by the package management system\n",
        "!wget -qO - https://www.mongodb.org/static/pgp/server-4.4.asc | apt-key add -\n",
        "\n",
        "# Create a list file for MongoDB\n",
        "!echo \"deb [ arch=amd64,arm64 ] http://repo.mongodb.org/apt/ubuntu bionic/mongodb-org/4.4 multiverse\" | tee /etc/apt/sources.list.d/mongodb-org-4.4.list\n",
        "\n",
        "# Reload the local package database\n",
        "!apt-get update > /dev/null\n",
        "\n",
        "# Install the MongoDB packages\n",
        "!apt-get install -y mongodb-org > /dev/null\n",
        "\n",
        "# Install pymongo\n",
        "!pip install -q pymongo\n",
        "\n",
        "# Create Data Folder\n",
        "!mkdir -p /data/db\n",
        "\n",
        "# Start MongoDB\n",
        "!mongod --fork --logpath /var/log/mongodb.log --dbpath /data/db"
      ],
      "metadata": {
        "id": "zgXgWsKqFlWM"
      },
      "execution_count": null,
      "outputs": []
    },
    {
      "cell_type": "code",
      "source": [
        "from pymongo import MongoClient\n",
        "\n",
        "# Establish connection to MongoDB\n",
        "try:\n",
        "    client = MongoClient('localhost', 27017)\n",
        "    print(\"Connected to MongoDB\")\n",
        "except Exception as e:\n",
        "    print(\"Error connecting to MongoDB: \", e)\n",
        "    exit()\n",
        "\n",
        "# List databases to check the connection\n",
        "try:\n",
        "    databases = client.list_database_names()\n",
        "    print(\"Databases:\", databases)\n",
        "except Exception as e:\n",
        "    print(\"Error listing databases: \", e)\n",
        "\n",
        "# Retrieve server status\n",
        "try:\n",
        "    server_status = client.admin.command(\"serverStatus\")\n",
        "    print(\"Server Status:\", server_status)\n",
        "except Exception as e:\n",
        "    print(\"Error retrieving server status: \", e)\n",
        "\n",
        "# Perform basic database operations (Create, Read)\n",
        "try:\n",
        "    db = client.test_db\n",
        "    collection = db.test_collection\n",
        "    # Insert a document\n",
        "    insert_result = collection.insert_one({\"name\": \"test\", \"value\": 123})\n",
        "    print(\"Insert operation result:\", insert_result.inserted_id)\n",
        "    # Read a document\n",
        "    read_result = collection.find_one({\"name\": \"test\"})\n",
        "    print(\"Read operation result:\", read_result)\n",
        "except Exception as e:\n",
        "    print(\"Error performing database operations: \", e)"
      ],
      "metadata": {
        "id": "f2q4bBmFNQuA"
      },
      "execution_count": null,
      "outputs": []
    },
    {
      "cell_type": "markdown",
      "source": [
        "# 2 Preparations"
      ],
      "metadata": {
        "id": "ZK39BLCHmVUa"
      }
    },
    {
      "cell_type": "markdown",
      "source": [
        "Databases and collections in MongoDB are created implicitly while data is inserted. In this tutorial, you will create a collection of *films*. There is no collection so far, so create one by inserting a document."
      ],
      "metadata": {
        "id": "qXVCAX1xmz2q"
      }
    },
    {
      "cell_type": "code",
      "source": [
        "query = \"\"\"\n",
        "db.collection.insertMany([\n",
        "    {\n",
        "        \"ISBN\": \"978-0321751041\",\n",
        "        \"title\": \"The Art of Computer Programming\",\n",
        "        \"author\": \"Donald E. Knuth\",\n",
        "        \"publisher\": \"Addison Wesley\",\n",
        "        \"yearPublished\": 1968,\n",
        "        \"price\": 200\n",
        "    },\n",
        "    {\n",
        "        \"ISBN\": \"978-0201633610\",\n",
        "        \"title\": \"Design Patterns: Elements of Reusable Object-Oriented Software\",\n",
        "        \"author\": \"Erich Gamma et al.\",\n",
        "        \"publisher\": \"Addison Wesley\",\n",
        "        \"yearPublished\": 1994,\n",
        "        \"price\": 45\n",
        "    },\n",
        "    {\n",
        "        \"ISBN\": \"978-0321573513\",\n",
        "        \"title\": \"Effective Java\",\n",
        "        \"author\": \"Joshua Bloch\",\n",
        "        \"publisher\": \"Addison Wesley\",\n",
        "        \"yearPublished\": 2008,\n",
        "        \"price\": 50\n",
        "    },\n",
        "    {\n",
        "        \"ISBN\": \"978-0132350884\",\n",
        "        \"title\": \"Clean Code: A Handbook of Agile Software Craftsmanship\",\n",
        "        \"author\": \"Robert C. Martin\",\n",
        "        \"publisher\": \"Addison Wesley\",\n",
        "        \"yearPublished\": 2008,\n",
        "        \"price\": 40\n",
        "    },\n",
        "    {\n",
        "        \"ISBN\": \"978-0321127426\",\n",
        "        \"title\": \"Refactoring: Improving the Design of Existing Code\",\n",
        "        \"author\": \"Martin Fowler\",\n",
        "        \"publisher\": \"Pearson\",\n",
        "        \"yearPublished\": 1999,\n",
        "        \"price\": 55\n",
        "    }\n",
        "])\n",
        "\"\"\"\n",
        "\n",
        "!mongo --quiet --eval '{query}'"
      ],
      "metadata": {
        "id": "BSsXBUfhaJp9"
      },
      "execution_count": null,
      "outputs": []
    },
    {
      "cell_type": "markdown",
      "source": [
        "You can list the contents of the newly created collection by calling the <code>find()</code> function."
      ],
      "metadata": {
        "id": "MYRMT54Xn1EB"
      }
    },
    {
      "cell_type": "code",
      "source": [
        "query = \"\"\"db.collection.find()\"\"\"\n",
        "\n",
        "!mongo --quiet --eval '{query}'"
      ],
      "metadata": {
        "id": "W0agPtBpNpc3"
      },
      "execution_count": null,
      "outputs": []
    },
    {
      "cell_type": "markdown",
      "source": [
        "# 3 Querying"
      ],
      "metadata": {
        "id": "OtseGmERr9jQ"
      }
    },
    {
      "cell_type": "markdown",
      "source": [
        "Find books published by \"Addison Wesley\", output only their ISBN, title and price, sort by price in descending order."
      ],
      "metadata": {
        "id": "GPj9LFGrsyyE"
      }
    },
    {
      "cell_type": "code",
      "source": [
        "query = \"\"\"\n",
        "db.collection.aggregate([\n",
        "    {\n",
        "        $match: {\n",
        "            \"publisher\": \"Addison Wesley\"\n",
        "        }\n",
        "    },\n",
        "    {\n",
        "        $project: {\n",
        "            _id: false,\n",
        "            ISBN: true,\n",
        "            title: true,\n",
        "            price: true\n",
        "        }\n",
        "    },\n",
        "    {\n",
        "        $sort: {\n",
        "            title: -1\n",
        "        }\n",
        "    }\n",
        "])\n",
        "\"\"\"\n",
        "\n",
        "!mongo --quiet --eval '{query}'"
      ],
      "metadata": {
        "id": "TWRu81nReEw2"
      },
      "execution_count": null,
      "outputs": []
    },
    {
      "cell_type": "markdown",
      "source": [
        "# 4 Interpretation:\n",
        "\n",
        "- The `$match` stage filters the documents to include only those where the `publisher` is \"Addison Wesley\".\n",
        "- The `$project` stage reshapes each document to include only the `ISBN`, `title`, and `price` fields, excluding the `_id` field.\n",
        "- The `$sort` stage sorts the resulting documents by the `title` field in descending order (from Z to A)."
      ],
      "metadata": {
        "id": "wncBlxCctOPr"
      }
    }
  ]
}