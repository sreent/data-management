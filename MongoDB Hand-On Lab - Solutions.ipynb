{
  "nbformat": 4,
  "nbformat_minor": 0,
  "metadata": {
    "colab": {
      "provenance": [],
      "include_colab_link": true
    },
    "kernelspec": {
      "display_name": "Python 3",
      "language": "python",
      "name": "python3"
    }
  },
  "cells": [
    {
      "cell_type": "markdown",
      "metadata": {
        "id": "view-in-github",
        "colab_type": "text"
      },
      "source": [
        "<a href=\"https://colab.research.google.com/github/sreent/data-management-intro/blob/main/MongoDB%20Hand-On%20Lab%20-%20Solutions.ipynb\" target=\"_parent\"><img src=\"https://colab.research.google.com/assets/colab-badge.svg\" alt=\"Open In Colab\"/></a>"
      ]
    },
    {
      "metadata": {
        "id": "vM6ta952S2z2"
      },
      "cell_type": "markdown",
      "source": [
        "# 1 Setting Up MongoDB Environment"
      ]
    },
    {
      "cell_type": "code",
      "source": [
        "# Install MongoDB's dependencies\n",
        "!sudo wget http://archive.ubuntu.com/ubuntu/pool/main/o/openssl/libssl1.1_1.1.1f-1ubuntu2_amd64.deb\n",
        "!sudo dpkg -i libssl1.1_1.1.1f-1ubuntu2_amd64.deb\n",
        "\n",
        "# Import the public key used by the package management system\n",
        "!wget -qO - https://www.mongodb.org/static/pgp/server-4.4.asc | apt-key add -\n",
        "\n",
        "# Create a list file for MongoDB\n",
        "!echo \"deb [ arch=amd64,arm64 ] http://repo.mongodb.org/apt/ubuntu bionic/mongodb-org/4.4 multiverse\" | tee /etc/apt/sources.list.d/mongodb-org-4.4.list\n",
        "\n",
        "# Reload the local package database\n",
        "!apt-get update > /dev/null\n",
        "\n",
        "# Install the MongoDB packages\n",
        "!apt-get install -y mongodb-org > /dev/null\n",
        "\n",
        "# Install pymongo\n",
        "!pip install -q pymongo\n",
        "\n",
        "# Create Data Folder\n",
        "!mkdir -p /data/db\n",
        "\n",
        "# Start MongoDB\n",
        "!mongod --fork --logpath /var/log/mongodb.log --dbpath /data/db"
      ],
      "metadata": {
        "id": "zgXgWsKqFlWM"
      },
      "execution_count": null,
      "outputs": []
    },
    {
      "cell_type": "code",
      "source": [
        "from pymongo import MongoClient\n",
        "\n",
        "# Establish connection to MongoDB\n",
        "try:\n",
        "    client = MongoClient('localhost', 27017)\n",
        "    print(\"Connected to MongoDB\")\n",
        "except Exception as e:\n",
        "    print(\"Error connecting to MongoDB: \", e)\n",
        "    exit()\n",
        "\n",
        "# List databases to check the connection\n",
        "try:\n",
        "    databases = client.list_database_names()\n",
        "    print(\"Databases:\", databases)\n",
        "except Exception as e:\n",
        "    print(\"Error listing databases: \", e)\n",
        "\n",
        "# Retrieve server status\n",
        "try:\n",
        "    server_status = client.admin.command(\"serverStatus\")\n",
        "    print(\"Server Status:\", server_status)\n",
        "except Exception as e:\n",
        "    print(\"Error retrieving server status: \", e)\n",
        "\n",
        "# Perform basic database operations (Create, Read)\n",
        "try:\n",
        "    db = client.test_db\n",
        "    collection = db.test_collection\n",
        "    # Insert a document\n",
        "    insert_result = collection.insert_one({\"name\": \"test\", \"value\": 123})\n",
        "    print(\"Insert operation result:\", insert_result.inserted_id)\n",
        "    # Read a document\n",
        "    read_result = collection.find_one({\"name\": \"test\"})\n",
        "    print(\"Read operation result:\", read_result)\n",
        "except Exception as e:\n",
        "    print(\"Error performing database operations: \", e)"
      ],
      "metadata": {
        "id": "f2q4bBmFNQuA"
      },
      "execution_count": null,
      "outputs": []
    },
    {
      "cell_type": "markdown",
      "source": [
        "# 2 Preparations"
      ],
      "metadata": {
        "id": "ZK39BLCHmVUa"
      }
    },
    {
      "cell_type": "markdown",
      "source": [
        "Databases and collections in MongoDB are created implicitly while data is inserted. In this tutorial, you will create a collection of *films*. There is no collection so far, so create one by inserting a document."
      ],
      "metadata": {
        "id": "qXVCAX1xmz2q"
      }
    },
    {
      "cell_type": "code",
      "source": [
        "query = \"\"\"\n",
        "db.films.insert({\n",
        "    \"title\": \"Star Trek Into Darkness\",\n",
        "    \"year\": 2013,\n",
        "    \"genre\": [\n",
        "        \"Action\",\n",
        "        \"Adventure\",\n",
        "        \"Sci-Fi\",\n",
        "    ],\n",
        "    \"actors\": [\n",
        "        \"Pine, Chris\",\n",
        "        \"Quinto, Zachary\",\n",
        "        \"Saldana, Zoe\",\n",
        "    ],\n",
        "    \"releases\": [\n",
        "        {\n",
        "            \"country\": \"USA\",\n",
        "            \"date\": ISODate(\"2013-05-17\"),\n",
        "            \"prerelease\": true\n",
        "        },\n",
        "        {\n",
        "            \"country\": \"Germany\",\n",
        "            \"date\": ISODate(\"2003-05-16\"),\n",
        "            \"prerelease\": false\n",
        "        }\n",
        "    ]\n",
        "})\"\"\"\n",
        "\n",
        "!mongo --quiet --eval '{query}'"
      ],
      "metadata": {
        "id": "BSsXBUfhaJp9"
      },
      "execution_count": null,
      "outputs": []
    },
    {
      "cell_type": "markdown",
      "source": [
        "Now, there is a *films* collection. You can list the contents of the newly created collection by calling the <code>find()</code> function."
      ],
      "metadata": {
        "id": "MYRMT54Xn1EB"
      }
    },
    {
      "cell_type": "code",
      "source": [
        "query = \"\"\"db.films.find()\"\"\""
      ],
      "metadata": {
        "id": "W0agPtBpNpc3"
      },
      "execution_count": null,
      "outputs": []
    },
    {
      "cell_type": "code",
      "source": [
        "!mongo --quiet --eval '{query}'"
      ],
      "metadata": {
        "id": "p9rYlfp0b3uc"
      },
      "execution_count": null,
      "outputs": []
    },
    {
      "cell_type": "markdown",
      "source": [
        "If you prefer your result nicely formatted, use <code>pretty()</code>:"
      ],
      "metadata": {
        "id": "G1mRdeRFoXaY"
      }
    },
    {
      "cell_type": "code",
      "source": [
        "query = \"\"\"db.films.find().pretty()\"\"\""
      ],
      "metadata": {
        "id": "M7lCulsSjqun"
      },
      "execution_count": null,
      "outputs": []
    },
    {
      "cell_type": "code",
      "source": [
        "!mongo --quiet --eval '{query}'"
      ],
      "metadata": {
        "id": "iY_cuRWCb8T4"
      },
      "execution_count": null,
      "outputs": []
    },
    {
      "cell_type": "markdown",
      "source": [
        "As you can see, now there is an <code>_id</code> field which is unique for every document"
      ],
      "metadata": {
        "id": "idHUEHFHowWX"
      }
    },
    {
      "cell_type": "markdown",
      "source": [
        "Now insert some more films:"
      ],
      "metadata": {
        "id": "r6CaU7uNozsL"
      }
    },
    {
      "cell_type": "code",
      "source": [
        "query = \"\"\"\n",
        "db.films.insert({\n",
        "    \"title\": \"Iron Man 3\",\n",
        "    \"year\": 2013,\n",
        "    \"genre\": [\n",
        "        \"Action\",\n",
        "        \"Adventure\",\n",
        "        \"Sci-Fi\",\n",
        "    ],\n",
        "    \"actors\": [\n",
        "        \"Downey Jr., Robert\",\n",
        "        \"Paltrow, Gwyneth\",\n",
        "    ]\n",
        "})\n",
        "\"\"\" # no releases\n",
        "\n",
        "!mongo --quiet --eval '{query}'"
      ],
      "metadata": {
        "id": "5nCpwNFMc5g8"
      },
      "execution_count": null,
      "outputs": []
    },
    {
      "cell_type": "code",
      "source": [
        "query = \"\"\"\n",
        "db.films.insert({\n",
        "    \"title\": \"This Means War\",\n",
        "    \"year\": 2011,\n",
        "    \"genre\": [\n",
        "        \"Action\",\n",
        "        \"Comedy\",\n",
        "        \"Romance\",\n",
        "    ],\n",
        "    \"actors\": [\n",
        "        \"Pine, Chris\",\n",
        "        \"Witherspoon, Reese\",\n",
        "        \"Hardy, Tom\",\n",
        "    ],\n",
        "    \"releases\": [\n",
        "        {\n",
        "            \"country\": \"USA\",\n",
        "            \"date\": ISODate(\"2011-02-17\"),\n",
        "            \"prerelease\": false\n",
        "        },\n",
        "        {\n",
        "            \"country\": \"UK\" ,\n",
        "            \"date\": ISODate(\"2011-03-01\"),\n",
        "            \"prerelease\": true\n",
        "        }\n",
        "    ]\n",
        "})\n",
        "\"\"\"\n",
        "\n",
        "!mongo --quiet --eval '{query}'"
      ],
      "metadata": {
        "id": "RbUMVaNzdOvx"
      },
      "execution_count": null,
      "outputs": []
    },
    {
      "cell_type": "code",
      "source": [
        "query = \"\"\"\n",
        "db.films.insert({\n",
        "    \"title\": \"The Amazing Spider - Man 2\",\n",
        "    \"year\": 2014,\n",
        "    \"genre\": [\n",
        "        \"Action\",\n",
        "        \"Adventure\",\n",
        "        \"Fantasy\",\n",
        "    ],\n",
        "    \"actors\": [\n",
        "        \"Stone, Emma\" ,\n",
        "        \"Woodley, Shailene\"\n",
        "    ]\n",
        "})\n",
        "\"\"\" # also no releases\n",
        "\n",
        "!mongo --quiet --eval '{query}'"
      ],
      "metadata": {
        "id": "oeYt0rqzpKnr"
      },
      "execution_count": null,
      "outputs": []
    },
    {
      "cell_type": "markdown",
      "source": [
        "# 3 Querying"
      ],
      "metadata": {
        "id": "OtseGmERr9jQ"
      }
    },
    {
      "cell_type": "markdown",
      "source": [
        "Now query your collection! Have MongoDB return all films with title **\"Iron Man 3\"** by calling:"
      ],
      "metadata": {
        "id": "GPj9LFGrsyyE"
      }
    },
    {
      "cell_type": "code",
      "source": [
        "query = \"\"\"\n",
        "db.films.find({\"title\": \"Iron Man 3\"})\n",
        "\"\"\"\n",
        "\n",
        "!mongo --quiet --eval '{query}'"
      ],
      "metadata": {
        "id": "TWRu81nReEw2"
      },
      "execution_count": null,
      "outputs": []
    },
    {
      "cell_type": "markdown",
      "source": [
        "Using <code>findOne</code> instead of find produces at most one result (in pretty format):"
      ],
      "metadata": {
        "id": "wncBlxCctOPr"
      }
    },
    {
      "cell_type": "code",
      "source": [
        "query = \"\"\"\n",
        "db.films.findOne({\"title\": \"Iron Man 3\"})\n",
        "\"\"\"\n",
        "\n",
        "!mongo --quiet --eval '{query}'"
      ],
      "metadata": {
        "id": "AZXxnpqEfwc-"
      },
      "execution_count": null,
      "outputs": []
    },
    {
      "cell_type": "markdown",
      "source": [
        "Regular expressions can also be used to query a collection. In this tutorial, a short notation is used where the actual regular expression is bounded by slashes (/). The following call yields all movies that start with the letter T:"
      ],
      "metadata": {
        "id": "b8zsF3bWtb8H"
      }
    },
    {
      "cell_type": "code",
      "source": [
        "query = \"\"\"\n",
        "db.films.find({\"title\": /^T/})\n",
        "\"\"\"\n",
        "\n",
        "!mongo --quiet --eval '{query}'"
      ],
      "metadata": {
        "id": "wAPyCIANhTKa"
      },
      "execution_count": null,
      "outputs": []
    },
    {
      "cell_type": "code",
      "source": [
        "query = \"\"\"\n",
        "db.films.find({\"title\": {\"$regex\": \"^T\"}})\n",
        "\"\"\"\n",
        "\n",
        "!mongo --quiet --eval '{query}'"
      ],
      "metadata": {
        "id": "Nlhzy-5iuKOb"
      },
      "execution_count": null,
      "outputs": []
    },
    {
      "cell_type": "markdown",
      "source": [
        "If you are only interested in certain attributes, you can use projection to thin out the produced result. While the selection criteria are given by the first argument of find, the projection is given by the second argument. An example:"
      ],
      "metadata": {
        "id": "JfQzY-0_txxA"
      }
    },
    {
      "cell_type": "code",
      "source": [
        "query = \"\"\"\n",
        "db.films.find({\"title\": /^T/}, {\"title\": 1})\n",
        "\"\"\"\n",
        "\n",
        "!mongo --quiet --eval '{query}'"
      ],
      "metadata": {
        "id": "REjidHpai09t"
      },
      "execution_count": null,
      "outputs": []
    },
    {
      "cell_type": "code",
      "source": [
        "query = \"\"\"\n",
        "db.films.find({\"title\": {\"$regex\": \"^T\"}}, {\"title\": 1})\n",
        "\"\"\"\n",
        "\n",
        "!mongo --quiet --eval '{query}'"
      ],
      "metadata": {
        "id": "3z_IB5e7uHtx"
      },
      "execution_count": null,
      "outputs": []
    },
    {
      "cell_type": "markdown",
      "source": [
        "By default, the <code>_id</code> is part of the output, so you have to explicitly suppress it, if you don’t want to have it returned by MongoDB:"
      ],
      "metadata": {
        "id": "5UFXSyVBunOA"
      }
    },
    {
      "cell_type": "code",
      "source": [
        "query = \"\"\"\n",
        "db.films.find({\"title\": /^T/}, {\"_id\": 0, \"title\": 1})\n",
        "\"\"\"\n",
        "\n",
        "!mongo --quiet --eval '{query}'"
      ],
      "metadata": {
        "id": "w1O1klukufCL"
      },
      "execution_count": null,
      "outputs": []
    },
    {
      "cell_type": "code",
      "source": [
        "query = \"\"\"\n",
        "db.films.find({\"title\": {\"$regex\": \"^T\"}}, {\"_id\": 0, \"title\": 1})\n",
        "\"\"\"\n",
        "\n",
        "!mongo --quiet --eval '{query}'"
      ],
      "metadata": {
        "id": "_9_ogoGTu_4N"
      },
      "execution_count": null,
      "outputs": []
    },
    {
      "cell_type": "markdown",
      "source": [
        "You can also use conditional operators, for example to perform range queries. The following returns the titles of all films starting with the letter T where the year attribute is greater than 2009 and less than or equal to 2011:"
      ],
      "metadata": {
        "id": "E-NcrapfvntT"
      }
    },
    {
      "cell_type": "code",
      "source": [
        "query = \"\"\"\n",
        "db.films.find({\n",
        "    \"year\": {\n",
        "        $gt: 2009,\n",
        "        $lte: 2011\n",
        "    },\n",
        "    \"title\": /^T/\n",
        "},\n",
        "{\n",
        "    \"_id\": 0,\n",
        "    \"title\": 1\n",
        "})\n",
        "\"\"\"\n",
        "\n",
        "!mongo --quiet --eval '{query}'"
      ],
      "metadata": {
        "id": "j1_qs4YWvSPR"
      },
      "execution_count": null,
      "outputs": []
    },
    {
      "cell_type": "code",
      "source": [
        "query = \"\"\"\n",
        "db.films.find({\n",
        "    \"year\": {\n",
        "        $gt: 2009,\n",
        "        $lte: 2011\n",
        "    },\n",
        "    \"title\": {\"$regex\": \"^T\"}\n",
        "},\n",
        "{\n",
        "    \"_id\": 0,\n",
        "    \"title\": 1\n",
        "})\n",
        "\"\"\"\n",
        "\n",
        "!mongo --quiet --eval '{query}'"
      ],
      "metadata": {
        "id": "9UgslSuiwQZo"
      },
      "execution_count": null,
      "outputs": []
    },
    {
      "cell_type": "markdown",
      "source": [
        "For a logical disjunction of the selection criteria, use the <code>$or</code> operator:"
      ],
      "metadata": {
        "id": "YLs5l3pXwfea"
      }
    },
    {
      "cell_type": "code",
      "source": [
        "query = \"\"\"\n",
        "### INSERT YOUR CODE HERE ###\n",
        "\"\"\"\n",
        "\n",
        "!mongo --quiet --eval '{query}'"
      ],
      "metadata": {
        "id": "j7411YVlwXFH"
      },
      "execution_count": null,
      "outputs": []
    },
    {
      "cell_type": "code",
      "source": [
        "query = \"\"\"\n",
        "### INSERT YOUR REGEX BASED CODE HERE ###\n",
        "\"\"\"\n",
        "\n",
        "!mongo --quiet --eval '{query}'"
      ],
      "metadata": {
        "id": "dvLDI1YmxIl6"
      },
      "execution_count": null,
      "outputs": []
    },
    {
      "cell_type": "markdown",
      "source": [
        "There are also some options that can be appended to the regular expression, e.g. i to achieve case\u0002insensitivity. The following call returns the titles of all movies whose title contains lowercase t, ..."
      ],
      "metadata": {
        "id": "i1TsOPwoceCO"
      }
    },
    {
      "cell_type": "code",
      "source": [
        "query = \"\"\"\n",
        "### INSERT YOUR CODE HERE ###\n",
        "\"\"\"\n",
        "\n",
        "!mongo --quiet --eval '{query}'"
      ],
      "metadata": {
        "id": "mvAAAZDFxRt_"
      },
      "execution_count": null,
      "outputs": []
    },
    {
      "cell_type": "code",
      "source": [
        "query = \"\"\"\n",
        "### INSERT YOUR REGEX BASED CODE HERE ###\n",
        "\"\"\"\n",
        "\n",
        "!mongo --quiet --eval '{query}'"
      ],
      "metadata": {
        "id": "ev8qCxPNcul9"
      },
      "execution_count": null,
      "outputs": []
    },
    {
      "cell_type": "markdown",
      "source": [
        "... whereas the following call also returns titles that contain a T (uppercase):"
      ],
      "metadata": {
        "id": "mfcUhJewc0hF"
      }
    },
    {
      "cell_type": "code",
      "source": [
        "query = \"\"\"\n",
        "### INSERT YOUR CODE HERE ###\n",
        "\"\"\"\n",
        "\n",
        "!mongo --quiet --eval '{query}'"
      ],
      "metadata": {
        "id": "zi95h1NWc36e"
      },
      "execution_count": null,
      "outputs": []
    },
    {
      "cell_type": "code",
      "source": [
        "query = \"\"\"\n",
        "### INSERT YOUR REGEX BASED CODE HERE ###\n",
        "\"\"\"\n",
        "\n",
        "!mongo --quiet --eval '{query}'"
      ],
      "metadata": {
        "id": "xhhQeGikc_rr"
      },
      "execution_count": null,
      "outputs": []
    },
    {
      "cell_type": "markdown",
      "source": [
        "You can query for exact matches in lists, ..."
      ],
      "metadata": {
        "id": "kettieyxdBlb"
      }
    },
    {
      "cell_type": "code",
      "source": [
        "query = \"\"\"\n",
        "db.films.find({\"genre\": \"Adventure\"}, {\"_id\": 0, \"title\": 1, \"genre\": 1})\n",
        "\"\"\"\n",
        "\n",
        "!mongo --quiet --eval '{query}'"
      ],
      "metadata": {
        "id": "fH_HlVxddF4f"
      },
      "execution_count": null,
      "outputs": []
    },
    {
      "cell_type": "markdown",
      "source": [
        "... but you can also query for partial matches which yields all genres that start with the letter A:"
      ],
      "metadata": {
        "id": "o70qnmZEdUn3"
      }
    },
    {
      "cell_type": "code",
      "source": [
        "query = \"\"\"\n",
        "### INSERT YOUR CODE HERE ###\n",
        "\"\"\"\n",
        "\n",
        "!mongo --quiet --eval '{query}'"
      ],
      "metadata": {
        "id": "yLRuSO34dX3N"
      },
      "execution_count": null,
      "outputs": []
    },
    {
      "cell_type": "code",
      "source": [
        "query = \"\"\"\n",
        "### INSERT YOUR REGEX BASED CODE HERE ###\n",
        "\"\"\"\n",
        "\n",
        "!mongo --quiet --eval '{query}'"
      ],
      "metadata": {
        "id": "3nc_35oHdbHE"
      },
      "execution_count": null,
      "outputs": []
    },
    {
      "cell_type": "markdown",
      "source": [
        "There are also more complex operators for more complex selection criteria, e.g. the <code>$all</code> operator. The following call prints the title and actors of every movie for which each of two given regular expressions matches at least one of its actors:"
      ],
      "metadata": {
        "id": "g8gP5OvueCDn"
      }
    },
    {
      "cell_type": "code",
      "source": [
        "query = \"\"\"\n",
        "### INSERT YOUR CODE HERE ###\n",
        "\"\"\"\n",
        "\n",
        "!mongo --quiet --eval '{query}'"
      ],
      "metadata": {
        "id": "NK-Fy5EreGwW"
      },
      "execution_count": null,
      "outputs": []
    },
    {
      "cell_type": "code",
      "source": [
        "query = \"\"\"\n",
        "### INSERT YOUR REGEX BASED CODE HERE ###\n",
        "\"\"\"\n",
        "\n",
        "!mongo --quiet --eval '{query}'"
      ],
      "metadata": {
        "id": "xRUu1TzkeUKh"
      },
      "execution_count": null,
      "outputs": []
    },
    {
      "cell_type": "markdown",
      "source": [
        "In contrast, the <code>$nin</code> operator checks for the lack of matching values, i.e. actor names that do not match either one of the given regular expressions:"
      ],
      "metadata": {
        "id": "2grUMTC-ebuB"
      }
    },
    {
      "cell_type": "code",
      "source": [
        "query = \"\"\"\n",
        "### INSERT YOUR CODE HERE ###\n",
        "\"\"\"\n",
        "\n",
        "!mongo --quiet --eval '{query}'"
      ],
      "metadata": {
        "id": "OocmsoD4efca"
      },
      "execution_count": null,
      "outputs": []
    },
    {
      "cell_type": "code",
      "source": [
        "query = \"\"\"\n",
        "### INSERT YOUR REGEX BASED CODE HERE ###\n",
        "\"\"\"\n",
        "\n",
        "!mongo --quiet --eval '{query}'"
      ],
      "metadata": {
        "id": "14onF6Y4emyF"
      },
      "execution_count": null,
      "outputs": []
    },
    {
      "cell_type": "markdown",
      "source": [
        "The <code>$exists</code> operator can be used to check for the existence of an attribute, e.g. to select only movies with undefined releases:"
      ],
      "metadata": {
        "id": "Oyf65iASeokP"
      }
    },
    {
      "cell_type": "code",
      "source": [
        "query = \"\"\"\n",
        "### INSERT YOUR CODE HERE ###\n",
        "\"\"\"\n",
        "\n",
        "!mongo --quiet --eval '{query}'"
      ],
      "metadata": {
        "id": "clzUPXYeet3Z"
      },
      "execution_count": null,
      "outputs": []
    },
    {
      "cell_type": "markdown",
      "source": [
        "In MongoDB, it is also possible to query nested data, i.e. subdocuments. The following returns the title and releases of every movie that is known to be released in the UK:"
      ],
      "metadata": {
        "id": "mYZcQUFYey8G"
      }
    },
    {
      "cell_type": "code",
      "source": [
        "query = \"\"\"\n",
        "### INSERT YOUR CODE HERE ###\n",
        "\"\"\"\n",
        "\n",
        "!mongo --quiet --eval '{query}'"
      ],
      "metadata": {
        "id": "5xJ7AWKfe4MW"
      },
      "execution_count": null,
      "outputs": []
    },
    {
      "cell_type": "markdown",
      "source": [
        "Please note that you have to use quotes to address nested fields."
      ],
      "metadata": {
        "id": "g8addS5-e7J8"
      }
    },
    {
      "cell_type": "markdown",
      "source": [
        "Applying more complex selection criteria on a nested document, however, is a little tricky. For example, if you wanted MongoDB to return all movies that had their prerelease in the USA, you might try something like this:"
      ],
      "metadata": {
        "id": "gN3_EeW1fCnX"
      }
    },
    {
      "cell_type": "code",
      "source": [
        "query = \"\"\"\n",
        "db.films.find({\n",
        "    \"releases.country\": \"USA\" ,\n",
        "    \"releases.prerelease\": true\n",
        "},\n",
        "{\n",
        "    \"_id\": 0 ,\n",
        "    \"title\": 1,\n",
        "    \"releases\": 1\n",
        "})\n",
        "\"\"\"\n",
        "\n",
        "!mongo --quiet --eval '{query}'"
      ],
      "metadata": {
        "id": "BiN_8ANpfB-I"
      },
      "execution_count": null,
      "outputs": []
    },
    {
      "cell_type": "markdown",
      "source": [
        "However, This Means War is also returned, but was prereleased in the UK. The call above actually returns all movies that have some prerelease or were released in the USA. To only select movies were both applies to the same release, the <code>$elemMatch</code> can be used:\n",
        "\n"
      ],
      "metadata": {
        "id": "Ih3opAyLfNE-"
      }
    },
    {
      "cell_type": "code",
      "source": [
        "query = \"\"\"\n",
        "### INSERT YOUR CODE HERE ###\n",
        "\"\"\"\n",
        "\n",
        "!mongo --quiet --eval '{query}'"
      ],
      "metadata": {
        "id": "i2KAgavlfXim"
      },
      "execution_count": null,
      "outputs": []
    },
    {
      "cell_type": "markdown",
      "source": [
        "Naturally, there are many other operators not covered by this tutorial."
      ],
      "metadata": {
        "id": "Nl8bDLRnfb9W"
      }
    },
    {
      "cell_type": "markdown",
      "source": [
        "# 4 Update"
      ],
      "metadata": {
        "id": "RQwM0o1mffeH"
      }
    },
    {
      "cell_type": "markdown",
      "source": [
        "You can also add or update fields in a document by using the <code>$set</code> operator. For example, you can add a rating field to one of the movies:"
      ],
      "metadata": {
        "id": "TDMqk31FfihH"
      }
    },
    {
      "cell_type": "code",
      "source": [
        "query = \"\"\"\n",
        "db.films.update(\n",
        "    {\"title\": \"Star Trek Into Darkness\"},\n",
        "    {$set: {\"rating\": 6.4}}\n",
        ")\n",
        "\"\"\"\n",
        "\n",
        "!mongo --quiet --eval '{query}'"
      ],
      "metadata": {
        "id": "HZ26_cRPfejM"
      },
      "execution_count": null,
      "outputs": []
    },
    {
      "cell_type": "markdown",
      "source": [
        "If you do not use the $set operator, every document fulfilling the selection criteria will be replaced, so be careful!"
      ],
      "metadata": {
        "id": "lXJnLtOkfrvC"
      }
    },
    {
      "cell_type": "markdown",
      "source": [
        "Now, verify if the <code>rating</code> field is added to the document:"
      ],
      "metadata": {
        "id": "dLRJ9MuBfvEc"
      }
    },
    {
      "cell_type": "code",
      "source": [
        "query = \"\"\"\n",
        "### INSERT YOUR CODE HERE ###\n",
        "\"\"\"\n",
        "\n",
        "!mongo --quiet --eval '{query}'"
      ],
      "metadata": {
        "id": "b2MfKVMJfuPY"
      },
      "execution_count": null,
      "outputs": []
    },
    {
      "cell_type": "markdown",
      "source": [
        "To increment a number of value, you can use the <code>$inc</code> operator:"
      ],
      "metadata": {
        "id": "EfkydNsxf13G"
      }
    },
    {
      "cell_type": "code",
      "source": [
        "query = \"\"\"\n",
        "db.films.update(\n",
        "    {\"title\": \"Star Trek Into Darkness\"},\n",
        "    {$inc: {\"rating\": 0.1}}\n",
        ")\n",
        "\"\"\"\n",
        "\n",
        "!mongo --quiet --eval '{query}'"
      ],
      "metadata": {
        "id": "wg8d7Muof6n6"
      },
      "execution_count": null,
      "outputs": []
    },
    {
      "cell_type": "markdown",
      "source": [
        "Verify if the rating value has been incremented by <code>0.1</code>."
      ],
      "metadata": {
        "id": "i91Xy5bvgLyx"
      }
    },
    {
      "cell_type": "code",
      "source": [
        "query = \"\"\"\n",
        "### INSERT YOUR CODE HERE ###\n",
        "\"\"\"\n",
        "\n",
        "!mongo --quiet --eval '{query}'"
      ],
      "metadata": {
        "id": "D2Y3GBM_gTjS"
      },
      "execution_count": null,
      "outputs": []
    },
    {
      "cell_type": "markdown",
      "source": [
        "Again, there are many other different operators for different purposes, e.g. `$unset`, `$inc`, `$pop`, `$push`, `$pushAll` or `$addToSet`."
      ],
      "metadata": {
        "id": "VQSNmWakgJYG"
      }
    },
    {
      "cell_type": "markdown",
      "source": [
        "# 5 Delete"
      ],
      "metadata": {
        "id": "sB6VVIfjhDkN"
      }
    },
    {
      "cell_type": "markdown",
      "source": [
        "You can remove documents with the remove function. It actually works almost like the find function; you only don’t use the projection parameter. If, for example, you want to remove all film documents whose title starts with the letter T, you can first query for all such movies..."
      ],
      "metadata": {
        "id": "p0yaZLiehI-Q"
      }
    },
    {
      "cell_type": "code",
      "source": [
        "query = \"\"\"\n",
        "db.films.find({\"title\": /^T/})\n",
        "\"\"\"\n",
        "\n",
        "!mongo --quiet --eval '{query}'"
      ],
      "metadata": {
        "id": "9HnJShv3gewZ"
      },
      "execution_count": null,
      "outputs": []
    },
    {
      "cell_type": "markdown",
      "source": [
        "... to verify that your selection criteria is correct and then replaced the find in your call by remove:"
      ],
      "metadata": {
        "id": "IgqeM8FhhTBS"
      }
    },
    {
      "cell_type": "code",
      "source": [
        "db . films . find ({ title : /^ T /})\n",
        "query = \"\"\"\n",
        "db.films.remove({\"title\": /^T/})\n",
        "\"\"\"\n",
        "\n",
        "!mongo --quiet --eval '{query}'"
      ],
      "metadata": {
        "id": "6oqgb3vghax2"
      },
      "execution_count": null,
      "outputs": []
    },
    {
      "cell_type": "markdown",
      "source": [
        "Now, we verify if the documents has been removed from the collection:"
      ],
      "metadata": {
        "id": "lslKky9-hd8x"
      }
    },
    {
      "cell_type": "code",
      "source": [
        "query = \"\"\"\n",
        "### INSERT YOUR CODE HERE ###\n",
        "\"\"\"\n",
        "\n",
        "!mongo --quiet --eval '{query}'"
      ],
      "metadata": {
        "id": "aF-8cSNbhmyV"
      },
      "execution_count": null,
      "outputs": []
    }
  ]
}