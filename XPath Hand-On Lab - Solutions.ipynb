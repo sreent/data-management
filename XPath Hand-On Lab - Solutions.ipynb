{
  "nbformat": 4,
  "nbformat_minor": 0,
  "metadata": {
    "colab": {
      "provenance": [],
      "include_colab_link": true
    },
    "kernelspec": {
      "display_name": "Python 3",
      "language": "python",
      "name": "python3"
    }
  },
  "cells": [
    {
      "cell_type": "markdown",
      "metadata": {
        "id": "view-in-github",
        "colab_type": "text"
      },
      "source": [
        "<a href=\"https://colab.research.google.com/github/sreent/data-management-intro/blob/main/XPath%20Hand-On%20Lab%20-%20Solutions.ipynb\" target=\"_parent\"><img src=\"https://colab.research.google.com/assets/colab-badge.svg\" alt=\"Open In Colab\"/></a>"
      ]
    },
    {
      "metadata": {
        "id": "vM6ta952S2z2"
      },
      "cell_type": "markdown",
      "source": [
        "# 1 Setting Up MongoDB Environment"
      ]
    },
    {
      "cell_type": "code",
      "source": [
        "# Install MongoDB's dependencies\n",
        "!sudo wget http://archive.ubuntu.com/ubuntu/pool/main/o/openssl/libssl1.1_1.1.1f-1ubuntu2_amd64.deb\n",
        "!sudo dpkg -i libssl1.1_1.1.1f-1ubuntu2_amd64.deb\n",
        "\n",
        "# Import the public key used by the package management system\n",
        "!wget -qO - https://www.mongodb.org/static/pgp/server-4.4.asc | apt-key add -\n",
        "\n",
        "# Create a list file for MongoDB\n",
        "!echo \"deb [ arch=amd64,arm64 ] http://repo.mongodb.org/apt/ubuntu bionic/mongodb-org/4.4 multiverse\" | tee /etc/apt/sources.list.d/mongodb-org-4.4.list\n",
        "\n",
        "# Reload the local package database\n",
        "!apt-get update > /dev/null\n",
        "\n",
        "# Install the MongoDB packages\n",
        "!apt-get install -y mongodb-org > /dev/null\n",
        "\n",
        "# Install pymongo\n",
        "!pip install -q pymongo\n",
        "\n",
        "# Create Data Folder\n",
        "!mkdir -p /data/db\n",
        "\n",
        "# Start MongoDB\n",
        "!mongod --fork --logpath /var/log/mongodb.log --dbpath /data/db"
      ],
      "metadata": {
        "id": "zgXgWsKqFlWM",
        "colab": {
          "base_uri": "https://localhost:8080/"
        },
        "outputId": "c4e9b097-2d56-434a-9661-8e13f1007ee1"
      },
      "execution_count": 1,
      "outputs": [
        {
          "output_type": "stream",
          "name": "stdout",
          "text": [
            "--2024-06-19 05:34:51--  http://archive.ubuntu.com/ubuntu/pool/main/o/openssl/libssl1.1_1.1.1f-1ubuntu2_amd64.deb\n",
            "Resolving archive.ubuntu.com (archive.ubuntu.com)... 91.189.91.83, 185.125.190.82, 185.125.190.81, ...\n",
            "Connecting to archive.ubuntu.com (archive.ubuntu.com)|91.189.91.83|:80... connected.\n",
            "HTTP request sent, awaiting response... 200 OK\n",
            "Length: 1318204 (1.3M) [application/vnd.debian.binary-package]\n",
            "Saving to: ‘libssl1.1_1.1.1f-1ubuntu2_amd64.deb’\n",
            "\n",
            "libssl1.1_1.1.1f-1u 100%[===================>]   1.26M  5.77MB/s    in 0.2s    \n",
            "\n",
            "2024-06-19 05:34:51 (5.77 MB/s) - ‘libssl1.1_1.1.1f-1ubuntu2_amd64.deb’ saved [1318204/1318204]\n",
            "\n",
            "Selecting previously unselected package libssl1.1:amd64.\n",
            "(Reading database ... 121913 files and directories currently installed.)\n",
            "Preparing to unpack libssl1.1_1.1.1f-1ubuntu2_amd64.deb ...\n",
            "Unpacking libssl1.1:amd64 (1.1.1f-1ubuntu2) ...\n",
            "Setting up libssl1.1:amd64 (1.1.1f-1ubuntu2) ...\n",
            "debconf: unable to initialize frontend: Dialog\n",
            "debconf: (No usable dialog-like program is installed, so the dialog based frontend cannot be used. at /usr/share/perl5/Debconf/FrontEnd/Dialog.pm line 78.)\n",
            "debconf: falling back to frontend: Readline\n",
            "debconf: unable to initialize frontend: Readline\n",
            "debconf: (This frontend requires a controlling tty.)\n",
            "debconf: falling back to frontend: Teletype\n",
            "Processing triggers for libc-bin (2.35-0ubuntu3.4) ...\n",
            "/sbin/ldconfig.real: /usr/local/lib/libtbbbind.so.3 is not a symbolic link\n",
            "\n",
            "/sbin/ldconfig.real: /usr/local/lib/libtbbbind_2_0.so.3 is not a symbolic link\n",
            "\n",
            "/sbin/ldconfig.real: /usr/local/lib/libtbbmalloc_proxy.so.2 is not a symbolic link\n",
            "\n",
            "/sbin/ldconfig.real: /usr/local/lib/libtbbmalloc.so.2 is not a symbolic link\n",
            "\n",
            "/sbin/ldconfig.real: /usr/local/lib/libtbb.so.12 is not a symbolic link\n",
            "\n",
            "/sbin/ldconfig.real: /usr/local/lib/libtbbbind_2_5.so.3 is not a symbolic link\n",
            "\n",
            "Warning: apt-key is deprecated. Manage keyring files in trusted.gpg.d instead (see apt-key(8)).\n",
            "OK\n",
            "deb [ arch=amd64,arm64 ] http://repo.mongodb.org/apt/ubuntu bionic/mongodb-org/4.4 multiverse\n",
            "W: http://repo.mongodb.org/apt/ubuntu/dists/bionic/mongodb-org/4.4/Release.gpg: Key is stored in legacy trusted.gpg keyring (/etc/apt/trusted.gpg), see the DEPRECATION section in apt-key(8) for details.\n",
            "\u001b[2K     \u001b[90m━━━━━━━━━━━━━━━━━━━━━━━━━━━━━━━━━━━━━━━━\u001b[0m \u001b[32m669.1/669.1 kB\u001b[0m \u001b[31m4.2 MB/s\u001b[0m eta \u001b[36m0:00:00\u001b[0m\n",
            "\u001b[2K     \u001b[90m━━━━━━━━━━━━━━━━━━━━━━━━━━━━━━━━━━━━━━━━\u001b[0m \u001b[32m307.7/307.7 kB\u001b[0m \u001b[31m25.8 MB/s\u001b[0m eta \u001b[36m0:00:00\u001b[0m\n",
            "\u001b[?25habout to fork child process, waiting until server is ready for connections.\n",
            "forked process: 1728\n",
            "child process started successfully, parent exiting\n"
          ]
        }
      ]
    },
    {
      "cell_type": "code",
      "source": [
        "from pymongo import MongoClient\n",
        "\n",
        "# Establish connection to MongoDB\n",
        "try:\n",
        "    client = MongoClient('localhost', 27017)\n",
        "    print(\"Connected to MongoDB\")\n",
        "except Exception as e:\n",
        "    print(\"Error connecting to MongoDB: \", e)\n",
        "    exit()\n",
        "\n",
        "# List databases to check the connection\n",
        "try:\n",
        "    databases = client.list_database_names()\n",
        "    print(\"Databases:\", databases)\n",
        "except Exception as e:\n",
        "    print(\"Error listing databases: \", e)\n",
        "\n",
        "# Retrieve server status\n",
        "try:\n",
        "    server_status = client.admin.command(\"serverStatus\")\n",
        "    print(\"Server Status:\", server_status)\n",
        "except Exception as e:\n",
        "    print(\"Error retrieving server status: \", e)\n",
        "\n",
        "# Perform basic database operations (Create, Read)\n",
        "try:\n",
        "    db = client.test_db\n",
        "    collection = db.test_collection\n",
        "    # Insert a document\n",
        "    insert_result = collection.insert_one({\"name\": \"test\", \"value\": 123})\n",
        "    print(\"Insert operation result:\", insert_result.inserted_id)\n",
        "    # Read a document\n",
        "    read_result = collection.find_one({\"name\": \"test\"})\n",
        "    print(\"Read operation result:\", read_result)\n",
        "except Exception as e:\n",
        "    print(\"Error performing database operations: \", e)"
      ],
      "metadata": {
        "id": "f2q4bBmFNQuA",
        "colab": {
          "base_uri": "https://localhost:8080/"
        },
        "outputId": "61af48d9-ae3c-4ed8-ed54-91fcbdbf6f3d"
      },
      "execution_count": 2,
      "outputs": [
        {
          "output_type": "stream",
          "name": "stdout",
          "text": [
            "Connected to MongoDB\n",
            "Databases: ['admin', 'config', 'local']\n",
            "Server Status: {'host': '91f82546d9d9', 'version': '4.4.29', 'process': 'mongod', 'pid': 1728, 'uptime': 1.0, 'uptimeMillis': 1019, 'uptimeEstimate': 1, 'localTime': datetime.datetime(2024, 6, 19, 5, 35, 37, 426000), 'asserts': {'regular': 0, 'warning': 0, 'msg': 0, 'user': 4, 'rollovers': 0}, 'connections': {'current': 3, 'available': 838857, 'totalCreated': 3, 'active': 2, 'exhaustIsMaster': 0, 'exhaustHello': 0, 'awaitingTopologyChanges': 1}, 'electionMetrics': {'stepUpCmd': {'called': 0, 'successful': 0}, 'priorityTakeover': {'called': 0, 'successful': 0}, 'catchUpTakeover': {'called': 0, 'successful': 0}, 'electionTimeout': {'called': 0, 'successful': 0}, 'freezeTimeout': {'called': 0, 'successful': 0}, 'numStepDownsCausedByHigherTerm': 0, 'numCatchUps': 0, 'numCatchUpsSucceeded': 0, 'numCatchUpsAlreadyCaughtUp': 0, 'numCatchUpsSkipped': 0, 'numCatchUpsTimedOut': 0, 'numCatchUpsFailedWithError': 0, 'numCatchUpsFailedWithNewTerm': 0, 'numCatchUpsFailedWithReplSetAbortPrimaryCatchUpCmd': 0, 'averageCatchUpOps': 0.0}, 'extra_info': {'note': 'fields vary by platform', 'user_time_us': 625373, 'system_time_us': 42179, 'maximum_resident_set_kb': 84296, 'input_blocks': 0, 'output_blocks': 328, 'page_reclaims': 12514, 'page_faults': 2, 'voluntary_context_switches': 187, 'involuntary_context_switches': 317}, 'featureCompatibilityVersion': {'major': 4, 'minor': 4, 'transitioning': 0}, 'flowControl': {'enabled': True, 'targetRateLimit': 1000000000, 'timeAcquiringMicros': 260, 'locksPerKiloOp': 0.0, 'sustainerRate': 0, 'isLagged': False, 'isLaggedCount': 0, 'isLaggedTimeMicros': 0}, 'globalLock': {'totalTime': 1034000, 'currentQueue': {'total': 0, 'readers': 0, 'writers': 0}, 'activeClients': {'total': 0, 'readers': 0, 'writers': 0}}, 'indexBulkBuilder': {'count': 0, 'filesOpenedForExternalSort': 0, 'filesClosedForExternalSort': 0}, 'locks': {'ParallelBatchWriterMode': {'acquireCount': {'r': 23}}, 'FeatureCompatibilityVersion': {'acquireCount': {'r': 15, 'w': 13}}, 'ReplicationStateTransition': {'acquireCount': {'w': 28}}, 'Global': {'acquireCount': {'r': 15, 'w': 9, 'W': 4}}, 'Database': {'acquireCount': {'r': 14, 'w': 3, 'W': 6}}, 'Collection': {'acquireCount': {'r': 19, 'w': 4, 'W': 2}}, 'Mutex': {'acquireCount': {'r': 24}}}, 'logicalSessionRecordCache': {'activeSessionsCount': 1, 'sessionsCollectionJobCount': 1, 'lastSessionsCollectionJobDurationMillis': 36, 'lastSessionsCollectionJobTimestamp': datetime.datetime(2024, 6, 19, 5, 35, 37, 184000), 'lastSessionsCollectionJobEntriesRefreshed': 0, 'lastSessionsCollectionJobEntriesEnded': 0, 'lastSessionsCollectionJobCursorsClosed': 0, 'transactionReaperJobCount': 1, 'lastTransactionReaperJobDurationMillis': 0, 'lastTransactionReaperJobTimestamp': datetime.datetime(2024, 6, 19, 5, 35, 37, 184000), 'lastTransactionReaperJobEntriesCleanedUp': 0, 'sessionCatalogSize': 0}, 'network': {'bytesIn': 1260, 'bytesOut': 1114, 'physicalBytesIn': 1260, 'physicalBytesOut': 1114, 'numSlowDNSOperations': 0, 'numSlowSSLOperations': 0, 'numRequests': 6, 'tcpFastOpen': {'kernelSetting': 1, 'serverSupported': True, 'clientSupported': True, 'accepted': 0}, 'compression': {'snappy': {'compressor': {'bytesIn': 0, 'bytesOut': 0}, 'decompressor': {'bytesIn': 0, 'bytesOut': 0}}, 'zstd': {'compressor': {'bytesIn': 0, 'bytesOut': 0}, 'decompressor': {'bytesIn': 0, 'bytesOut': 0}}, 'zlib': {'compressor': {'bytesIn': 0, 'bytesOut': 0}, 'decompressor': {'bytesIn': 0, 'bytesOut': 0}}}, 'serviceExecutorTaskStats': {'executor': 'passthrough', 'threadsRunning': 3}}, 'opLatencies': {'reads': {'latency': 0, 'ops': 0}, 'writes': {'latency': 0, 'ops': 0}, 'commands': {'latency': 358, 'ops': 4}, 'transactions': {'latency': 0, 'ops': 0}}, 'opReadConcernCounters': {'available': 0, 'linearizable': 0, 'local': 0, 'majority': 0, 'snapshot': 0, 'none': 1}, 'opcounters': {'insert': 0, 'query': 1, 'update': 0, 'delete': 0, 'getmore': 0, 'command': 9}, 'opcountersRepl': {'insert': 0, 'query': 0, 'update': 0, 'delete': 0, 'getmore': 0, 'command': 0}, 'scramCache': {'SCRAM-SHA-1': {'count': 0, 'hits': 0, 'misses': 0}, 'SCRAM-SHA-256': {'count': 0, 'hits': 0, 'misses': 0}}, 'security': {'authentication': {'mechanisms': {'MONGODB-X509': {'speculativeAuthenticate': {'received': 0, 'successful': 0}, 'authenticate': {'received': 0, 'successful': 0}}, 'SCRAM-SHA-1': {'speculativeAuthenticate': {'received': 0, 'successful': 0}, 'authenticate': {'received': 0, 'successful': 0}}, 'SCRAM-SHA-256': {'speculativeAuthenticate': {'received': 0, 'successful': 0}, 'authenticate': {'received': 0, 'successful': 0}}}}}, 'storageEngine': {'name': 'wiredTiger', 'supportsCommittedReads': True, 'oldestRequiredTimestampForCrashRecovery': Timestamp(0, 0), 'supportsPendingDrops': True, 'dropPendingIdents': 0, 'supportsTwoPhaseIndexBuild': True, 'supportsSnapshotReadConcern': True, 'readOnly': False, 'persistent': True, 'backupCursorOpen': False}, 'tcmalloc': {'generic': {'current_allocated_bytes': 89234816, 'heap_size': 90484736}, 'tcmalloc': {'pageheap_free_bytes': 520192, 'pageheap_unmapped_bytes': 0, 'max_total_thread_cache_bytes': 1073741824, 'current_total_thread_cache_bytes': 476296, 'total_free_bytes': 729728, 'central_cache_free_bytes': 228856, 'transfer_cache_free_bytes': 24576, 'thread_cache_free_bytes': 476296, 'aggressive_memory_decommit': 0, 'pageheap_committed_bytes': 90484736, 'pageheap_scavenge_count': 0, 'pageheap_commit_count': 52, 'pageheap_total_commit_bytes': 90484736, 'pageheap_decommit_count': 0, 'pageheap_total_decommit_bytes': 0, 'pageheap_reserve_count': 52, 'pageheap_total_reserve_bytes': 90484736, 'spinlock_total_delay_ns': 0, 'release_rate': 1.0, 'formattedString': '------------------------------------------------\\nMALLOC:       89235392 (   85.1 MiB) Bytes in use by application\\nMALLOC: +       520192 (    0.5 MiB) Bytes in page heap freelist\\nMALLOC: +       226552 (    0.2 MiB) Bytes in central cache freelist\\nMALLOC: +        24576 (    0.0 MiB) Bytes in transfer cache freelist\\nMALLOC: +       478024 (    0.5 MiB) Bytes in thread cache freelists\\nMALLOC: +      2752512 (    2.6 MiB) Bytes in malloc metadata\\nMALLOC:   ------------\\nMALLOC: =     93237248 (   88.9 MiB) Actual memory used (physical + swap)\\nMALLOC: +            0 (    0.0 MiB) Bytes released to OS (aka unmapped)\\nMALLOC:   ------------\\nMALLOC: =     93237248 (   88.9 MiB) Virtual address space used\\nMALLOC:\\nMALLOC:            662              Spans in use\\nMALLOC:             31              Thread heaps in use\\nMALLOC:           4096              Tcmalloc page size\\n------------------------------------------------\\nCall ReleaseFreeMemory() to release freelist memory to the OS (via madvise()).\\nBytes released to the OS take up virtual address space but no physical memory.\\n'}}, 'trafficRecording': {'running': False}, 'transactions': {'retriedCommandsCount': 0, 'retriedStatementsCount': 0, 'transactionsCollectionWriteCount': 0, 'currentActive': 0, 'currentInactive': 0, 'currentOpen': 0, 'totalAborted': 0, 'totalCommitted': 0, 'totalStarted': 0, 'totalPrepared': 0, 'totalPreparedThenCommitted': 0, 'totalPreparedThenAborted': 0, 'currentPrepared': 0}, 'transportSecurity': {'1.0': 0, '1.1': 0, '1.2': 0, '1.3': 0, 'unknown': 0}, 'twoPhaseCommitCoordinator': {'totalCreated': 0, 'totalStartedTwoPhaseCommit': 0, 'totalAbortedTwoPhaseCommit': 0, 'totalCommittedTwoPhaseCommit': 0, 'currentInSteps': {'writingParticipantList': 0, 'waitingForVotes': 0, 'writingDecision': 0, 'waitingForDecisionAcks': 0, 'deletingCoordinatorDoc': 0}}, 'wiredTiger': {'uri': 'statistics:', 'block-manager': {'blocks pre-loaded': 0, 'blocks read': 0, 'blocks written': 0, 'bytes read': 0, 'bytes read via memory map API': 0, 'bytes read via system call API': 0, 'bytes written': 0, 'bytes written for checkpoint': 0, 'bytes written via memory map API': 0, 'bytes written via system call API': 0, 'mapped blocks read': 0, 'mapped bytes read': 0, 'number of times the file was remapped because it changed size via fallocate or truncate': 0, 'number of times the region was remapped via write': 0}, 'cache': {'application threads page read from disk to cache count': 0, 'application threads page read from disk to cache time (usecs)': 0, 'application threads page write from cache to disk count': 0, 'application threads page write from cache to disk time (usecs)': 0, 'bytes allocated for updates': 30877, 'bytes belonging to page images in the cache': 0, 'bytes belonging to the history store table in the cache': 191, 'bytes currently in the cache': 33705, 'bytes dirty in the cache cumulative': 3832, 'bytes not belonging to page images in the cache': 33705, 'bytes read into cache': 0, 'bytes written from cache': 0, 'cache overflow score': 0, 'checkpoint blocked page eviction': 0, 'checkpoint of history store file blocked non-history store page eviction': 0, 'eviction calls to get a page': 0, 'eviction calls to get a page found queue empty': 0, 'eviction calls to get a page found queue empty after locking': 0, 'eviction currently operating in aggressive mode': 0, 'eviction empty score': 0, 'eviction gave up due to detecting an out of order on disk value behind the last update on the chain': 0, 'eviction gave up due to detecting an out of order tombstone ahead of the selected on disk update': 0, 'eviction gave up due to detecting an out of order tombstone ahead of the selected on disk update after validating the update chain': 0, 'eviction gave up due to detecting out of order timestamps on the update chain after the selected on disk update': 0, 'eviction passes of a file': 0, 'eviction server candidate queue empty when topping up': 0, 'eviction server candidate queue not empty when topping up': 0, 'eviction server evicting pages': 0, 'eviction server slept, because we did not make progress with eviction': 0, 'eviction server unable to reach eviction goal': 0, 'eviction server waiting for a leaf page': 10, 'eviction state': 64, 'eviction walk most recent sleeps for checkpoint handle gathering': 0, 'eviction walk target pages histogram - 0-9': 0, 'eviction walk target pages histogram - 10-31': 0, 'eviction walk target pages histogram - 128 and higher': 0, 'eviction walk target pages histogram - 32-63': 0, 'eviction walk target pages histogram - 64-128': 0, 'eviction walk target pages reduced due to history store cache pressure': 0, 'eviction walk target strategy both clean and dirty pages': 0, 'eviction walk target strategy only clean pages': 0, 'eviction walk target strategy only dirty pages': 0, 'eviction walks abandoned': 0, 'eviction walks gave up because they restarted their walk twice': 0, 'eviction walks gave up because they saw too many pages and found no candidates': 0, 'eviction walks gave up because they saw too many pages and found too few candidates': 0, 'eviction walks reached end of tree': 0, 'eviction walks restarted': 0, 'eviction walks started from root of tree': 0, 'eviction walks started from saved location in tree': 0, 'eviction worker thread active': 4, 'eviction worker thread created': 0, 'eviction worker thread evicting pages': 0, 'eviction worker thread removed': 0, 'eviction worker thread stable number': 0, 'files with active eviction walks': 0, 'files with new eviction walks started': 0, 'force re-tuning of eviction workers once in a while': 0, 'forced eviction - history store pages failed to evict while session has history store cursor open': 0, 'forced eviction - history store pages selected while session has history store cursor open': 0, 'forced eviction - history store pages successfully evicted while session has history store cursor open': 0, 'forced eviction - pages evicted that were clean count': 0, 'forced eviction - pages evicted that were clean time (usecs)': 0, 'forced eviction - pages evicted that were dirty count': 0, 'forced eviction - pages evicted that were dirty time (usecs)': 0, 'forced eviction - pages selected because of a large number of updates to a single item': 0, 'forced eviction - pages selected because of too many deleted items count': 0, 'forced eviction - pages selected count': 0, 'forced eviction - pages selected unable to be evicted count': 0, 'forced eviction - pages selected unable to be evicted time': 0, 'hazard pointer blocked page eviction': 0, 'hazard pointer check calls': 0, 'hazard pointer check entries walked': 0, 'hazard pointer maximum array length': 0, 'history store score': 0, 'history store table insert calls': 0, 'history store table insert calls that returned restart': 0, 'history store table max on-disk size': 0, 'history store table on-disk size': 0, 'history store table out-of-order resolved updates that lose their durable timestamp': 0, 'history store table out-of-order updates that were fixed up by reinserting with the fixed timestamp': 0, 'history store table reads': 0, 'history store table reads missed': 0, 'history store table reads requiring squashed modifies': 0, 'history store table truncation by rollback to stable to remove an unstable update': 0, 'history store table truncation by rollback to stable to remove an update': 0, 'history store table truncation to remove an update': 0, 'history store table truncation to remove range of updates due to key being removed from the data page during reconciliation': 0, 'history store table truncation to remove range of updates due to out-of-order timestamp update on data page': 0, 'history store table writes requiring squashed modifies': 0, 'in-memory page passed criteria to be split': 0, 'in-memory page splits': 0, 'internal pages evicted': 0, 'internal pages queued for eviction': 0, 'internal pages seen by eviction walk': 0, 'internal pages seen by eviction walk that are already queued': 0, 'internal pages split during eviction': 0, 'leaf pages split during eviction': 0, 'maximum bytes configured': 6267338752.0, 'maximum milliseconds spent at a single eviction': 0, 'maximum page size seen at eviction': 0, 'modified pages evicted': 0, 'modified pages evicted by application threads': 0, 'operations timed out waiting for space in cache': 0, 'overflow pages read into cache': 0, 'page split during eviction deepened the tree': 0, 'page written requiring history store records': 0, 'pages currently held in the cache': 18, 'pages evicted by application threads': 0, 'pages evicted in parallel with checkpoint': 0, 'pages queued for eviction': 0, 'pages queued for eviction post lru sorting': 0, 'pages queued for urgent eviction': 0, 'pages queued for urgent eviction during walk': 0, 'pages queued for urgent eviction from history store due to high dirty content': 0, 'pages read into cache': 0, 'pages read into cache after truncate': 7, 'pages read into cache after truncate in prepare state': 0, 'pages removed from the ordinary queue to be queued for urgent eviction': 0, 'pages requested from the cache': 238, 'pages seen by eviction walk': 0, 'pages seen by eviction walk that are already queued': 0, 'pages selected for eviction unable to be evicted': 0, 'pages selected for eviction unable to be evicted as the parent page has overflow items': 0, 'pages selected for eviction unable to be evicted because of active children on an internal page': 0, 'pages selected for eviction unable to be evicted because of failure in reconciliation': 0, 'pages selected for eviction unable to be evicted because of race between checkpoint and out of order timestamps handling': 0, 'pages walked for eviction': 0, 'pages written from cache': 0, 'pages written requiring in-memory restoration': 0, 'percentage overhead': 8, 'the number of times full update inserted to history store': 0, 'the number of times reverse modify inserted to history store': 0, 'total milliseconds spent inside reentrant history store evictions in a reconciliation': 0, 'tracked bytes belonging to internal pages in the cache': 2102, 'tracked bytes belonging to leaf pages in the cache': 31603, 'tracked dirty bytes in the cache': 31205, 'tracked dirty pages in the cache': 6, 'unmodified pages evicted': 0}, 'capacity': {'background fsync file handles considered': 0, 'background fsync file handles synced': 0, 'background fsync time (msecs)': 0, 'bytes read': 0, 'bytes written for checkpoint': 0, 'bytes written for eviction': 0, 'bytes written for log': 21760, 'bytes written total': 21760, 'threshold to call fsync': 0, 'time waiting due to total capacity (usecs)': 0, 'time waiting during checkpoint (usecs)': 0, 'time waiting during eviction (usecs)': 0, 'time waiting during logging (usecs)': 0, 'time waiting during read (usecs)': 0}, 'checkpoint-cleanup': {'pages added for eviction': 0, 'pages removed': 0, 'pages skipped during tree walk': 0, 'pages visited': 0}, 'connection': {'auto adjusting condition resets': 0, 'auto adjusting condition wait calls': 12, 'auto adjusting condition wait raced to update timeout and skipped updating': 0, 'detected system time went backwards': 0, 'files currently open': 14, 'hash bucket array size for data handles': 512, 'hash bucket array size general': 512, 'memory allocations': 3247, 'memory frees': 2351, 'memory re-allocations': 257, 'pthread mutex condition wait calls': 20, 'pthread mutex shared lock read-lock calls': 262, 'pthread mutex shared lock write-lock calls': 60, 'total fsync I/Os': 33, 'total read I/Os': 16, 'total write I/Os': 29}, 'cursor': {'Total number of entries skipped by cursor next calls': 0, 'Total number of entries skipped by cursor prev calls': 0, 'Total number of entries skipped to position the history store cursor': 0, 'Total number of times a search near has exited due to prefix config': 0, 'cached cursor count': 16, 'cursor bulk loaded cursor insert calls': 0, 'cursor close calls that result in cache': 31, 'cursor create calls': 65, 'cursor insert calls': 44, 'cursor insert key and value bytes': 22171, 'cursor modify calls': 0, 'cursor modify key and value bytes affected': 0, 'cursor modify value bytes modified': 0, 'cursor next calls': 32, 'cursor next calls that skip due to a globally visible history store tombstone': 0, 'cursor next calls that skip greater than or equal to 100 entries': 0, 'cursor next calls that skip less than 100 entries': 32, 'cursor operation restarted': 0, 'cursor prev calls': 5, 'cursor prev calls that skip due to a globally visible history store tombstone': 0, 'cursor prev calls that skip greater than or equal to 100 entries': 0, 'cursor prev calls that skip less than 100 entries': 5, 'cursor remove calls': 0, 'cursor remove key bytes removed': 0, 'cursor reserve calls': 0, 'cursor reset calls': 255, 'cursor search calls': 189, 'cursor search history store calls': 0, 'cursor search near calls': 5, 'cursor sweep buckets': 0, 'cursor sweep cursors closed': 0, 'cursor sweep cursors examined': 0, 'cursor sweeps': 0, 'cursor truncate calls': 0, 'cursor update calls': 0, 'cursor update key and value bytes': 0, 'cursor update value size change': 0, 'cursors reused from cache': 15, 'open cursor count': 6}, 'data-handle': {'connection data handle size': 440, 'connection data handles currently active': 21, 'connection sweep candidate became referenced': 0, 'connection sweep dhandles closed': 0, 'connection sweep dhandles removed from hash list': 0, 'connection sweep time-of-death sets': 0, 'connection sweeps': 0, 'connection sweeps skipped due to checkpoint gathering handles': 0, 'session dhandles swept': 0, 'session sweep attempts': 30}, 'lock': {'checkpoint lock acquisitions': 0, 'checkpoint lock application thread wait time (usecs)': 0, 'checkpoint lock internal thread wait time (usecs)': 0, 'dhandle lock application thread time waiting (usecs)': 0, 'dhandle lock internal thread time waiting (usecs)': 0, 'dhandle read lock acquisitions': 7, 'dhandle write lock acquisitions': 23, 'durable timestamp queue lock application thread time waiting (usecs)': 0, 'durable timestamp queue lock internal thread time waiting (usecs)': 0, 'durable timestamp queue read lock acquisitions': 0, 'durable timestamp queue write lock acquisitions': 0, 'metadata lock acquisitions': 0, 'metadata lock application thread wait time (usecs)': 0, 'metadata lock internal thread wait time (usecs)': 0, 'read timestamp queue lock application thread time waiting (usecs)': 0, 'read timestamp queue lock internal thread time waiting (usecs)': 0, 'read timestamp queue read lock acquisitions': 0, 'read timestamp queue write lock acquisitions': 0, 'schema lock acquisitions': 12, 'schema lock application thread wait time (usecs)': 0, 'schema lock internal thread wait time (usecs)': 0, 'table lock application thread time waiting for the table lock (usecs)': 0, 'table lock internal thread time waiting for the table lock (usecs)': 0, 'table read lock acquisitions': 0, 'table write lock acquisitions': 10, 'txn global lock application thread time waiting (usecs)': 0, 'txn global lock internal thread time waiting (usecs)': 0, 'txn global read lock acquisitions': 2, 'txn global write lock acquisitions': 3}, 'log': {'busy returns attempting to switch slots': 0, 'force archive time sleeping (usecs)': 0, 'log bytes of payload data': 17894, 'log bytes written': 21632, 'log files manually zero-filled': 0, 'log flush operations': 3, 'log force write operations': 5, 'log force write operations skipped': 3, 'log records compressed': 29, 'log records not compressed': 2, 'log records too small to compress': 33, 'log release advances write LSN': 11, 'log scan operations': 0, 'log scan records requiring two reads': 0, 'log server thread advances write LSN': 2, 'log server thread write LSN walk skipped': 1000, 'log sync operations': 13, 'log sync time duration (usecs)': 30499, 'log sync_dir operations': 1, 'log sync_dir time duration (usecs)': 3997, 'log write operations': 64, 'logging bytes consolidated': 21120, 'maximum log file size': 104857600, 'number of pre-allocated log files to create': 2, 'pre-allocated log files not ready and missed': 1, 'pre-allocated log files prepared': 2, 'pre-allocated log files used': 0, 'records processed by log scan': 0, 'slot close lost race': 0, 'slot close unbuffered waits': 0, 'slot closures': 13, 'slot join atomic update races': 0, 'slot join calls atomic updates raced': 0, 'slot join calls did not yield': 64, 'slot join calls found active slot closed': 0, 'slot join calls slept': 0, 'slot join calls yielded': 0, 'slot join found active slot closed': 0, 'slot joins yield time (usecs)': 0, 'slot transitions unable to find free slot': 0, 'slot unbuffered writes': 0, 'total in-memory size of compressed records': 22283, 'total log buffer size': 33554432, 'total size of compressed records': 15179, 'written slots coalesced': 0, 'yields waiting for previous log file close': 0}, 'perf': {'file system read latency histogram (bucket 1) - 10-49ms': 0, 'file system read latency histogram (bucket 2) - 50-99ms': 0, 'file system read latency histogram (bucket 3) - 100-249ms': 0, 'file system read latency histogram (bucket 4) - 250-499ms': 0, 'file system read latency histogram (bucket 5) - 500-999ms': 0, 'file system read latency histogram (bucket 6) - 1000ms+': 0, 'file system write latency histogram (bucket 1) - 10-49ms': 0, 'file system write latency histogram (bucket 2) - 50-99ms': 0, 'file system write latency histogram (bucket 3) - 100-249ms': 0, 'file system write latency histogram (bucket 4) - 250-499ms': 0, 'file system write latency histogram (bucket 5) - 500-999ms': 0, 'file system write latency histogram (bucket 6) - 1000ms+': 0, 'operation read latency histogram (bucket 1) - 100-249us': 0, 'operation read latency histogram (bucket 2) - 250-499us': 0, 'operation read latency histogram (bucket 3) - 500-999us': 0, 'operation read latency histogram (bucket 4) - 1000-9999us': 0, 'operation read latency histogram (bucket 5) - 10000us+': 0, 'operation write latency histogram (bucket 1) - 100-249us': 0, 'operation write latency histogram (bucket 2) - 250-499us': 0, 'operation write latency histogram (bucket 3) - 500-999us': 0, 'operation write latency histogram (bucket 4) - 1000-9999us': 0, 'operation write latency histogram (bucket 5) - 10000us+': 0}, 'reconciliation': {'approximate byte size of timestamps in pages written': 0, 'approximate byte size of transaction IDs in pages written': 0, 'fast-path pages deleted': 0, 'internal-page overflow keys': 0, 'leaf-page overflow keys': 0, 'maximum milliseconds spent in a reconciliation call': 0, 'maximum milliseconds spent in building a disk image in a reconciliation': 0, 'maximum milliseconds spent in moving updates to the history store in a reconciliation': 0, 'page reconciliation calls': 0, 'page reconciliation calls for eviction': 0, 'page reconciliation calls that resulted in values with prepared transaction metadata': 0, 'page reconciliation calls that resulted in values with timestamps': 0, 'page reconciliation calls that resulted in values with transaction ids': 0, 'pages deleted': 0, 'pages written including an aggregated newest start durable timestamp ': 0, 'pages written including an aggregated newest stop durable timestamp ': 0, 'pages written including an aggregated newest stop timestamp ': 0, 'pages written including an aggregated newest stop transaction ID': 0, 'pages written including an aggregated newest transaction ID ': 0, 'pages written including an aggregated oldest start timestamp ': 0, 'pages written including an aggregated prepare': 0, 'pages written including at least one prepare state': 0, 'pages written including at least one start durable timestamp': 0, 'pages written including at least one start timestamp': 0, 'pages written including at least one start transaction ID': 0, 'pages written including at least one stop durable timestamp': 0, 'pages written including at least one stop timestamp': 0, 'pages written including at least one stop transaction ID': 0, 'records written including a prepare state': 0, 'records written including a start durable timestamp': 0, 'records written including a start timestamp': 0, 'records written including a start transaction ID': 0, 'records written including a stop durable timestamp': 0, 'records written including a stop timestamp': 0, 'records written including a stop transaction ID': 0, 'split bytes currently awaiting free': 0, 'split objects currently awaiting free': 0}, 'session': {'attempts to remove a local object and the object is in use': 0, 'flush_tier operation calls': 0, 'local objects removed': 0, 'open session count': 15, 'session query timestamp calls': 0, 'table alter failed calls': 0, 'table alter successful calls': 0, 'table alter triggering checkpoint calls': 0, 'table alter unchanged and skipped': 0, 'table compact failed calls': 0, 'table compact failed calls due to cache pressure': 0, 'table compact running': 0, 'table compact skipped as process would not reduce file size': 0, 'table compact successful calls': 0, 'table compact timeout': 0, 'table create failed calls': 0, 'table create successful calls': 9, 'table drop failed calls': 0, 'table drop successful calls': 0, 'table rename failed calls': 0, 'table rename successful calls': 0, 'table salvage failed calls': 0, 'table salvage successful calls': 0, 'table truncate failed calls': 0, 'table truncate successful calls': 0, 'table verify failed calls': 0, 'table verify successful calls': 0, 'tiered operations dequeued and processed': 0, 'tiered operations scheduled': 0, 'tiered storage local retention time (secs)': 0}, 'thread-state': {'active filesystem fsync calls': 0, 'active filesystem read calls': 0, 'active filesystem write calls': 0}, 'thread-yield': {'application thread time evicting (usecs)': 0, 'application thread time waiting for cache (usecs)': 0, 'connection close blocked waiting for transaction state stabilization': 0, 'connection close yielded for lsm manager shutdown': 0, 'data handle lock yielded': 0, 'get reference for page index and slot time sleeping (usecs)': 0, 'page access yielded due to prepare state change': 0, 'page acquire busy blocked': 0, 'page acquire eviction blocked': 0, 'page acquire locked blocked': 0, 'page acquire read blocked': 0, 'page acquire time sleeping (usecs)': 0, 'page delete rollback time sleeping for state change (usecs)': 0, 'page reconciliation yielded due to child modification': 0}, 'transaction': {'Number of prepared updates': 0, 'Number of prepared updates committed': 0, 'Number of prepared updates repeated on the same key': 0, 'Number of prepared updates rolled back': 0, 'checkpoint has acquired a snapshot for its transaction': 0, 'oldest pinned transaction ID rolled back for eviction': 0, 'prepared transactions': 0, 'prepared transactions committed': 0, 'prepared transactions currently active': 0, 'prepared transactions rolled back': 0, 'prepared transactions rolled back and do not remove the history store entry': 0, 'prepared transactions rolled back and fix the history store entry with checkpoint reserved transaction id': 0, 'query timestamp calls': 2, 'race to read prepared update retry': 0, 'rollback to stable calls': 0, 'rollback to stable history store records with stop timestamps older than newer records': 0, 'rollback to stable inconsistent checkpoint': 0, 'rollback to stable keys removed': 0, 'rollback to stable keys restored': 0, 'rollback to stable pages visited': 0, 'rollback to stable restored tombstones from history store': 0, 'rollback to stable restored updates from history store': 0, 'rollback to stable skipping delete rle': 0, 'rollback to stable skipping stable rle': 0, 'rollback to stable sweeping history store keys': 0, 'rollback to stable tree walk skipping pages': 0, 'rollback to stable updates aborted': 0, 'rollback to stable updates removed from history store': 0, 'sessions scanned in each walk of concurrent sessions': 645, 'set timestamp calls': 0, 'set timestamp durable calls': 0, 'set timestamp durable updates': 0, 'set timestamp oldest calls': 0, 'set timestamp oldest updates': 0, 'set timestamp stable calls': 0, 'set timestamp stable updates': 0, 'transaction begins': 10, 'transaction checkpoint currently running': 0, 'transaction checkpoint currently running for history store file': 0, 'transaction checkpoint generation': 0, 'transaction checkpoint history store file duration (usecs)': 0, 'transaction checkpoint max time (msecs)': 0, 'transaction checkpoint min time (msecs)': 0, 'transaction checkpoint most recent duration for gathering all handles (usecs)': 0, 'transaction checkpoint most recent duration for gathering applied handles (usecs)': 0, 'transaction checkpoint most recent duration for gathering skipped handles (usecs)': 0, 'transaction checkpoint most recent handles applied': 0, 'transaction checkpoint most recent handles skipped': 0, 'transaction checkpoint most recent handles walked': 0, 'transaction checkpoint most recent time (msecs)': 0, 'transaction checkpoint prepare currently running': 0, 'transaction checkpoint prepare max time (msecs)': 0, 'transaction checkpoint prepare min time (msecs)': 0, 'transaction checkpoint prepare most recent time (msecs)': 0, 'transaction checkpoint prepare total time (msecs)': 0, 'transaction checkpoint scrub dirty target': 0, 'transaction checkpoint scrub time (msecs)': 0, 'transaction checkpoint stop timing stress active': 0, 'transaction checkpoint total time (msecs)': 0, 'transaction checkpoints': 0, 'transaction checkpoints due to obsolete pages': 0, 'transaction checkpoints skipped because database was clean': 0, 'transaction fsync calls for checkpoint after allocating the transaction ID': 0, 'transaction fsync duration for checkpoint after allocating the transaction ID (usecs)': 0, 'transaction range of IDs currently pinned': 0, 'transaction range of IDs currently pinned by a checkpoint': 0, 'transaction range of timestamps currently pinned': 0, 'transaction range of timestamps pinned by a checkpoint': 0, 'transaction range of timestamps pinned by the oldest active read timestamp': 0, 'transaction range of timestamps pinned by the oldest timestamp': 0, 'transaction read timestamp of the oldest active reader': 0, 'transaction rollback to stable currently running': 0, 'transaction walk of concurrent sessions': 44, 'transactions committed': 6, 'transactions rolled back': 4, 'update conflicts': 0}, 'concurrentTransactions': {'write': {'out': 0, 'available': 128, 'totalTickets': 128}, 'read': {'out': 0, 'available': 128, 'totalTickets': 128}}, 'snapshot-window-settings': {'cache pressure percentage threshold': 95, 'current cache pressure percentage': 0, 'total number of SnapshotTooOld errors': 0, 'max target available snapshots window size in seconds': 5, 'target available snapshots window size in seconds': 5, 'current available snapshots window size in seconds': 0, 'latest majority snapshot timestamp available': 'Jan  1 00:00:00:0', 'oldest majority snapshot timestamp available': 'Jan  1 00:00:00:0'}, 'oplog': {'visibility timestamp': Timestamp(0, 0)}}, 'mem': {'bits': 64, 'resident': 82, 'virtual': 1451, 'supported': True}, 'metrics': {'aggStageCounters': {'$_internalApplyOplogUpdate': 0, '$_internalInhibitOptimization': 0, '$_internalSplitPipeline': 0, '$addFields': 0, '$bucket': 0, '$bucketAuto': 0, '$changeStream': 0, '$collStats': 0, '$count': 0, '$currentOp': 0, '$documents': 0, '$facet': 0, '$geoNear': 0, '$graphLookup': 0, '$group': 0, '$indexStats': 0, '$limit': 0, '$listLocalSessions': 0, '$listSessions': 0, '$lookup': 0, '$match': 0, '$merge': 0, '$mergeCursors': 0, '$out': 0, '$planCacheStats': 0, '$project': 0, '$queue': 0, '$redact': 0, '$replaceRoot': 0, '$replaceWith': 0, '$sample': 0, '$set': 0, '$skip': 0, '$sort': 0, '$sortByCount': 0, '$unionWith': 0, '$unset': 0, '$unwind': 0}, 'commands': {'<UNKNOWN>': 0, '_addShard': {'failed': 0, 'total': 0}, '_cloneCollectionOptionsFromPrimaryShard': {'failed': 0, 'total': 0}, '_configsvrAddShard': {'failed': 0, 'total': 0}, '_configsvrAddShardToZone': {'failed': 0, 'total': 0}, '_configsvrBalancerCollectionStatus': {'failed': 0, 'total': 0}, '_configsvrBalancerStart': {'failed': 0, 'total': 0}, '_configsvrBalancerStatus': {'failed': 0, 'total': 0}, '_configsvrBalancerStop': {'failed': 0, 'total': 0}, '_configsvrClearJumboFlag': {'failed': 0, 'total': 0}, '_configsvrCommitChunkMerge': {'failed': 0, 'total': 0}, '_configsvrCommitChunkMigration': {'failed': 0, 'total': 0}, '_configsvrCommitChunkSplit': {'failed': 0, 'total': 0}, '_configsvrCommitChunksMerge': {'failed': 0, 'total': 0}, '_configsvrCommitMovePrimary': {'failed': 0, 'total': 0}, '_configsvrCreateCollection': {'failed': 0, 'total': 0}, '_configsvrCreateDatabase': {'failed': 0, 'total': 0}, '_configsvrDropCollection': {'failed': 0, 'total': 0}, '_configsvrDropDatabase': {'failed': 0, 'total': 0}, '_configsvrEnableSharding': {'failed': 0, 'total': 0}, '_configsvrEnsureChunkVersionIsGreaterThan': {'failed': 0, 'total': 0}, '_configsvrMoveChunk': {'failed': 0, 'total': 0}, '_configsvrMovePrimary': {'failed': 0, 'total': 0}, '_configsvrRefineCollectionShardKey': {'failed': 0, 'total': 0}, '_configsvrRemoveShard': {'failed': 0, 'total': 0}, '_configsvrRemoveShardFromZone': {'failed': 0, 'total': 0}, '_configsvrRepairShardedCollectionChunksHistory': {'failed': 0, 'total': 0}, '_configsvrShardCollection': {'failed': 0, 'total': 0}, '_configsvrUpdateZoneKeyRange': {'failed': 0, 'total': 0}, '_flushDatabaseCacheUpdates': {'failed': 0, 'total': 0}, '_flushRoutingTableCacheUpdates': {'failed': 0, 'total': 0}, '_getNextSessionMods': {'failed': 0, 'total': 0}, '_getUserCacheGeneration': {'failed': 0, 'total': 0}, '_isSelf': {'failed': 0, 'total': 0}, '_killOperations': {'failed': 0, 'total': 0}, '_mergeAuthzCollections': {'failed': 0, 'total': 0}, '_migrateClone': {'failed': 0, 'total': 0}, '_recvChunkAbort': {'failed': 0, 'total': 0}, '_recvChunkCommit': {'failed': 0, 'total': 0}, '_recvChunkStart': {'failed': 0, 'total': 0}, '_recvChunkStatus': {'failed': 0, 'total': 0}, '_shardsvrCloneCatalogData': {'failed': 0, 'total': 0}, '_shardsvrMovePrimary': {'failed': 0, 'total': 0}, '_shardsvrSetAllowMigrations': {'failed': 0, 'total': 0}, '_shardsvrShardCollection': {'failed': 0, 'total': 0}, '_transferMods': {'failed': 0, 'total': 0}, 'abortTransaction': {'failed': 0, 'total': 0}, 'aggregate': {'allowDiskUseTrue': 0, 'failed': 0, 'total': 0}, 'appendOplogNote': {'failed': 0, 'total': 0}, 'applyOps': {'failed': 0, 'total': 0}, 'authenticate': {'failed': 0, 'total': 0}, 'autoSplitVector': {'failed': 0, 'total': 0}, 'availableQueryOptions': {'failed': 0, 'total': 0}, 'buildInfo': {'failed': 0, 'total': 0}, 'checkShardingIndex': {'failed': 0, 'total': 0}, 'cleanupOrphaned': {'failed': 0, 'total': 0}, 'cloneCollectionAsCapped': {'failed': 0, 'total': 0}, 'collMod': {'failed': 0, 'total': 0, 'validator': {'failed': 0, 'jsonSchema': 0, 'total': 0}}, 'collStats': {'failed': 0, 'total': 0}, 'commitTransaction': {'failed': 0, 'total': 0}, 'compact': {'failed': 0, 'total': 0}, 'connPoolStats': {'failed': 0, 'total': 0}, 'connPoolSync': {'failed': 0, 'total': 0}, 'connectionStatus': {'failed': 0, 'total': 0}, 'convertToCapped': {'failed': 0, 'total': 0}, 'coordinateCommitTransaction': {'failed': 0, 'total': 0}, 'count': {'failed': 0, 'total': 0}, 'create': {'failed': 0, 'total': 0, 'validator': {'failed': 0, 'jsonSchema': 0, 'total': 0}}, 'createIndexes': {'failed': 0, 'total': 1}, 'createRole': {'failed': 0, 'total': 0}, 'createUser': {'failed': 0, 'total': 0}, 'currentOp': {'failed': 0, 'total': 0}, 'dataSize': {'failed': 0, 'total': 0}, 'dbCheck': {'failed': 0, 'total': 0}, 'dbHash': {'failed': 0, 'total': 0}, 'dbStats': {'failed': 0, 'total': 0}, 'delete': {'failed': 0, 'total': 0}, 'distinct': {'failed': 0, 'total': 0}, 'driverOIDTest': {'failed': 0, 'total': 0}, 'drop': {'failed': 0, 'total': 0}, 'dropAllRolesFromDatabase': {'failed': 0, 'total': 0}, 'dropAllUsersFromDatabase': {'failed': 0, 'total': 0}, 'dropConnections': {'failed': 0, 'total': 0}, 'dropDatabase': {'failed': 0, 'total': 0}, 'dropIndexes': {'failed': 0, 'total': 0}, 'dropRole': {'failed': 0, 'total': 0}, 'dropUser': {'failed': 0, 'total': 0}, 'endSessions': {'failed': 0, 'total': 0}, 'explain': {'failed': 0, 'total': 0}, 'features': {'failed': 0, 'total': 0}, 'filemd5': {'failed': 0, 'total': 0}, 'find': {'failed': 0, 'total': 1}, 'findAndModify': {'arrayFilters': 0, 'failed': 0, 'pipeline': 0, 'total': 0}, 'flushRouterConfig': {'failed': 0, 'total': 0}, 'fsync': {'failed': 0, 'total': 0}, 'fsyncUnlock': {'failed': 0, 'total': 0}, 'geoSearch': {'failed': 0, 'total': 0}, 'getCmdLineOpts': {'failed': 0, 'total': 0}, 'getDatabaseVersion': {'failed': 0, 'total': 0}, 'getDefaultRWConcern': {'failed': 0, 'total': 0}, 'getDiagnosticData': {'failed': 0, 'total': 0}, 'getLastError': {'failed': 0, 'total': 0}, 'getLog': {'failed': 0, 'total': 0}, 'getMore': {'failed': 0, 'total': 0}, 'getParameter': {'failed': 0, 'total': 0}, 'getShardMap': {'failed': 0, 'total': 0}, 'getShardVersion': {'failed': 0, 'total': 0}, 'getnonce': {'failed': 0, 'total': 0}, 'grantPrivilegesToRole': {'failed': 0, 'total': 0}, 'grantRolesToRole': {'failed': 0, 'total': 0}, 'grantRolesToUser': {'failed': 0, 'total': 0}, 'hello': {'failed': 0, 'total': 1}, 'hostInfo': {'failed': 0, 'total': 0}, 'insert': {'failed': 0, 'total': 0}, 'internalRenameIfOptionsAndIndexesMatch': {'failed': 0, 'total': 0}, 'invalidateUserCache': {'failed': 0, 'total': 0}, 'isMaster': {'failed': 0, 'total': 3}, 'killAllSessions': {'failed': 0, 'total': 0}, 'killAllSessionsByPattern': {'failed': 0, 'total': 0}, 'killCursors': {'failed': 0, 'total': 0}, 'killOp': {'failed': 0, 'total': 0}, 'killSessions': {'failed': 0, 'total': 0}, 'listCollections': {'failed': 0, 'total': 0}, 'listCommands': {'failed': 0, 'total': 0}, 'listDatabases': {'failed': 0, 'total': 1}, 'listIndexes': {'failed': 2, 'total': 2}, 'lockInfo': {'failed': 0, 'total': 0}, 'logRotate': {'failed': 0, 'total': 0}, 'logout': {'failed': 0, 'total': 0}, 'mapReduce': {'failed': 0, 'total': 0}, 'mapreduce': {'shardedfinish': {'failed': 0, 'total': 0}}, 'mergeChunks': {'failed': 0, 'total': 0}, 'moveChunk': {'failed': 0, 'total': 0}, 'ping': {'failed': 0, 'total': 0}, 'planCacheClear': {'failed': 0, 'total': 0}, 'planCacheClearFilters': {'failed': 0, 'total': 0}, 'planCacheListFilters': {'failed': 0, 'total': 0}, 'planCacheSetFilter': {'failed': 0, 'total': 0}, 'prepareTransaction': {'failed': 0, 'total': 0}, 'profile': {'failed': 0, 'total': 0}, 'reIndex': {'failed': 0, 'total': 0}, 'refreshSessions': {'failed': 0, 'total': 0}, 'renameCollection': {'failed': 0, 'total': 0}, 'replSetAbortPrimaryCatchUp': {'failed': 0, 'total': 0}, 'replSetFreeze': {'failed': 0, 'total': 0}, 'replSetGetConfig': {'failed': 0, 'total': 0}, 'replSetGetRBID': {'failed': 0, 'total': 0}, 'replSetGetStatus': {'failed': 0, 'total': 0}, 'replSetHeartbeat': {'failed': 0, 'total': 0}, 'replSetInitiate': {'failed': 0, 'total': 0}, 'replSetMaintenance': {'failed': 0, 'total': 0}, 'replSetReconfig': {'failed': 0, 'total': 0}, 'replSetRequestVotes': {'failed': 0, 'total': 0}, 'replSetResizeOplog': {'failed': 0, 'total': 0}, 'replSetStepDown': {'failed': 0, 'total': 0}, 'replSetStepDownWithForce': {'failed': 0, 'total': 0}, 'replSetStepUp': {'failed': 0, 'total': 0}, 'replSetSyncFrom': {'failed': 0, 'total': 0}, 'replSetUpdatePosition': {'failed': 0, 'total': 0}, 'resetError': {'failed': 0, 'total': 0}, 'revokePrivilegesFromRole': {'failed': 0, 'total': 0}, 'revokeRolesFromRole': {'failed': 0, 'total': 0}, 'revokeRolesFromUser': {'failed': 0, 'total': 0}, 'rolesInfo': {'failed': 0, 'total': 0}, 'saslContinue': {'failed': 0, 'total': 0}, 'saslStart': {'failed': 0, 'total': 0}, 'serverStatus': {'failed': 0, 'total': 1}, 'setDefaultRWConcern': {'failed': 0, 'total': 0}, 'setFeatureCompatibilityVersion': {'failed': 0, 'total': 0}, 'setIndexCommitQuorum': {'failed': 0, 'total': 0}, 'setParameter': {'failed': 0, 'total': 0}, 'setProfilingFilterGlobally': {'failed': 0, 'total': 0}, 'setShardVersion': {'failed': 0, 'total': 0}, 'shardConnPoolStats': {'failed': 0, 'total': 0}, 'shardingState': {'failed': 0, 'total': 0}, 'shutdown': {'failed': 0, 'total': 0}, 'splitChunk': {'failed': 0, 'total': 0}, 'splitVector': {'failed': 0, 'total': 0}, 'startRecordingTraffic': {'failed': 0, 'total': 0}, 'startSession': {'failed': 0, 'total': 0}, 'stopRecordingTraffic': {'failed': 0, 'total': 0}, 'top': {'failed': 0, 'total': 0}, 'unsetSharding': {'failed': 0, 'total': 0}, 'update': {'arrayFilters': 0, 'failed': 0, 'pipeline': 0, 'total': 0}, 'updateRole': {'failed': 0, 'total': 0}, 'updateUser': {'failed': 0, 'total': 0}, 'usersInfo': {'failed': 0, 'total': 0}, 'validate': {'failed': 0, 'total': 0}, 'voteCommitIndexBuild': {'failed': 0, 'total': 0}, 'waitForFailPoint': {'failed': 0, 'total': 0}, 'whatsmyuri': {'failed': 0, 'total': 0}}, 'cursor': {'timedOut': 0, 'open': {'noTimeout': 0, 'pinned': 0, 'total': 0}}, 'document': {'deleted': 0, 'inserted': 0, 'returned': 0, 'updated': 0}, 'getLastError': {'wtime': {'num': 0, 'totalMillis': 0}, 'wtimeouts': 0, 'default': {'unsatisfiable': 0, 'wtimeouts': 0}}, 'operation': {'scanAndOrder': 0, 'writeConflicts': 0}, 'operatorCounters': {'expressions': {'$_internalJsEmit': 0, '$_internalKeyStringValue': 0, '$abs': 0, '$acos': 0, '$acosh': 0, '$add': 0, '$allElementsTrue': 0, '$and': 0, '$anyElementTrue': 0, '$arrayElemAt': 0, '$arrayToObject': 0, '$asin': 0, '$asinh': 0, '$atan': 0, '$atan2': 0, '$atanh': 0, '$avg': 0, '$binarySize': 0, '$bsonSize': 0, '$ceil': 0, '$cmp': 0, '$concat': 0, '$concatArrays': 0, '$cond': 0, '$const': 0, '$convert': 0, '$cos': 0, '$cosh': 0, '$dateFromParts': 0, '$dateFromString': 0, '$dateToParts': 0, '$dateToString': 0, '$dayOfMonth': 0, '$dayOfWeek': 0, '$dayOfYear': 0, '$degreesToRadians': 0, '$divide': 0, '$eq': 0, '$exp': 0, '$filter': 0, '$first': 0, '$floor': 0, '$function': 0, '$gt': 0, '$gte': 0, '$hour': 0, '$ifNull': 0, '$in': 0, '$indexOfArray': 0, '$indexOfBytes': 0, '$indexOfCP': 0, '$isArray': 0, '$isNumber': 0, '$isoDayOfWeek': 0, '$isoWeek': 0, '$isoWeekYear': 0, '$last': 0, '$let': 0, '$literal': 0, '$ln': 0, '$log': 0, '$log10': 0, '$lt': 0, '$lte': 0, '$ltrim': 0, '$map': 0, '$max': 0, '$mergeObjects': 0, '$meta': 0, '$millisecond': 0, '$min': 0, '$minute': 0, '$mod': 0, '$month': 0, '$multiply': 0, '$ne': 0, '$not': 0, '$objectToArray': 0, '$or': 0, '$pow': 0, '$radiansToDegrees': 0, '$rand': 0, '$range': 0, '$reduce': 0, '$regexFind': 0, '$regexFindAll': 0, '$regexMatch': 0, '$replaceAll': 0, '$replaceOne': 0, '$reverseArray': 0, '$round': 0, '$rtrim': 0, '$second': 0, '$setDifference': 0, '$setEquals': 0, '$setIntersection': 0, '$setIsSubset': 0, '$setUnion': 0, '$sin': 0, '$sinh': 0, '$size': 0, '$slice': 0, '$split': 0, '$sqrt': 0, '$stdDevPop': 0, '$stdDevSamp': 0, '$strLenBytes': 0, '$strLenCP': 0, '$strcasecmp': 0, '$substr': 0, '$substrBytes': 0, '$substrCP': 0, '$subtract': 0, '$sum': 0, '$switch': 0, '$tan': 0, '$tanh': 0, '$toBool': 0, '$toDate': 0, '$toDecimal': 0, '$toDouble': 0, '$toHashedIndexKey': 0, '$toInt': 0, '$toLong': 0, '$toLower': 0, '$toObjectId': 0, '$toString': 0, '$toUpper': 0, '$trim': 0, '$trunc': 0, '$type': 0, '$week': 0, '$year': 0, '$zip': 0}, 'match': {'$all': 0, '$alwaysFalse': 0, '$alwaysTrue': 0, '$and': 0, '$bitsAllClear': 0, '$bitsAllSet': 0, '$bitsAnyClear': 0, '$bitsAnySet': 0, '$comment': 0, '$elemMatch': 0, '$eq': 0, '$exists': 0, '$expr': 0, '$geoIntersects': 0, '$geoWithin': 0, '$gt': 0, '$gte': 0, '$in': 0, '$jsonSchema': 0, '$lt': 0, '$lte': 0, '$mod': 0, '$ne': 0, '$near': 0, '$nearSphere': 0, '$nin': 0, '$nor': 0, '$not': 0, '$or': 0, '$regex': 0, '$sampleRate': 0, '$size': 0, '$text': 0, '$type': 0, '$where': 0}}, 'query': {'deleteManyCount': 0, 'planCacheTotalSizeEstimateBytes': 0, 'updateDeleteManyDocumentsMaxCount': 0, 'updateDeleteManyDocumentsTotalCount': 0, 'updateDeleteManyDurationMaxMs': 0, 'updateDeleteManyDurationTotalMs': 0, 'updateManyCount': 0, 'updateOneOpStyleBroadcastWithExactIDCount': 0, 'multiPlanner': {'classicCount': 0, 'classicMicros': 0, 'classicWorks': 0, 'histograms': {'classicMicros': [{'lowerBound': 0, 'count': 0}, {'lowerBound': 1024, 'count': 0}, {'lowerBound': 4096, 'count': 0}, {'lowerBound': 16384, 'count': 0}, {'lowerBound': 65536, 'count': 0}, {'lowerBound': 262144, 'count': 0}, {'lowerBound': 1048576, 'count': 0}, {'lowerBound': 4194304, 'count': 0}, {'lowerBound': 16777216, 'count': 0}, {'lowerBound': 67108864, 'count': 0}, {'lowerBound': 268435456, 'count': 0}, {'lowerBound': 1073741824, 'count': 0}], 'classicNumPlans': [{'lowerBound': 0, 'count': 0}, {'lowerBound': 2, 'count': 0}, {'lowerBound': 4, 'count': 0}, {'lowerBound': 8, 'count': 0}, {'lowerBound': 16, 'count': 0}, {'lowerBound': 32, 'count': 0}], 'classicWorks': [{'lowerBound': 0, 'count': 0}, {'lowerBound': 128, 'count': 0}, {'lowerBound': 256, 'count': 0}, {'lowerBound': 512, 'count': 0}, {'lowerBound': 1024, 'count': 0}, {'lowerBound': 2048, 'count': 0}, {'lowerBound': 4096, 'count': 0}, {'lowerBound': 8192, 'count': 0}, {'lowerBound': 16384, 'count': 0}, {'lowerBound': 32768, 'count': 0}]}}}, 'queryExecutor': {'scanned': 0, 'scannedObjects': 0, 'collectionScans': {'nonTailable': 0, 'total': 0}}, 'record': {'moves': 0}, 'repl': {'executor': {'pool': {'inProgressCount': 0}, 'queues': {'networkInProgress': 0, 'sleepers': 0}, 'unsignaledEvents': 0, 'shuttingDown': False, 'networkInterface': 'DEPRECATED: getDiagnosticString is deprecated in NetworkInterfaceTL'}, 'apply': {'attemptsToBecomeSecondary': 0, 'batchSize': 0, 'batches': {'num': 0, 'totalMillis': 0}, 'ops': 0}, 'buffer': {'count': 0, 'maxSizeBytes': 0, 'sizeBytes': 0}, 'initialSync': {'completed': 0, 'failedAttempts': 0, 'failures': 0}, 'network': {'bytes': 0, 'getmores': {'num': 0, 'totalMillis': 0, 'numEmptyBatches': 0}, 'notPrimaryLegacyUnacknowledgedWrites': 0, 'notPrimaryUnacknowledgedWrites': 0, 'oplogGetMoresProcessed': {'num': 0, 'totalMillis': 0}, 'ops': 0, 'readersCreated': 0, 'replSetUpdatePosition': {'num': 0}}, 'stateTransition': {'lastStateTransition': '', 'userOperationsKilled': 0, 'userOperationsRunning': 0}, 'syncSource': {'numSelections': 0, 'numTimesChoseDifferent': 0, 'numTimesChoseSame': 0, 'numTimesCouldNotFind': 0}}, 'ttl': {'deletedDocuments': 0, 'passes': 0}}, 'ok': 1.0}\n",
            "Insert operation result: 66726e292bae177bc13a9df4\n",
            "Read operation result: {'_id': ObjectId('66726e292bae177bc13a9df4'), 'name': 'test', 'value': 123}\n"
          ]
        }
      ]
    },
    {
      "cell_type": "markdown",
      "source": [
        "# 2 Preparations"
      ],
      "metadata": {
        "id": "ZK39BLCHmVUa"
      }
    },
    {
      "cell_type": "markdown",
      "source": [
        "Databases and collections in MongoDB are created implicitly while data is inserted. In this tutorial, you will create a collection of *films*. There is no collection so far, so create one by inserting a document."
      ],
      "metadata": {
        "id": "qXVCAX1xmz2q"
      }
    },
    {
      "cell_type": "code",
      "source": [
        "query = \"\"\"\n",
        "db.films.insert({\n",
        "    \"title\": \"Star Trek Into Darkness\",\n",
        "    \"year\": 2013,\n",
        "    \"genre\": [\n",
        "        \"Action\",\n",
        "        \"Adventure\",\n",
        "        \"Sci-Fi\",\n",
        "    ],\n",
        "    \"actors\": [\n",
        "        \"Pine, Chris\",\n",
        "        \"Quinto, Zachary\",\n",
        "        \"Saldana, Zoe\",\n",
        "    ],\n",
        "    \"releases\": [\n",
        "        {\n",
        "            \"country\": \"USA\",\n",
        "            \"date\": ISODate(\"2013-05-17\"),\n",
        "            \"prerelease\": true\n",
        "        },\n",
        "        {\n",
        "            \"country\": \"Germany\",\n",
        "            \"date\": ISODate(\"2003-05-16\"),\n",
        "            \"prerelease\": false\n",
        "        }\n",
        "    ]\n",
        "})\"\"\"\n",
        "\n",
        "!mongo --quiet --eval '{query}'"
      ],
      "metadata": {
        "id": "BSsXBUfhaJp9",
        "colab": {
          "base_uri": "https://localhost:8080/"
        },
        "outputId": "9953c889-3c0e-494b-a238-84752419784e"
      },
      "execution_count": 3,
      "outputs": [
        {
          "output_type": "stream",
          "name": "stdout",
          "text": [
            "WriteResult({ \"nInserted\" : 1 })\n"
          ]
        }
      ]
    },
    {
      "cell_type": "markdown",
      "source": [
        "Now, there is a *films* collection. You can list the contents of the newly created collection by calling the <code>find()</code> function."
      ],
      "metadata": {
        "id": "MYRMT54Xn1EB"
      }
    },
    {
      "cell_type": "code",
      "source": [
        "query = \"\"\"db.films.find()\"\"\"\n",
        "\n",
        "!mongo --quiet --eval '{query}'"
      ],
      "metadata": {
        "id": "W0agPtBpNpc3",
        "colab": {
          "base_uri": "https://localhost:8080/"
        },
        "outputId": "9122cbd6-6ac1-4524-afa1-332a4969796a"
      },
      "execution_count": 4,
      "outputs": [
        {
          "output_type": "stream",
          "name": "stdout",
          "text": [
            "{ \"_id\" : ObjectId(\"66726e29b7f6d4ef0390b281\"), \"title\" : \"Star Trek Into Darkness\", \"year\" : 2013, \"genre\" : [ \"Action\", \"Adventure\", \"Sci-Fi\" ], \"actors\" : [ \"Pine, Chris\", \"Quinto, Zachary\", \"Saldana, Zoe\" ], \"releases\" : [ { \"country\" : \"USA\", \"date\" : ISODate(\"2013-05-17T00:00:00Z\"), \"prerelease\" : true }, { \"country\" : \"Germany\", \"date\" : ISODate(\"2003-05-16T00:00:00Z\"), \"prerelease\" : false } ] }\n"
          ]
        }
      ]
    },
    {
      "cell_type": "markdown",
      "source": [
        "If you prefer your result nicely formatted, use <code>pretty()</code>:"
      ],
      "metadata": {
        "id": "G1mRdeRFoXaY"
      }
    },
    {
      "cell_type": "code",
      "source": [
        "query = \"\"\"db.films.find().pretty()\"\"\"\n",
        "\n",
        "!mongo --quiet --eval '{query}'"
      ],
      "metadata": {
        "id": "M7lCulsSjqun",
        "colab": {
          "base_uri": "https://localhost:8080/"
        },
        "outputId": "9af10ca1-e714-4f23-a61e-390c96a57607"
      },
      "execution_count": 5,
      "outputs": [
        {
          "output_type": "stream",
          "name": "stdout",
          "text": [
            "{\n",
            "\t\"_id\" : ObjectId(\"66726e29b7f6d4ef0390b281\"),\n",
            "\t\"title\" : \"Star Trek Into Darkness\",\n",
            "\t\"year\" : 2013,\n",
            "\t\"genre\" : [\n",
            "\t\t\"Action\",\n",
            "\t\t\"Adventure\",\n",
            "\t\t\"Sci-Fi\"\n",
            "\t],\n",
            "\t\"actors\" : [\n",
            "\t\t\"Pine, Chris\",\n",
            "\t\t\"Quinto, Zachary\",\n",
            "\t\t\"Saldana, Zoe\"\n",
            "\t],\n",
            "\t\"releases\" : [\n",
            "\t\t{\n",
            "\t\t\t\"country\" : \"USA\",\n",
            "\t\t\t\"date\" : ISODate(\"2013-05-17T00:00:00Z\"),\n",
            "\t\t\t\"prerelease\" : true\n",
            "\t\t},\n",
            "\t\t{\n",
            "\t\t\t\"country\" : \"Germany\",\n",
            "\t\t\t\"date\" : ISODate(\"2003-05-16T00:00:00Z\"),\n",
            "\t\t\t\"prerelease\" : false\n",
            "\t\t}\n",
            "\t]\n",
            "}\n"
          ]
        }
      ]
    },
    {
      "cell_type": "markdown",
      "source": [
        "As you can see, now there is an <code>_id</code> field which is unique for every document"
      ],
      "metadata": {
        "id": "idHUEHFHowWX"
      }
    },
    {
      "cell_type": "markdown",
      "source": [
        "Now insert some more films:"
      ],
      "metadata": {
        "id": "r6CaU7uNozsL"
      }
    },
    {
      "cell_type": "code",
      "source": [
        "query = \"\"\"\n",
        "db.films.insert({\n",
        "    \"title\": \"Iron Man 3\",\n",
        "    \"year\": 2013,\n",
        "    \"genre\": [\n",
        "        \"Action\",\n",
        "        \"Adventure\",\n",
        "        \"Sci-Fi\",\n",
        "    ],\n",
        "    \"actors\": [\n",
        "        \"Downey Jr., Robert\",\n",
        "        \"Paltrow, Gwyneth\",\n",
        "    ]\n",
        "})\n",
        "\"\"\" # no releases\n",
        "\n",
        "!mongo --quiet --eval '{query}'"
      ],
      "metadata": {
        "id": "5nCpwNFMc5g8",
        "colab": {
          "base_uri": "https://localhost:8080/"
        },
        "outputId": "6502b8fd-ab7c-4e3b-a89e-13a4e9751dac"
      },
      "execution_count": 6,
      "outputs": [
        {
          "output_type": "stream",
          "name": "stdout",
          "text": [
            "WriteResult({ \"nInserted\" : 1 })\n"
          ]
        }
      ]
    },
    {
      "cell_type": "code",
      "source": [
        "query = \"\"\"\n",
        "db.films.insert({\n",
        "    \"title\": \"This Means War\",\n",
        "    \"year\": 2011,\n",
        "    \"genre\": [\n",
        "        \"Action\",\n",
        "        \"Comedy\",\n",
        "        \"Romance\",\n",
        "    ],\n",
        "    \"actors\": [\n",
        "        \"Pine, Chris\",\n",
        "        \"Witherspoon, Reese\",\n",
        "        \"Hardy, Tom\",\n",
        "    ],\n",
        "    \"releases\": [\n",
        "        {\n",
        "            \"country\": \"USA\",\n",
        "            \"date\": ISODate(\"2011-02-17\"),\n",
        "            \"prerelease\": false\n",
        "        },\n",
        "        {\n",
        "            \"country\": \"UK\" ,\n",
        "            \"date\": ISODate(\"2011-03-01\"),\n",
        "            \"prerelease\": true\n",
        "        }\n",
        "    ]\n",
        "})\n",
        "\"\"\"\n",
        "\n",
        "!mongo --quiet --eval '{query}'"
      ],
      "metadata": {
        "id": "RbUMVaNzdOvx",
        "colab": {
          "base_uri": "https://localhost:8080/"
        },
        "outputId": "6d070f50-43de-4c66-c5ac-a5f75aeff431"
      },
      "execution_count": 7,
      "outputs": [
        {
          "output_type": "stream",
          "name": "stdout",
          "text": [
            "WriteResult({ \"nInserted\" : 1 })\n"
          ]
        }
      ]
    },
    {
      "cell_type": "code",
      "source": [
        "query = \"\"\"\n",
        "db.films.insert({\n",
        "    \"title\": \"The Amazing Spider - Man 2\",\n",
        "    \"year\": 2014,\n",
        "    \"genre\": [\n",
        "        \"Action\",\n",
        "        \"Adventure\",\n",
        "        \"Fantasy\",\n",
        "    ],\n",
        "    \"actors\": [\n",
        "        \"Stone, Emma\" ,\n",
        "        \"Woodley, Shailene\"\n",
        "    ]\n",
        "})\n",
        "\"\"\" # also no releases\n",
        "\n",
        "!mongo --quiet --eval '{query}'"
      ],
      "metadata": {
        "id": "oeYt0rqzpKnr",
        "colab": {
          "base_uri": "https://localhost:8080/"
        },
        "outputId": "f8ddcf72-ede2-4c32-efb4-f8060f2c4c93"
      },
      "execution_count": 8,
      "outputs": [
        {
          "output_type": "stream",
          "name": "stdout",
          "text": [
            "WriteResult({ \"nInserted\" : 1 })\n"
          ]
        }
      ]
    },
    {
      "cell_type": "markdown",
      "source": [
        "# 3 Querying"
      ],
      "metadata": {
        "id": "OtseGmERr9jQ"
      }
    },
    {
      "cell_type": "markdown",
      "source": [
        "Now query your collection! Have MongoDB return all films with title **\"Iron Man 3\"** by calling:"
      ],
      "metadata": {
        "id": "GPj9LFGrsyyE"
      }
    },
    {
      "cell_type": "code",
      "source": [
        "query = \"\"\"\n",
        "db.films.find({\"title\": \"Iron Man 3\"})\n",
        "\"\"\"\n",
        "\n",
        "!mongo --quiet --eval '{query}'"
      ],
      "metadata": {
        "id": "TWRu81nReEw2",
        "colab": {
          "base_uri": "https://localhost:8080/"
        },
        "outputId": "285463fd-70a3-4c12-cb3f-46247b9b926d"
      },
      "execution_count": 9,
      "outputs": [
        {
          "output_type": "stream",
          "name": "stdout",
          "text": [
            "{ \"_id\" : ObjectId(\"66726e2a42bb88b5f69d3bd1\"), \"title\" : \"Iron Man 3\", \"year\" : 2013, \"genre\" : [ \"Action\", \"Adventure\", \"Sci-Fi\" ], \"actors\" : [ \"Downey Jr., Robert\", \"Paltrow, Gwyneth\" ] }\n"
          ]
        }
      ]
    },
    {
      "cell_type": "markdown",
      "source": [
        "Using <code>findOne</code> instead of find produces at most one result (in pretty format):"
      ],
      "metadata": {
        "id": "wncBlxCctOPr"
      }
    },
    {
      "cell_type": "code",
      "source": [
        "query = \"\"\"\n",
        "db.films.findOne({\"title\": \"Iron Man 3\"})\n",
        "\"\"\"\n",
        "\n",
        "!mongo --quiet --eval '{query}'"
      ],
      "metadata": {
        "id": "AZXxnpqEfwc-",
        "colab": {
          "base_uri": "https://localhost:8080/"
        },
        "outputId": "48c2439a-3218-43aa-b676-4a8a1825a9ad"
      },
      "execution_count": 10,
      "outputs": [
        {
          "output_type": "stream",
          "name": "stdout",
          "text": [
            "{\n",
            "\t\"_id\" : ObjectId(\"66726e2a42bb88b5f69d3bd1\"),\n",
            "\t\"title\" : \"Iron Man 3\",\n",
            "\t\"year\" : 2013,\n",
            "\t\"genre\" : [\n",
            "\t\t\"Action\",\n",
            "\t\t\"Adventure\",\n",
            "\t\t\"Sci-Fi\"\n",
            "\t],\n",
            "\t\"actors\" : [\n",
            "\t\t\"Downey Jr., Robert\",\n",
            "\t\t\"Paltrow, Gwyneth\"\n",
            "\t]\n",
            "}\n"
          ]
        }
      ]
    },
    {
      "cell_type": "markdown",
      "source": [
        "Regular expressions can also be used to query a collection. In this tutorial, a short notation is used where the actual regular expression is bounded by slashes (/). The following call yields all movies that start with the letter T:"
      ],
      "metadata": {
        "id": "b8zsF3bWtb8H"
      }
    },
    {
      "cell_type": "code",
      "source": [
        "query = \"\"\"\n",
        "db.films.find({\"title\": /^T/})\n",
        "\"\"\"\n",
        "\n",
        "!mongo --quiet --eval '{query}'"
      ],
      "metadata": {
        "id": "wAPyCIANhTKa",
        "colab": {
          "base_uri": "https://localhost:8080/"
        },
        "outputId": "57554755-fa30-48c5-b483-339557d8ff4a"
      },
      "execution_count": 11,
      "outputs": [
        {
          "output_type": "stream",
          "name": "stdout",
          "text": [
            "{ \"_id\" : ObjectId(\"66726e2a1f52e0965350f079\"), \"title\" : \"This Means War\", \"year\" : 2011, \"genre\" : [ \"Action\", \"Comedy\", \"Romance\" ], \"actors\" : [ \"Pine, Chris\", \"Witherspoon, Reese\", \"Hardy, Tom\" ], \"releases\" : [ { \"country\" : \"USA\", \"date\" : ISODate(\"2011-02-17T00:00:00Z\"), \"prerelease\" : false }, { \"country\" : \"UK\", \"date\" : ISODate(\"2011-03-01T00:00:00Z\"), \"prerelease\" : true } ] }\n",
            "{ \"_id\" : ObjectId(\"66726e2aff8afc72d3dc4703\"), \"title\" : \"The Amazing Spider - Man 2\", \"year\" : 2014, \"genre\" : [ \"Action\", \"Adventure\", \"Fantasy\" ], \"actors\" : [ \"Stone, Emma\", \"Woodley, Shailene\" ] }\n"
          ]
        }
      ]
    },
    {
      "cell_type": "code",
      "source": [
        "query = \"\"\"\n",
        "db.films.find({\"title\": {\"$regex\": \"^T\"}})\n",
        "\"\"\"\n",
        "\n",
        "!mongo --quiet --eval '{query}'"
      ],
      "metadata": {
        "id": "Nlhzy-5iuKOb",
        "colab": {
          "base_uri": "https://localhost:8080/"
        },
        "outputId": "53de5228-c982-4873-e83d-81dd4f8e3c60"
      },
      "execution_count": 12,
      "outputs": [
        {
          "output_type": "stream",
          "name": "stdout",
          "text": [
            "{ \"_id\" : ObjectId(\"66726e2a1f52e0965350f079\"), \"title\" : \"This Means War\", \"year\" : 2011, \"genre\" : [ \"Action\", \"Comedy\", \"Romance\" ], \"actors\" : [ \"Pine, Chris\", \"Witherspoon, Reese\", \"Hardy, Tom\" ], \"releases\" : [ { \"country\" : \"USA\", \"date\" : ISODate(\"2011-02-17T00:00:00Z\"), \"prerelease\" : false }, { \"country\" : \"UK\", \"date\" : ISODate(\"2011-03-01T00:00:00Z\"), \"prerelease\" : true } ] }\n",
            "{ \"_id\" : ObjectId(\"66726e2aff8afc72d3dc4703\"), \"title\" : \"The Amazing Spider - Man 2\", \"year\" : 2014, \"genre\" : [ \"Action\", \"Adventure\", \"Fantasy\" ], \"actors\" : [ \"Stone, Emma\", \"Woodley, Shailene\" ] }\n"
          ]
        }
      ]
    },
    {
      "cell_type": "markdown",
      "source": [
        "If you are only interested in certain attributes, you can use projection to thin out the produced result. While the selection criteria are given by the first argument of find, the projection is given by the second argument. An example:"
      ],
      "metadata": {
        "id": "JfQzY-0_txxA"
      }
    },
    {
      "cell_type": "code",
      "source": [
        "query = \"\"\"\n",
        "db.films.find({\n",
        "  \"title\": /^T/\n",
        "},\n",
        "{\n",
        "  \"title\": 1\n",
        "})\n",
        "\"\"\"\n",
        "\n",
        "!mongo --quiet --eval '{query}'"
      ],
      "metadata": {
        "id": "REjidHpai09t",
        "colab": {
          "base_uri": "https://localhost:8080/"
        },
        "outputId": "53fbb688-8d53-4d73-da50-8577abd46eb9"
      },
      "execution_count": 13,
      "outputs": [
        {
          "output_type": "stream",
          "name": "stdout",
          "text": [
            "{ \"_id\" : ObjectId(\"66726e2a1f52e0965350f079\"), \"title\" : \"This Means War\" }\n",
            "{ \"_id\" : ObjectId(\"66726e2aff8afc72d3dc4703\"), \"title\" : \"The Amazing Spider - Man 2\" }\n"
          ]
        }
      ]
    },
    {
      "cell_type": "code",
      "source": [
        "query = \"\"\"\n",
        "db.films.find({\n",
        "  \"title\": {\"$regex\": \"^T\"}\n",
        "},\n",
        "{\n",
        "  \"title\": 1\n",
        "})\n",
        "\"\"\"\n",
        "\n",
        "!mongo --quiet --eval '{query}'"
      ],
      "metadata": {
        "id": "3z_IB5e7uHtx",
        "colab": {
          "base_uri": "https://localhost:8080/"
        },
        "outputId": "25065d1b-129f-466d-93c3-3ad495e2c856"
      },
      "execution_count": 14,
      "outputs": [
        {
          "output_type": "stream",
          "name": "stdout",
          "text": [
            "{ \"_id\" : ObjectId(\"66726e2a1f52e0965350f079\"), \"title\" : \"This Means War\" }\n",
            "{ \"_id\" : ObjectId(\"66726e2aff8afc72d3dc4703\"), \"title\" : \"The Amazing Spider - Man 2\" }\n"
          ]
        }
      ]
    },
    {
      "cell_type": "markdown",
      "source": [
        "By default, the <code>_id</code> is part of the output, so you have to explicitly suppress it, if you don’t want to have it returned by MongoDB:"
      ],
      "metadata": {
        "id": "5UFXSyVBunOA"
      }
    },
    {
      "cell_type": "code",
      "source": [
        "query = \"\"\"\n",
        "db.films.find({\n",
        "  \"title\": /^T/\n",
        "},\n",
        "{\n",
        "  \"_id\": 0,\n",
        "  \"title\": 1\n",
        "})\n",
        "\"\"\"\n",
        "\n",
        "!mongo --quiet --eval '{query}'"
      ],
      "metadata": {
        "id": "w1O1klukufCL",
        "colab": {
          "base_uri": "https://localhost:8080/"
        },
        "outputId": "38e66cac-781e-4b4e-fa89-072b9a41f09f"
      },
      "execution_count": 15,
      "outputs": [
        {
          "output_type": "stream",
          "name": "stdout",
          "text": [
            "{ \"title\" : \"This Means War\" }\n",
            "{ \"title\" : \"The Amazing Spider - Man 2\" }\n"
          ]
        }
      ]
    },
    {
      "cell_type": "code",
      "source": [
        "query = \"\"\"\n",
        "db.films.find({\n",
        "  \"title\": {\"$regex\": \"^T\"}\n",
        "},\n",
        "{\n",
        "  \"_id\": 0,\n",
        "  \"title\": 1\n",
        "})\n",
        "\"\"\"\n",
        "\n",
        "!mongo --quiet --eval '{query}'"
      ],
      "metadata": {
        "id": "_9_ogoGTu_4N",
        "colab": {
          "base_uri": "https://localhost:8080/"
        },
        "outputId": "8b52ef82-b951-49d3-8f43-804ff261aa74"
      },
      "execution_count": 16,
      "outputs": [
        {
          "output_type": "stream",
          "name": "stdout",
          "text": [
            "{ \"title\" : \"This Means War\" }\n",
            "{ \"title\" : \"The Amazing Spider - Man 2\" }\n"
          ]
        }
      ]
    },
    {
      "cell_type": "markdown",
      "source": [
        "You can also use conditional operators, for example to perform range queries. The following returns the titles of all films starting with the letter T where the year attribute is greater than 2009 and less than or equal to 2011:"
      ],
      "metadata": {
        "id": "E-NcrapfvntT"
      }
    },
    {
      "cell_type": "code",
      "source": [
        "query = \"\"\"\n",
        "db.films.find({\n",
        "    \"year\": {\n",
        "        \"$gt\": 2009,\n",
        "        \"$lte\": 2011\n",
        "    },\n",
        "    \"title\": /^T/\n",
        "},\n",
        "{\n",
        "    \"_id\": 0,\n",
        "    \"title\": 1,\n",
        "    \"year\": 1\n",
        "})\n",
        "\"\"\"\n",
        "\n",
        "!mongo --quiet --eval '{query}'"
      ],
      "metadata": {
        "id": "j1_qs4YWvSPR",
        "colab": {
          "base_uri": "https://localhost:8080/"
        },
        "outputId": "7e511a43-136f-4032-d9c1-6bf2d9643223"
      },
      "execution_count": 17,
      "outputs": [
        {
          "output_type": "stream",
          "name": "stdout",
          "text": [
            "{ \"title\" : \"This Means War\", \"year\" : 2011 }\n"
          ]
        }
      ]
    },
    {
      "cell_type": "code",
      "source": [
        "query = \"\"\"\n",
        "db.films.find({\n",
        "    \"year\": {\n",
        "        \"$gt\": 2009,\n",
        "        \"$lte\": 2011\n",
        "    },\n",
        "    \"title\": {\"$regex\": \"^T\"}\n",
        "},\n",
        "{\n",
        "    \"_id\": 0,\n",
        "    \"title\": 1,\n",
        "    \"year\": 1\n",
        "\n",
        "})\n",
        "\"\"\"\n",
        "\n",
        "!mongo --quiet --eval '{query}'"
      ],
      "metadata": {
        "id": "9UgslSuiwQZo",
        "colab": {
          "base_uri": "https://localhost:8080/"
        },
        "outputId": "28abf010-1a23-4ebd-b529-13935efec8ae"
      },
      "execution_count": 18,
      "outputs": [
        {
          "output_type": "stream",
          "name": "stdout",
          "text": [
            "{ \"title\" : \"This Means War\", \"year\" : 2011 }\n"
          ]
        }
      ]
    },
    {
      "cell_type": "markdown",
      "source": [
        "For a logical disjunction of the selection criteria, use the <code>$or</code> operator:"
      ],
      "metadata": {
        "id": "YLs5l3pXwfea"
      }
    },
    {
      "cell_type": "code",
      "source": [
        "query = \"\"\"\n",
        "db.films.find({\n",
        "    $or: [\n",
        "      {\n",
        "          \"year\": {\n",
        "              \"$gt\": 2009,\n",
        "              \"$lte\": 2011\n",
        "          }\n",
        "      },\n",
        "      {\n",
        "          \"title\": /^T/\n",
        "      }\n",
        "    ]\n",
        "},\n",
        "{\n",
        "    \"_id\": 0,\n",
        "    \"title\": 1,\n",
        "    \"year\": 1\n",
        "\n",
        "})\n",
        "\"\"\"\n",
        "\n",
        "!mongo --quiet --eval '{query}'"
      ],
      "metadata": {
        "id": "j7411YVlwXFH",
        "colab": {
          "base_uri": "https://localhost:8080/"
        },
        "outputId": "0440f867-afd4-4bd5-8b37-10f4e9423f42"
      },
      "execution_count": 19,
      "outputs": [
        {
          "output_type": "stream",
          "name": "stdout",
          "text": [
            "{ \"title\" : \"This Means War\", \"year\" : 2011 }\n",
            "{ \"title\" : \"The Amazing Spider - Man 2\", \"year\" : 2014 }\n"
          ]
        }
      ]
    },
    {
      "cell_type": "code",
      "source": [
        "query = \"\"\"\n",
        "db.films.find({\n",
        "    $or: [\n",
        "      {\n",
        "          \"year\": {\n",
        "              \"$gt\": 2009,\n",
        "              \"$lte\": 2011\n",
        "          }\n",
        "      },\n",
        "      {\n",
        "          \"title\": {\"$regex\": \"^T\"}\n",
        "      }\n",
        "    ]\n",
        "},\n",
        "{\n",
        "    \"_id\": 0,\n",
        "    \"title\": 1,\n",
        "    \"year\": 1\n",
        "\n",
        "})\n",
        "\"\"\"\n",
        "\n",
        "!mongo --quiet --eval '{query}'"
      ],
      "metadata": {
        "id": "dvLDI1YmxIl6",
        "colab": {
          "base_uri": "https://localhost:8080/"
        },
        "outputId": "3e343bcd-15fe-485c-c110-9f0568b5a837"
      },
      "execution_count": 20,
      "outputs": [
        {
          "output_type": "stream",
          "name": "stdout",
          "text": [
            "{ \"title\" : \"This Means War\", \"year\" : 2011 }\n",
            "{ \"title\" : \"The Amazing Spider - Man 2\", \"year\" : 2014 }\n"
          ]
        }
      ]
    },
    {
      "cell_type": "markdown",
      "source": [
        "There are also some options that can be appended to the regular expression, e.g. i to achieve case\u0002insensitivity. The following call returns the titles of all movies whose title contains lowercase t, ..."
      ],
      "metadata": {
        "id": "i1TsOPwoceCO"
      }
    },
    {
      "cell_type": "code",
      "source": [
        "query = \"\"\"\n",
        "db.films.find({\"title\": /t/}, {\"_id\": 0, \"title\": 1})\n",
        "\"\"\"\n",
        "\n",
        "!mongo --quiet --eval '{query}'"
      ],
      "metadata": {
        "id": "mvAAAZDFxRt_",
        "colab": {
          "base_uri": "https://localhost:8080/"
        },
        "outputId": "77f6b157-34bb-4068-8c4a-a1b82c3855da"
      },
      "execution_count": 21,
      "outputs": [
        {
          "output_type": "stream",
          "name": "stdout",
          "text": [
            "{ \"title\" : \"Star Trek Into Darkness\" }\n"
          ]
        }
      ]
    },
    {
      "cell_type": "code",
      "source": [
        "query = \"\"\"\n",
        "db.films.find({\n",
        "  \"title\": {\"$regex\": \"t\"}\n",
        "},\n",
        "{\n",
        "  \"_id\": 0,\n",
        "  \"title\": 1\n",
        "})\n",
        "\"\"\"\n",
        "\n",
        "!mongo --quiet --eval '{query}'"
      ],
      "metadata": {
        "id": "ev8qCxPNcul9",
        "colab": {
          "base_uri": "https://localhost:8080/"
        },
        "outputId": "4b76801b-4f37-4624-88e3-a610e80d1cb0"
      },
      "execution_count": 22,
      "outputs": [
        {
          "output_type": "stream",
          "name": "stdout",
          "text": [
            "{ \"title\" : \"Star Trek Into Darkness\" }\n"
          ]
        }
      ]
    },
    {
      "cell_type": "markdown",
      "source": [
        "... whereas the following call also returns titles that contain a T (uppercase):"
      ],
      "metadata": {
        "id": "mfcUhJewc0hF"
      }
    },
    {
      "cell_type": "code",
      "source": [
        "query = \"\"\"\n",
        "db.films.find({\n",
        "  \"title\": /t/i\n",
        "},\n",
        "{\n",
        "  \"_id\": 0,\n",
        "  \"title\": 1\n",
        "})\n",
        "\"\"\"\n",
        "\n",
        "!mongo --quiet --eval '{query}'"
      ],
      "metadata": {
        "id": "zi95h1NWc36e",
        "colab": {
          "base_uri": "https://localhost:8080/"
        },
        "outputId": "9e4d414c-3347-477b-b7e9-0b0b5c7d2412"
      },
      "execution_count": 23,
      "outputs": [
        {
          "output_type": "stream",
          "name": "stdout",
          "text": [
            "{ \"title\" : \"Star Trek Into Darkness\" }\n",
            "{ \"title\" : \"This Means War\" }\n",
            "{ \"title\" : \"The Amazing Spider - Man 2\" }\n"
          ]
        }
      ]
    },
    {
      "cell_type": "code",
      "source": [
        "query = \"\"\"\n",
        "db.films.find({\n",
        "  \"title\": {\n",
        "    \"$regex\": \"t\",\n",
        "    \"$options\": \"i\"\n",
        "  }\n",
        "},\n",
        "{\"_id\": 0, \"title\": 1})\n",
        "\"\"\"\n",
        "\n",
        "!mongo --quiet --eval '{query}'"
      ],
      "metadata": {
        "id": "xhhQeGikc_rr",
        "colab": {
          "base_uri": "https://localhost:8080/"
        },
        "outputId": "db4037ee-5e8d-47ef-861b-3a5754c29f25"
      },
      "execution_count": 24,
      "outputs": [
        {
          "output_type": "stream",
          "name": "stdout",
          "text": [
            "{ \"title\" : \"Star Trek Into Darkness\" }\n",
            "{ \"title\" : \"This Means War\" }\n",
            "{ \"title\" : \"The Amazing Spider - Man 2\" }\n"
          ]
        }
      ]
    },
    {
      "cell_type": "markdown",
      "source": [
        "You can query for exact matches in lists, ..."
      ],
      "metadata": {
        "id": "kettieyxdBlb"
      }
    },
    {
      "cell_type": "code",
      "source": [
        "query = \"\"\"\n",
        "db.films.find({\n",
        "  \"genre\": \"Adventure\"\n",
        "},\n",
        "{\n",
        "  \"_id\": 0,\n",
        "  \"title\": 1,\n",
        "  \"genre\": 1\n",
        "})\n",
        "\"\"\"\n",
        "\n",
        "!mongo --quiet --eval '{query}'"
      ],
      "metadata": {
        "id": "fH_HlVxddF4f",
        "colab": {
          "base_uri": "https://localhost:8080/"
        },
        "outputId": "a6783733-ed18-40db-92f4-b919dd32cbe5"
      },
      "execution_count": 25,
      "outputs": [
        {
          "output_type": "stream",
          "name": "stdout",
          "text": [
            "{ \"title\" : \"Star Trek Into Darkness\", \"genre\" : [ \"Action\", \"Adventure\", \"Sci-Fi\" ] }\n",
            "{ \"title\" : \"Iron Man 3\", \"genre\" : [ \"Action\", \"Adventure\", \"Sci-Fi\" ] }\n",
            "{ \"title\" : \"The Amazing Spider - Man 2\", \"genre\" : [ \"Action\", \"Adventure\", \"Fantasy\" ] }\n"
          ]
        }
      ]
    },
    {
      "cell_type": "markdown",
      "source": [
        "... but you can also query for partial matches which yields all genres that start with the letter A:"
      ],
      "metadata": {
        "id": "o70qnmZEdUn3"
      }
    },
    {
      "cell_type": "code",
      "source": [
        "query = \"\"\"\n",
        "db.films.find({\n",
        "  \"genre\": /^A/\n",
        "},\n",
        "{\n",
        "  \"_id\": 0,\n",
        "  \"title\": 1,\n",
        "  \"genre\": 1\n",
        "})\n",
        "\"\"\"\n",
        "\n",
        "!mongo --quiet --eval '{query}'"
      ],
      "metadata": {
        "id": "yLRuSO34dX3N",
        "colab": {
          "base_uri": "https://localhost:8080/"
        },
        "outputId": "6fa239f6-493c-490a-def2-c093be99a820"
      },
      "execution_count": 26,
      "outputs": [
        {
          "output_type": "stream",
          "name": "stdout",
          "text": [
            "{ \"title\" : \"Star Trek Into Darkness\", \"genre\" : [ \"Action\", \"Adventure\", \"Sci-Fi\" ] }\n",
            "{ \"title\" : \"Iron Man 3\", \"genre\" : [ \"Action\", \"Adventure\", \"Sci-Fi\" ] }\n",
            "{ \"title\" : \"This Means War\", \"genre\" : [ \"Action\", \"Comedy\", \"Romance\" ] }\n",
            "{ \"title\" : \"The Amazing Spider - Man 2\", \"genre\" : [ \"Action\", \"Adventure\", \"Fantasy\" ] }\n"
          ]
        }
      ]
    },
    {
      "cell_type": "code",
      "source": [
        "query = \"\"\"\n",
        "db.films.find({\n",
        "  \"genre\": {\"$regex\": \"^A\"}\n",
        "},\n",
        "{\n",
        "  \"_id\": 0,\n",
        "  \"title\": 1,\n",
        "  \"genre\": 1\n",
        "})\n",
        "\"\"\"\n",
        "\n",
        "!mongo --quiet --eval '{query}'"
      ],
      "metadata": {
        "id": "3nc_35oHdbHE",
        "colab": {
          "base_uri": "https://localhost:8080/"
        },
        "outputId": "0296cc62-422e-4686-e54f-7a6e1e20f6ed"
      },
      "execution_count": 27,
      "outputs": [
        {
          "output_type": "stream",
          "name": "stdout",
          "text": [
            "{ \"title\" : \"Star Trek Into Darkness\", \"genre\" : [ \"Action\", \"Adventure\", \"Sci-Fi\" ] }\n",
            "{ \"title\" : \"Iron Man 3\", \"genre\" : [ \"Action\", \"Adventure\", \"Sci-Fi\" ] }\n",
            "{ \"title\" : \"This Means War\", \"genre\" : [ \"Action\", \"Comedy\", \"Romance\" ] }\n",
            "{ \"title\" : \"The Amazing Spider - Man 2\", \"genre\" : [ \"Action\", \"Adventure\", \"Fantasy\" ] }\n"
          ]
        }
      ]
    },
    {
      "cell_type": "markdown",
      "source": [
        "There are also more complex operators for more complex selection criteria, e.g. the <code>$all</code> operator. The following call prints the title and actors of every movie for which each of two given regular expressions matches at least one of its actors:"
      ],
      "metadata": {
        "id": "g8gP5OvueCDn"
      }
    },
    {
      "cell_type": "code",
      "source": [
        "query = \"\"\"\n",
        "db.films.find({\n",
        "    \"actors\": {\n",
        "      \"$all\": [/pine/i, /zachary/i]\n",
        "    }\n",
        "},\n",
        "{\n",
        "    \"_id\": 0,\n",
        "    \"title\": 1,\n",
        "    \"actors\": 1\n",
        "})\n",
        "\"\"\"\n",
        "\n",
        "!mongo --quiet --eval '{query}'"
      ],
      "metadata": {
        "id": "NK-Fy5EreGwW",
        "colab": {
          "base_uri": "https://localhost:8080/"
        },
        "outputId": "2d6c44bc-7948-46d0-8817-95d5d9e82a82"
      },
      "execution_count": 28,
      "outputs": [
        {
          "output_type": "stream",
          "name": "stdout",
          "text": [
            "{ \"title\" : \"Star Trek Into Darkness\", \"actors\" : [ \"Pine, Chris\", \"Quinto, Zachary\", \"Saldana, Zoe\" ] }\n"
          ]
        }
      ]
    },
    {
      "cell_type": "code",
      "source": [
        "query = \"\"\"\n",
        "db.films.find({\n",
        "    \"actors\": {\n",
        "      $all: [\n",
        "        {\n",
        "          \"$elemMatch\": {\"$regex\": \"pine\", $options: \"i\"}\n",
        "        },\n",
        "        {\n",
        "          \"$elemMatch\": {\"$regex\": \"zachary\", $options: \"i\"}\n",
        "        }\n",
        "      ]\n",
        "    }\n",
        "},\n",
        "{\n",
        "    \"_id\": 0,\n",
        "    \"title\": 1,\n",
        "    \"actors\": 1\n",
        "})\n",
        "\"\"\"\n",
        "\n",
        "!mongo --quiet --eval '{query}'"
      ],
      "metadata": {
        "id": "xRUu1TzkeUKh",
        "colab": {
          "base_uri": "https://localhost:8080/"
        },
        "outputId": "cbe0a410-282e-4ab0-9a31-ad9abb195970"
      },
      "execution_count": 29,
      "outputs": [
        {
          "output_type": "stream",
          "name": "stdout",
          "text": [
            "{ \"title\" : \"Star Trek Into Darkness\", \"actors\" : [ \"Pine, Chris\", \"Quinto, Zachary\", \"Saldana, Zoe\" ] }\n"
          ]
        }
      ]
    },
    {
      "cell_type": "markdown",
      "source": [
        "In contrast, the <code>$nin</code>, i.e. not in, operator checks for the lack of matching values, i.e. actor names that do not match either one of the given regular expressions:"
      ],
      "metadata": {
        "id": "2grUMTC-ebuB"
      }
    },
    {
      "cell_type": "code",
      "source": [
        "query = \"\"\"\n",
        "db.films.find({\n",
        "    \"actors\": {\n",
        "      $nin: [/pine/i, /zachary/i]\n",
        "    }\n",
        "},\n",
        "{\n",
        "    \"_id\": 0,\n",
        "    \"title\": 1,\n",
        "    \"actors\": 1\n",
        "})\n",
        "\"\"\"\n",
        "\n",
        "!mongo --quiet --eval '{query}'"
      ],
      "metadata": {
        "id": "OocmsoD4efca",
        "colab": {
          "base_uri": "https://localhost:8080/"
        },
        "outputId": "13e04ffb-39a5-4c16-eae3-e42dfb427504"
      },
      "execution_count": 30,
      "outputs": [
        {
          "output_type": "stream",
          "name": "stdout",
          "text": [
            "{ \"title\" : \"Iron Man 3\", \"actors\" : [ \"Downey Jr., Robert\", \"Paltrow, Gwyneth\" ] }\n",
            "{ \"title\" : \"The Amazing Spider - Man 2\", \"actors\" : [ \"Stone, Emma\", \"Woodley, Shailene\" ] }\n"
          ]
        }
      ]
    },
    {
      "cell_type": "code",
      "source": [
        "query = \"\"\"\n",
        "db.films.find({\n",
        "    \"actors\": {\n",
        "        $nor: [\n",
        "            {$regex: \"pine\", $options: \"i\"},\n",
        "            {$regex: \"zachary\", $options: \"i\"}\n",
        "        ]\n",
        "    }\n",
        "},\n",
        "{\n",
        "    \"_id\": 0,\n",
        "    \"title\": 1,\n",
        "    \"actors\": 1\n",
        "})\n",
        "\"\"\"\n",
        "\n",
        "!mongo --quiet --eval '{query}'"
      ],
      "metadata": {
        "id": "14onF6Y4emyF",
        "colab": {
          "base_uri": "https://localhost:8080/"
        },
        "outputId": "06b96120-c169-4d51-af83-8c17c1a26a5c"
      },
      "execution_count": 31,
      "outputs": [
        {
          "output_type": "stream",
          "name": "stdout",
          "text": [
            "Error: error: {\n",
            "\t\"ok\" : 0,\n",
            "\t\"errmsg\" : \"unknown operator: $nor\",\n",
            "\t\"code\" : 2,\n",
            "\t\"codeName\" : \"BadValue\"\n",
            "}\n"
          ]
        }
      ]
    },
    {
      "cell_type": "markdown",
      "source": [
        "In this query: `$nor`: This operator performs a logical NOR operation on an array of one or more query expression and selects the documents that fail all the query expressions in the array."
      ],
      "metadata": {
        "id": "goVfzC22Wgfm"
      }
    },
    {
      "cell_type": "markdown",
      "source": [
        "The <code>$exists</code> operator can be used to check for the existence of an attribute, e.g. to select only movies with undefined releases:"
      ],
      "metadata": {
        "id": "Oyf65iASeokP"
      }
    },
    {
      "cell_type": "code",
      "source": [
        "query = \"\"\"\n",
        "db.films.find({\n",
        "  releases: {$exists: false}\n",
        "},\n",
        "{\n",
        "  \"_id\": 0,\n",
        "  \"title\": 1\n",
        "})\n",
        "\"\"\"\n",
        "\n",
        "!mongo --quiet --eval '{query}'"
      ],
      "metadata": {
        "id": "clzUPXYeet3Z",
        "colab": {
          "base_uri": "https://localhost:8080/"
        },
        "outputId": "2bfd2631-eefd-401d-d8bc-36fb2ea554ff"
      },
      "execution_count": 32,
      "outputs": [
        {
          "output_type": "stream",
          "name": "stdout",
          "text": [
            "{ \"title\" : \"Iron Man 3\" }\n",
            "{ \"title\" : \"The Amazing Spider - Man 2\" }\n"
          ]
        }
      ]
    },
    {
      "cell_type": "markdown",
      "source": [
        "In MongoDB, it is also possible to query nested data, i.e. subdocuments. The following returns the title and releases of every movie that is known to be released in the UK:"
      ],
      "metadata": {
        "id": "mYZcQUFYey8G"
      }
    },
    {
      "cell_type": "code",
      "source": [
        "query = \"\"\"\n",
        "db.films.find({\n",
        "  \"releases.country\": \"UK\"\n",
        "},\n",
        "{\n",
        "  \"_id\": 0,\n",
        "  \"title\": 1,\n",
        "  \"releases\": 1\n",
        "})\n",
        "\"\"\"\n",
        "\n",
        "!mongo --quiet --eval '{query}'"
      ],
      "metadata": {
        "id": "5xJ7AWKfe4MW",
        "colab": {
          "base_uri": "https://localhost:8080/"
        },
        "outputId": "64c82f9b-fbcc-41d4-cd50-1a979d69ecb2"
      },
      "execution_count": 33,
      "outputs": [
        {
          "output_type": "stream",
          "name": "stdout",
          "text": [
            "{ \"title\" : \"This Means War\", \"releases\" : [ { \"country\" : \"USA\", \"date\" : ISODate(\"2011-02-17T00:00:00Z\"), \"prerelease\" : false }, { \"country\" : \"UK\", \"date\" : ISODate(\"2011-03-01T00:00:00Z\"), \"prerelease\" : true } ] }\n"
          ]
        }
      ]
    },
    {
      "cell_type": "markdown",
      "source": [
        "Please note that you have to use quotes to address nested fields."
      ],
      "metadata": {
        "id": "g8addS5-e7J8"
      }
    },
    {
      "cell_type": "markdown",
      "source": [
        "Applying more complex selection criteria on a nested document, however, is a little tricky. For example, if you wanted MongoDB to return all movies that had their prerelease in the USA, you might try something like this:"
      ],
      "metadata": {
        "id": "gN3_EeW1fCnX"
      }
    },
    {
      "cell_type": "code",
      "source": [
        "query = \"\"\"\n",
        "db.films.find({\n",
        "    \"releases.country\": \"USA\" ,\n",
        "    \"releases.prerelease\": true\n",
        "},\n",
        "{\n",
        "    \"_id\": 0 ,\n",
        "    \"title\": 1,\n",
        "    \"releases\": 1\n",
        "})\n",
        "\"\"\"\n",
        "\n",
        "!mongo --quiet --eval '{query}'"
      ],
      "metadata": {
        "id": "BiN_8ANpfB-I",
        "colab": {
          "base_uri": "https://localhost:8080/"
        },
        "outputId": "576af3f4-cc42-4c53-b014-667225068bb6"
      },
      "execution_count": 34,
      "outputs": [
        {
          "output_type": "stream",
          "name": "stdout",
          "text": [
            "{ \"title\" : \"Star Trek Into Darkness\", \"releases\" : [ { \"country\" : \"USA\", \"date\" : ISODate(\"2013-05-17T00:00:00Z\"), \"prerelease\" : true }, { \"country\" : \"Germany\", \"date\" : ISODate(\"2003-05-16T00:00:00Z\"), \"prerelease\" : false } ] }\n",
            "{ \"title\" : \"This Means War\", \"releases\" : [ { \"country\" : \"USA\", \"date\" : ISODate(\"2011-02-17T00:00:00Z\"), \"prerelease\" : false }, { \"country\" : \"UK\", \"date\" : ISODate(\"2011-03-01T00:00:00Z\"), \"prerelease\" : true } ] }\n"
          ]
        }
      ]
    },
    {
      "cell_type": "markdown",
      "source": [
        "However, This Means War is also returned, but was prereleased in the UK. The call above actually returns all movies that have some prerelease or were released in the USA. To only select movies were both applies to the same release, the <code>$elemMatch</code> can be used:\n",
        "\n"
      ],
      "metadata": {
        "id": "Ih3opAyLfNE-"
      }
    },
    {
      "cell_type": "code",
      "source": [
        "query = \"\"\"\n",
        "db.films.find({\n",
        "  releases: {\n",
        "    $elemMatch: {\n",
        "      country: \"USA\",\n",
        "      prerelease: true\n",
        "    }\n",
        "  }\n",
        "})\n",
        "\"\"\"\n",
        "\n",
        "!mongo --quiet --eval '{query}'"
      ],
      "metadata": {
        "id": "i2KAgavlfXim",
        "colab": {
          "base_uri": "https://localhost:8080/"
        },
        "outputId": "554a561a-cc06-4179-fdec-f3b5937e191c"
      },
      "execution_count": 35,
      "outputs": [
        {
          "output_type": "stream",
          "name": "stdout",
          "text": [
            "{ \"_id\" : ObjectId(\"66726e29b7f6d4ef0390b281\"), \"title\" : \"Star Trek Into Darkness\", \"year\" : 2013, \"genre\" : [ \"Action\", \"Adventure\", \"Sci-Fi\" ], \"actors\" : [ \"Pine, Chris\", \"Quinto, Zachary\", \"Saldana, Zoe\" ], \"releases\" : [ { \"country\" : \"USA\", \"date\" : ISODate(\"2013-05-17T00:00:00Z\"), \"prerelease\" : true }, { \"country\" : \"Germany\", \"date\" : ISODate(\"2003-05-16T00:00:00Z\"), \"prerelease\" : false } ] }\n"
          ]
        }
      ]
    },
    {
      "cell_type": "markdown",
      "source": [
        "Naturally, there are many other operators not covered by this tutorial."
      ],
      "metadata": {
        "id": "Nl8bDLRnfb9W"
      }
    },
    {
      "cell_type": "markdown",
      "source": [
        "# 4 Update"
      ],
      "metadata": {
        "id": "RQwM0o1mffeH"
      }
    },
    {
      "cell_type": "markdown",
      "source": [
        "You can also add or update fields in a document by using the <code>$set</code> operator. For example, you can add a rating field to one of the movies:"
      ],
      "metadata": {
        "id": "TDMqk31FfihH"
      }
    },
    {
      "cell_type": "code",
      "source": [
        "query = \"\"\"\n",
        "db.films.update(\n",
        "    {\"title\": \"Star Trek Into Darkness\"},\n",
        "    {$set: {\"rating\": 6.4}}\n",
        ")\n",
        "\"\"\"\n",
        "\n",
        "!mongo --quiet --eval '{query}'"
      ],
      "metadata": {
        "id": "HZ26_cRPfejM",
        "colab": {
          "base_uri": "https://localhost:8080/"
        },
        "outputId": "879d8a99-159f-4d7f-b7d3-3f761ea73581"
      },
      "execution_count": 36,
      "outputs": [
        {
          "output_type": "stream",
          "name": "stdout",
          "text": [
            "WriteResult({ \"nMatched\" : 1, \"nUpserted\" : 0, \"nModified\" : 1 })\n"
          ]
        }
      ]
    },
    {
      "cell_type": "markdown",
      "source": [
        "If you do not use the $set operator, every document fulfilling the selection criteria will be replaced, so be careful!"
      ],
      "metadata": {
        "id": "lXJnLtOkfrvC"
      }
    },
    {
      "cell_type": "markdown",
      "source": [
        "Now, verify if the <code>rating</code> field is added to the document:"
      ],
      "metadata": {
        "id": "dLRJ9MuBfvEc"
      }
    },
    {
      "cell_type": "code",
      "source": [
        "query = \"\"\"\n",
        "db.films.find({\n",
        "  \"title\": \"Star Trek Into Darkness\"\n",
        "})\n",
        "\"\"\"\n",
        "\n",
        "!mongo --quiet --eval '{query}'"
      ],
      "metadata": {
        "id": "b2MfKVMJfuPY",
        "colab": {
          "base_uri": "https://localhost:8080/"
        },
        "outputId": "5e2346b9-0f71-4ca5-ee0f-a497cf51de49"
      },
      "execution_count": 37,
      "outputs": [
        {
          "output_type": "stream",
          "name": "stdout",
          "text": [
            "{ \"_id\" : ObjectId(\"66726e29b7f6d4ef0390b281\"), \"title\" : \"Star Trek Into Darkness\", \"year\" : 2013, \"genre\" : [ \"Action\", \"Adventure\", \"Sci-Fi\" ], \"actors\" : [ \"Pine, Chris\", \"Quinto, Zachary\", \"Saldana, Zoe\" ], \"releases\" : [ { \"country\" : \"USA\", \"date\" : ISODate(\"2013-05-17T00:00:00Z\"), \"prerelease\" : true }, { \"country\" : \"Germany\", \"date\" : ISODate(\"2003-05-16T00:00:00Z\"), \"prerelease\" : false } ], \"rating\" : 6.4 }\n"
          ]
        }
      ]
    },
    {
      "cell_type": "markdown",
      "source": [
        "To increment a number of value, you can use the <code>$inc</code> operator:"
      ],
      "metadata": {
        "id": "EfkydNsxf13G"
      }
    },
    {
      "cell_type": "code",
      "source": [
        "query = \"\"\"\n",
        "db.films.update(\n",
        "    {\"title\": \"Star Trek Into Darkness\"},\n",
        "    {$inc: {\"rating\": 0.1}}\n",
        ")\n",
        "\"\"\"\n",
        "\n",
        "!mongo --quiet --eval '{query}'"
      ],
      "metadata": {
        "id": "wg8d7Muof6n6",
        "colab": {
          "base_uri": "https://localhost:8080/"
        },
        "outputId": "581acb29-194c-4696-c35e-74f3b3d5f67c"
      },
      "execution_count": 38,
      "outputs": [
        {
          "output_type": "stream",
          "name": "stdout",
          "text": [
            "WriteResult({ \"nMatched\" : 1, \"nUpserted\" : 0, \"nModified\" : 1 })\n"
          ]
        }
      ]
    },
    {
      "cell_type": "markdown",
      "source": [
        "Verify if the rating value has been incremented by <code>0.1</code>."
      ],
      "metadata": {
        "id": "i91Xy5bvgLyx"
      }
    },
    {
      "cell_type": "code",
      "source": [
        "query = \"\"\"\n",
        "db.films.find({\n",
        "  \"title\": \"Star Trek Into Darkness\"\n",
        "})\n",
        "\"\"\"\n",
        "\n",
        "!mongo --quiet --eval '{query}'"
      ],
      "metadata": {
        "id": "D2Y3GBM_gTjS",
        "colab": {
          "base_uri": "https://localhost:8080/"
        },
        "outputId": "c519294e-7ffe-47b3-ce0d-783b083bf68c"
      },
      "execution_count": 39,
      "outputs": [
        {
          "output_type": "stream",
          "name": "stdout",
          "text": [
            "{ \"_id\" : ObjectId(\"66726e29b7f6d4ef0390b281\"), \"title\" : \"Star Trek Into Darkness\", \"year\" : 2013, \"genre\" : [ \"Action\", \"Adventure\", \"Sci-Fi\" ], \"actors\" : [ \"Pine, Chris\", \"Quinto, Zachary\", \"Saldana, Zoe\" ], \"releases\" : [ { \"country\" : \"USA\", \"date\" : ISODate(\"2013-05-17T00:00:00Z\"), \"prerelease\" : true }, { \"country\" : \"Germany\", \"date\" : ISODate(\"2003-05-16T00:00:00Z\"), \"prerelease\" : false } ], \"rating\" : 6.5 }\n"
          ]
        }
      ]
    },
    {
      "cell_type": "markdown",
      "source": [
        "Again, there are many other different operators for different purposes, e.g. `$unset`, `$inc`, `$pop`, `$push`, `$pushAll` or `$addToSet`."
      ],
      "metadata": {
        "id": "VQSNmWakgJYG"
      }
    },
    {
      "cell_type": "markdown",
      "source": [
        "# 5 Delete"
      ],
      "metadata": {
        "id": "sB6VVIfjhDkN"
      }
    },
    {
      "cell_type": "markdown",
      "source": [
        "You can remove documents with the remove function. It actually works almost like the find function; you only don’t use the projection parameter. If, for example, you want to remove all film documents whose title starts with the letter T, you can first query for all such movies..."
      ],
      "metadata": {
        "id": "p0yaZLiehI-Q"
      }
    },
    {
      "cell_type": "code",
      "source": [
        "query = \"\"\"\n",
        "db.films.find({\"title\": /^T/})\n",
        "\"\"\"\n",
        "\n",
        "!mongo --quiet --eval '{query}'"
      ],
      "metadata": {
        "id": "9HnJShv3gewZ",
        "colab": {
          "base_uri": "https://localhost:8080/"
        },
        "outputId": "36ccb22a-8173-4742-ab2a-a4c370f0527c"
      },
      "execution_count": 40,
      "outputs": [
        {
          "output_type": "stream",
          "name": "stdout",
          "text": [
            "{ \"_id\" : ObjectId(\"66726e2a1f52e0965350f079\"), \"title\" : \"This Means War\", \"year\" : 2011, \"genre\" : [ \"Action\", \"Comedy\", \"Romance\" ], \"actors\" : [ \"Pine, Chris\", \"Witherspoon, Reese\", \"Hardy, Tom\" ], \"releases\" : [ { \"country\" : \"USA\", \"date\" : ISODate(\"2011-02-17T00:00:00Z\"), \"prerelease\" : false }, { \"country\" : \"UK\", \"date\" : ISODate(\"2011-03-01T00:00:00Z\"), \"prerelease\" : true } ] }\n",
            "{ \"_id\" : ObjectId(\"66726e2aff8afc72d3dc4703\"), \"title\" : \"The Amazing Spider - Man 2\", \"year\" : 2014, \"genre\" : [ \"Action\", \"Adventure\", \"Fantasy\" ], \"actors\" : [ \"Stone, Emma\", \"Woodley, Shailene\" ] }\n"
          ]
        }
      ]
    },
    {
      "cell_type": "markdown",
      "source": [
        "... to verify that your selection criteria is correct and then replaced the find in your call by remove:"
      ],
      "metadata": {
        "id": "IgqeM8FhhTBS"
      }
    },
    {
      "cell_type": "code",
      "source": [
        "query = \"\"\"\n",
        "db.films.remove({\"title\": /^T/})\n",
        "\"\"\"\n",
        "\n",
        "!mongo --quiet --eval '{query}'"
      ],
      "metadata": {
        "id": "6oqgb3vghax2",
        "colab": {
          "base_uri": "https://localhost:8080/"
        },
        "outputId": "82b7de51-2f2c-4bb2-cc6c-b3526f8cd084"
      },
      "execution_count": 41,
      "outputs": [
        {
          "output_type": "stream",
          "name": "stdout",
          "text": [
            "WriteResult({ \"nRemoved\" : 2 })\n"
          ]
        }
      ]
    },
    {
      "cell_type": "markdown",
      "source": [
        "Now, we verify if the documents has been removed from the collection:"
      ],
      "metadata": {
        "id": "lslKky9-hd8x"
      }
    },
    {
      "cell_type": "code",
      "source": [
        "query = \"\"\"\n",
        "db.films.find()\n",
        "\"\"\"\n",
        "\n",
        "!mongo --quiet --eval '{query}'"
      ],
      "metadata": {
        "id": "aF-8cSNbhmyV",
        "colab": {
          "base_uri": "https://localhost:8080/"
        },
        "outputId": "cc9e8fa4-47c5-4a16-92f5-2181f38a272e"
      },
      "execution_count": 42,
      "outputs": [
        {
          "output_type": "stream",
          "name": "stdout",
          "text": [
            "{ \"_id\" : ObjectId(\"66726e29b7f6d4ef0390b281\"), \"title\" : \"Star Trek Into Darkness\", \"year\" : 2013, \"genre\" : [ \"Action\", \"Adventure\", \"Sci-Fi\" ], \"actors\" : [ \"Pine, Chris\", \"Quinto, Zachary\", \"Saldana, Zoe\" ], \"releases\" : [ { \"country\" : \"USA\", \"date\" : ISODate(\"2013-05-17T00:00:00Z\"), \"prerelease\" : true }, { \"country\" : \"Germany\", \"date\" : ISODate(\"2003-05-16T00:00:00Z\"), \"prerelease\" : false } ], \"rating\" : 6.5 }\n",
            "{ \"_id\" : ObjectId(\"66726e2a42bb88b5f69d3bd1\"), \"title\" : \"Iron Man 3\", \"year\" : 2013, \"genre\" : [ \"Action\", \"Adventure\", \"Sci-Fi\" ], \"actors\" : [ \"Downey Jr., Robert\", \"Paltrow, Gwyneth\" ] }\n"
          ]
        }
      ]
    },
    {
      "cell_type": "code",
      "source": [],
      "metadata": {
        "id": "l_BuxSD_rcup"
      },
      "execution_count": 42,
      "outputs": []
    }
  ]
}