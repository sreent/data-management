{
  "nbformat": 4,
  "nbformat_minor": 0,
  "metadata": {
    "colab": {
      "provenance": [],
      "include_colab_link": true
    },
    "kernelspec": {
      "display_name": "Python 3",
      "language": "python",
      "name": "python3"
    }
  },
  "cells": [
    {
      "cell_type": "markdown",
      "metadata": {
        "id": "view-in-github",
        "colab_type": "text"
      },
      "source": [
        "<a href=\"https://colab.research.google.com/github/sreent/data-management-intro/blob/main/XPath%20Hand-On%20Lab%20-%20Solutions.ipynb\" target=\"_parent\"><img src=\"https://colab.research.google.com/assets/colab-badge.svg\" alt=\"Open In Colab\"/></a>"
      ]
    },
    {
      "metadata": {
        "id": "vM6ta952S2z2"
      },
      "cell_type": "markdown",
      "source": [
        "# 1 Introduction to XPath\n",
        "\n",
        "XPath (XML Path Language) is a query language for selecting nodes from an XML document. It provides a way to navigate through elements and attributes in XML."
      ]
    },
    {
      "cell_type": "markdown",
      "source": [
        "# 2 Setting Up XPaht Environment\n",
        "\n",
        "First, we need to install the `lxml` library, which provides a powerful API for XML and HTML parsing."
      ],
      "metadata": {
        "id": "0LGk4rAcB7YK"
      }
    },
    {
      "cell_type": "code",
      "source": [
        "# Install lxml library\n",
        "!pip install lxml"
      ],
      "metadata": {
        "id": "zgXgWsKqFlWM"
      },
      "execution_count": null,
      "outputs": []
    },
    {
      "cell_type": "markdown",
      "source": [
        "We also need to import the display tools from IPython."
      ],
      "metadata": {
        "id": "nxFFaZ5KKWR1"
      }
    },
    {
      "cell_type": "code",
      "source": [
        "# Import display tools\n",
        "from IPython.display import display, HTML, Markdown"
      ],
      "metadata": {
        "id": "2KLaaodNKXZd"
      },
      "execution_count": null,
      "outputs": []
    },
    {
      "cell_type": "markdown",
      "source": [
        "# 3. Sample XML Data\n",
        "\n",
        "Let's start with a sample XML document. We will use this XML data for our XPath queries."
      ],
      "metadata": {
        "id": "f8wxprLvCP5E"
      }
    },
    {
      "cell_type": "code",
      "source": [
        "xml_data = \"\"\"\n",
        "<library>\n",
        "    <book id=\"1\">\n",
        "        <title>Python Programming</title>\n",
        "        <author>John Doe</author>\n",
        "        <year>2020</year>\n",
        "        <price>29.99</price>\n",
        "    </book>\n",
        "    <book id=\"2\">\n",
        "        <title>Learning XPath</title>\n",
        "        <author>Jane Smith</author>\n",
        "        <year>2019</year>\n",
        "        <price>19.99</price>\n",
        "    </book>\n",
        "    <book id=\"3\">\n",
        "        <title>Data Science Handbook</title>\n",
        "        <author>Emily Davis</author>\n",
        "        <year>2018</year>\n",
        "        <price>39.99</price>\n",
        "    </book>\n",
        "</library>\n",
        "\"\"\""
      ],
      "metadata": {
        "id": "J8U76XcPCQTe"
      },
      "execution_count": null,
      "outputs": []
    },
    {
      "cell_type": "markdown",
      "source": [
        "# 4. Parsing XML Data\n",
        "\n",
        "We will use the `lxml` library to parse the XML data."
      ],
      "metadata": {
        "id": "ncr8F5pRCbmb"
      }
    },
    {
      "cell_type": "code",
      "source": [
        "from lxml import etree\n",
        "\n",
        "# Parse the XML data\n",
        "root = etree.fromstring(xml_data)\n",
        "\n",
        "# Display the root tag to verify parsing\n",
        "root.tag"
      ],
      "metadata": {
        "id": "f2q4bBmFNQuA"
      },
      "execution_count": null,
      "outputs": []
    },
    {
      "cell_type": "markdown",
      "source": [
        "# 5. Utility Function to Display XML Nodes\n",
        "\n",
        "Define a utility function to simplify displaying XML content."
      ],
      "metadata": {
        "id": "zi7YksTPGlBH"
      }
    },
    {
      "cell_type": "code",
      "source": [
        "# Utility function to display XML content without empty lines\n",
        "def display_xml(nodes):\n",
        "    for node in nodes:\n",
        "        xml_str = etree.tostring(node, pretty_print=True, encoding='unicode').strip()\n",
        "        display(Markdown(f'```xml\\n{xml_str}\\n```'))"
      ],
      "metadata": {
        "id": "itVBhf6uGm3f"
      },
      "execution_count": null,
      "outputs": []
    },
    {
      "cell_type": "markdown",
      "source": [
        "# 6. Basic XPath Queries\n",
        "\n",
        "Let's start with some basic XPath queries to extract information from the XML document."
      ],
      "metadata": {
        "id": "ZK39BLCHmVUa"
      }
    },
    {
      "cell_type": "markdown",
      "source": [
        "**a. Extract all book titles:**"
      ],
      "metadata": {
        "id": "qXVCAX1xmz2q"
      }
    },
    {
      "cell_type": "code",
      "source": [
        "# Extract all book title nodes\n",
        "title_nodes = root.xpath('//book/title')\n",
        "# Display the content of title nodes\n",
        "display_xml(title_nodes)"
      ],
      "metadata": {
        "id": "BSsXBUfhaJp9"
      },
      "execution_count": null,
      "outputs": []
    },
    {
      "cell_type": "markdown",
      "source": [
        "**b. Extract the author of the first book:**"
      ],
      "metadata": {
        "id": "MYRMT54Xn1EB"
      }
    },
    {
      "cell_type": "code",
      "source": [
        "# Extract the author node of the first book\n",
        "author_first_book = root.xpath('//book[1]/author')\n",
        "# Display the content of the author node\n",
        "display_xml(author_first_book)"
      ],
      "metadata": {
        "id": "W0agPtBpNpc3"
      },
      "execution_count": null,
      "outputs": []
    },
    {
      "cell_type": "markdown",
      "source": [
        "**c. Extract all prices:**"
      ],
      "metadata": {
        "id": "G1mRdeRFoXaY"
      }
    },
    {
      "cell_type": "code",
      "source": [
        "# Extract all price nodes\n",
        "price_nodes = root.xpath('//book/price')\n",
        "# Display the content of price nodes\n",
        "display_xml(price_nodes)"
      ],
      "metadata": {
        "id": "M7lCulsSjqun"
      },
      "execution_count": null,
      "outputs": []
    },
    {
      "cell_type": "markdown",
      "source": [
        "# 7. Advanced XPath Queries\n",
        "\n",
        "Now, let's move on to some advanced queries."
      ],
      "metadata": {
        "id": "O6kaX0jfHxXa"
      }
    },
    {
      "cell_type": "markdown",
      "source": [
        "**a. Extract books published after 2018:**"
      ],
      "metadata": {
        "id": "idHUEHFHowWX"
      }
    },
    {
      "cell_type": "code",
      "source": [
        "# Extract book nodes published after 2018\n",
        "books_after_2018 = root.xpath('//book[year > 2018]')\n",
        "# Display the content of the book nodes\n",
        "display_xml(books_after_2018)"
      ],
      "metadata": {
        "id": "5nCpwNFMc5g8"
      },
      "execution_count": null,
      "outputs": []
    },
    {
      "cell_type": "markdown",
      "source": [
        "**b. Extract the title and price of books that cost more than $20:**"
      ],
      "metadata": {
        "id": "xUYJCDrXIKBI"
      }
    },
    {
      "cell_type": "code",
      "source": [
        "# Extract book nodes with price greater than $20\n",
        "expensive_books = root.xpath('//book[price > 20]')\n",
        "# Display the content of the book nodes\n",
        "display_xml(expensive_books)"
      ],
      "metadata": {
        "id": "RbUMVaNzdOvx"
      },
      "execution_count": null,
      "outputs": []
    },
    {
      "cell_type": "markdown",
      "source": [
        "**c. Extract book details with a specific attribute:**"
      ],
      "metadata": {
        "id": "YCNewqotISMZ"
      }
    },
    {
      "cell_type": "code",
      "source": [
        "# Extract book node with id=2\n",
        "book_id_2 = root.xpath('//book[@id=\"2\"]')\n",
        "# Display the content of the book node\n",
        "display_xml(book_id_2)"
      ],
      "metadata": {
        "id": "oeYt0rqzpKnr"
      },
      "execution_count": null,
      "outputs": []
    },
    {
      "cell_type": "markdown",
      "source": [
        "# 8. Exploring Lists and Parent Navigation\n",
        "\n",
        "XPath also allows navigating lists and moving to the parent level using `..`.\n"
      ],
      "metadata": {
        "id": "OtseGmERr9jQ"
      }
    },
    {
      "cell_type": "markdown",
      "source": [
        "**a. Extract titles of all books (list example):**\n"
      ],
      "metadata": {
        "id": "GPj9LFGrsyyE"
      }
    },
    {
      "cell_type": "code",
      "source": [
        "# Extract all book title nodes\n",
        "book_titles_nodes = root.xpath('//book/title')\n",
        "# Display the content of title nodes\n",
        "display_xml(book_titles_nodes)"
      ],
      "metadata": {
        "id": "TWRu81nReEw2"
      },
      "execution_count": null,
      "outputs": []
    },
    {
      "cell_type": "markdown",
      "source": [
        "**b. Navigate to the parent and back down to another child:**"
      ],
      "metadata": {
        "id": "wncBlxCctOPr"
      }
    },
    {
      "cell_type": "code",
      "source": [
        "# Navigate to the parent of the first book's title and get the price\n",
        "parent_price_node = root.xpath('//book/title[text()=\"Python Programming\"]/../price')\n",
        "# Display the content of the price node\n",
        "display_xml(parent_price_node)"
      ],
      "metadata": {
        "id": "AZXxnpqEfwc-"
      },
      "execution_count": null,
      "outputs": []
    },
    {
      "cell_type": "markdown",
      "source": [
        "**c. Use `..` to navigate from an element to its parent and then select another sibling:**"
      ],
      "metadata": {
        "id": "b8zsF3bWtb8H"
      }
    },
    {
      "cell_type": "code",
      "source": [
        "# Use '..' to navigate from author to title\n",
        "titles_from_authors_nodes = root.xpath('//book/author[text()=\"Jane Smith\"]/../title')\n",
        "# Display the content of title nodes\n",
        "display_xml(titles_from_authors_nodes)"
      ],
      "metadata": {
        "id": "wAPyCIANhTKa"
      },
      "execution_count": null,
      "outputs": []
    },
    {
      "cell_type": "markdown",
      "source": [
        "# 9. Using `//` and Wildcard `*` in XPath"
      ],
      "metadata": {
        "id": "tCSPpGWnItwW"
      }
    },
    {
      "cell_type": "markdown",
      "source": [
        "**a. Using `//` to select nodes regardless of their position in the document:**"
      ],
      "metadata": {
        "id": "TouNO91iIw9S"
      }
    },
    {
      "cell_type": "code",
      "source": [
        "# Extract all author nodes regardless of their position in the document\n",
        "all_authors_nodes = root.xpath('//author')\n",
        "# Display the content of author nodes\n",
        "display_xml(all_authors_nodes)"
      ],
      "metadata": {
        "id": "Nlhzy-5iuKOb"
      },
      "execution_count": null,
      "outputs": []
    },
    {
      "cell_type": "markdown",
      "source": [
        "**b. Using the wildcard `*` to select any element:**"
      ],
      "metadata": {
        "id": "JfQzY-0_txxA"
      }
    },
    {
      "cell_type": "code",
      "source": [
        "# Extract all child nodes of the first book\n",
        "first_book_children = root.xpath('//book[1]/*')\n",
        "# Display the content of child nodes\n",
        "display_xml(first_book_children)"
      ],
      "metadata": {
        "id": "REjidHpai09t"
      },
      "execution_count": null,
      "outputs": []
    },
    {
      "cell_type": "markdown",
      "source": [
        "**c. Combine `//` and `*` to select all elements:**"
      ],
      "metadata": {
        "id": "0mRGZCvCI9bD"
      }
    },
    {
      "cell_type": "code",
      "source": [
        "# Extract all elements in the document\n",
        "all_elements = root.xpath('//*')\n",
        "# Display the content of all elements\n",
        "display_xml(all_elements)"
      ],
      "metadata": {
        "id": "3z_IB5e7uHtx"
      },
      "execution_count": null,
      "outputs": []
    },
    {
      "cell_type": "markdown",
      "source": [
        "# 10. Additional XPath Functions and Expressions\n"
      ],
      "metadata": {
        "id": "5UFXSyVBunOA"
      }
    },
    {
      "cell_type": "markdown",
      "source": [
        "**a. Using `@` to Select Attributes:**"
      ],
      "metadata": {
        "id": "qHmOq4b4JF9j"
      }
    },
    {
      "cell_type": "code",
      "source": [
        "# Extract the IDs of all books\n",
        "book_ids = root.xpath('//book/@id')\n",
        "book_ids"
      ],
      "metadata": {
        "id": "w1O1klukufCL"
      },
      "execution_count": null,
      "outputs": []
    },
    {
      "cell_type": "markdown",
      "source": [
        "**b. Using Position Functions:**"
      ],
      "metadata": {
        "id": "sdbYCpZ0JMSS"
      }
    },
    {
      "cell_type": "code",
      "source": [
        "# Extract the title of the last book\n",
        "last_book_title_node = root.xpath('//book[last()]/title')\n",
        "# Display the content of the title node\n",
        "display_xml(last_book_title_node)"
      ],
      "metadata": {
        "id": "_9_ogoGTu_4N"
      },
      "execution_count": null,
      "outputs": []
    },
    {
      "cell_type": "code",
      "source": [
        "# Extract the titles of the first two books\n",
        "first_two_books_title_nodes = root.xpath('//book[position() <= 2]/title')\n",
        "# Display the content of the title nodes\n",
        "display_xml(first_two_books_title_nodes)"
      ],
      "metadata": {
        "id": "x1ncF0kGJSYk"
      },
      "execution_count": null,
      "outputs": []
    },
    {
      "cell_type": "markdown",
      "source": [
        "**c. Using Boolean Functions:**"
      ],
      "metadata": {
        "id": "E-NcrapfvntT"
      }
    },
    {
      "cell_type": "code",
      "source": [
        "# Check if there are any books published in 2020\n",
        "books_2020 = root.xpath('boolean(//book[year=2020])')\n",
        "books_2020"
      ],
      "metadata": {
        "id": "j1_qs4YWvSPR"
      },
      "execution_count": null,
      "outputs": []
    },
    {
      "cell_type": "markdown",
      "source": [
        "**d. Using Aggregation Functions:**"
      ],
      "metadata": {
        "id": "JBFK2hgtJcQW"
      }
    },
    {
      "cell_type": "code",
      "source": [
        "# Count the number of books\n",
        "book_count = root.xpath('count(//book)')\n",
        "book_count"
      ],
      "metadata": {
        "id": "9UgslSuiwQZo"
      },
      "execution_count": null,
      "outputs": []
    },
    {
      "cell_type": "markdown",
      "source": [
        "**e. Combining Functions:**"
      ],
      "metadata": {
        "id": "YLs5l3pXwfea"
      }
    },
    {
      "cell_type": "code",
      "source": [
        "# Extract titles and authors of books costing more than $20\n",
        "expensive_books_nodes = root.xpath('//book[price > 20]')\n",
        "# Display the content of the book nodes\n",
        "display_xml(expensive_books_nodes)"
      ],
      "metadata": {
        "id": "j7411YVlwXFH"
      },
      "execution_count": null,
      "outputs": []
    },
    {
      "cell_type": "markdown",
      "source": [
        "# 11. Conclusion\n",
        "\n",
        "XPath is a powerful tool for navigating and querying XML documents. In this lab, we've covered basic to advanced XPath queries, explored lists, navigated using `..`, used `//` to select nodes regardless of their position, utilized the wildcard `*`, and explored various XPath functions and expressions without always relying on `text()`. You can further explore XPath to handle more complex XML structures and queries.\n",
        "\n"
      ],
      "metadata": {
        "id": "MSqUGlQMJm6Q"
      }
    },
    {
      "cell_type": "code",
      "source": [],
      "metadata": {
        "id": "nBcu4xjWMvPz"
      },
      "execution_count": null,
      "outputs": []
    }
  ]
}