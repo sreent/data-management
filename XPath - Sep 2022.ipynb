{
  "nbformat": 4,
  "nbformat_minor": 0,
  "metadata": {
    "colab": {
      "provenance": [],
      "include_colab_link": true
    },
    "kernelspec": {
      "display_name": "Python 3",
      "language": "python",
      "name": "python3"
    }
  },
  "cells": [
    {
      "cell_type": "markdown",
      "metadata": {
        "id": "view-in-github",
        "colab_type": "text"
      },
      "source": [
        "<a href=\"https://colab.research.google.com/github/sreent/data-management-intro/blob/main/XPath%20-%20Sep%202022.ipynb\" target=\"_parent\"><img src=\"https://colab.research.google.com/assets/colab-badge.svg\" alt=\"Open In Colab\"/></a>"
      ]
    },
    {
      "metadata": {
        "id": "vM6ta952S2z2"
      },
      "cell_type": "markdown",
      "source": [
        "# 1 Introduction to XPath\n",
        "\n",
        "XPath (XML Path Language) is a query language for selecting nodes from an XML document. It provides a way to navigate through elements and attributes in XML."
      ]
    },
    {
      "cell_type": "markdown",
      "source": [
        "# 2 Setting Up XPaht Environment\n",
        "\n",
        "First, we need to install the `lxml` library, which provides a powerful API for XML and HTML parsing."
      ],
      "metadata": {
        "id": "0LGk4rAcB7YK"
      }
    },
    {
      "cell_type": "code",
      "source": [
        "# Install lxml library\n",
        "!pip install lxml"
      ],
      "metadata": {
        "id": "zgXgWsKqFlWM"
      },
      "execution_count": null,
      "outputs": []
    },
    {
      "cell_type": "markdown",
      "source": [
        "We also need to import the display tools from IPython."
      ],
      "metadata": {
        "id": "nxFFaZ5KKWR1"
      }
    },
    {
      "cell_type": "code",
      "source": [
        "# Import display tools\n",
        "from IPython.display import display, HTML, Markdown"
      ],
      "metadata": {
        "id": "2KLaaodNKXZd"
      },
      "execution_count": null,
      "outputs": []
    },
    {
      "cell_type": "markdown",
      "source": [
        "# 3. Sample XML Data\n",
        "\n",
        "Let's start with a sample XML document. We will use this XML data for our XPath queries."
      ],
      "metadata": {
        "id": "f8wxprLvCP5E"
      }
    },
    {
      "cell_type": "code",
      "source": [
        "from lxml import etree\n",
        "\n",
        "xml_data = \"\"\"\n",
        "<?xml version=\"1.0\" encoding=\"UTF-8\"?>\n",
        "<TEI xml:id=\"manuscript_3945\" xmlns=\"http://www.tei-c.org/ns/1.0\">\n",
        "  <teiHeader xmlns:tei=\"http://www.tei-c.org/ns/1.0\">\n",
        "    <fileDesc>\n",
        "      <titleStmt>\n",
        "        <title>Christ Church MS. 341</title>\n",
        "        <title type=\"collection\">Christ Church MSS.</title>\n",
        "        <respStmt>\n",
        "          <resp>Cataloguer</resp>\n",
        "          <persName>Ralph Hanna</persName>\n",
        "          <persName>David Rundle</persName>\n",
        "        </respStmt>\n",
        "      </titleStmt>\n",
        "    </fileDesc>\n",
        "  </teiHeader>\n",
        "</TEI>\n",
        "\"\"\"\n",
        "\n",
        "# Clean the XML data to ensure no unwanted characters are before the declaration\n",
        "xml_data = xml_data.strip()"
      ],
      "metadata": {
        "id": "J8U76XcPCQTe"
      },
      "execution_count": null,
      "outputs": []
    },
    {
      "cell_type": "markdown",
      "source": [
        "# 4. Parsing XML Data\n",
        "\n",
        "We will use the `lxml` library to parse the XML data."
      ],
      "metadata": {
        "id": "ncr8F5pRCbmb"
      }
    },
    {
      "cell_type": "code",
      "source": [
        "# Convert the XML string to a byte string\n",
        "xml_data_bytes = xml_data.encode('utf-8')\n",
        "\n",
        "# Parse the XML data\n",
        "root = etree.fromstring(xml_data_bytes)\n",
        "\n",
        "# Display the root tag to verify parsing\n",
        "root.tag"
      ],
      "metadata": {
        "id": "f2q4bBmFNQuA"
      },
      "execution_count": null,
      "outputs": []
    },
    {
      "cell_type": "markdown",
      "source": [
        "# 5. Utility Function to Display XML Nodes\n",
        "\n",
        "Define a utility function to simplify displaying XML content."
      ],
      "metadata": {
        "id": "zi7YksTPGlBH"
      }
    },
    {
      "cell_type": "code",
      "source": [
        "# Utility function to display XML attribute values\n",
        "def display_values(values):\n",
        "    for value in values:\n",
        "        display(Markdown(f'```text\\n{value}\\n```'))"
      ],
      "metadata": {
        "id": "itVBhf6uGm3f"
      },
      "execution_count": null,
      "outputs": []
    },
    {
      "cell_type": "markdown",
      "source": [
        "# 6. XPath Queries\n",
        "\n",
        "Let's start with some basic XPath queries to extract information from the XML document."
      ],
      "metadata": {
        "id": "ZK39BLCHmVUa"
      }
    },
    {
      "cell_type": "code",
      "source": [
        "# Define namespaces (if any)\n",
        "namespaces = {'tei': 'http://www.tei-c.org/ns/1.0'}\n",
        "\n",
        "# Adjust XPath query to include namespace\n",
        "results = root.xpath('//tei:fileDesc//tei:title/@type', namespaces=namespaces)\n",
        "\n",
        "# Display the content of title attribute values\n",
        "display_values(results)"
      ],
      "metadata": {
        "id": "BSsXBUfhaJp9"
      },
      "execution_count": null,
      "outputs": []
    },
    {
      "cell_type": "code",
      "source": [
        "# Adjust XPath query to include namespace\n",
        "results = root.xpath('//tei:resp[text()=\"Cataloguer\"]/../tei:persName', namespaces=namespaces)\n",
        "\n",
        "# Extract the text from each <persName> element\n",
        "names = [name.text for name in results]\n",
        "\n",
        "# Display the names\n",
        "display_values(names)"
      ],
      "metadata": {
        "id": "b23IMfX5Sgi_"
      },
      "execution_count": null,
      "outputs": []
    },
    {
      "cell_type": "code",
      "source": [],
      "metadata": {
        "id": "D1JzJQgASsXH"
      },
      "execution_count": null,
      "outputs": []
    }
  ]
}